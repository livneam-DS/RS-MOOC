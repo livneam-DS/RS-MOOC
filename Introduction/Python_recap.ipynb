{
  "nbformat": 4,
  "nbformat_minor": 0,
  "metadata": {
    "colab": {
      "name": "1.3.7 Python recap.ipynb",
      "provenance": [],
      "collapsed_sections": [],
      "toc_visible": true
    },
    "kernelspec": {
      "name": "python3",
      "display_name": "Python 3"
    }
  },
  "cells": [
    {
      "cell_type": "code",
      "metadata": {
        "id": "3jjhzV467gKg"
      },
      "source": [
        "# Python Programming Examples: https://www.geeksforgeeks.org/python-programming-examples/\n",
        "# An important guide for programing with python: https://learn.datacamp.com/career-tracks/data-scientist-with-python\n",
        "# Data science Handbook including examples in colab: https://jakevdp.github.io/PythonDataScienceHandbook/\n",
        "# Dataframe codebook: https://pandas.pydata.org/pandas-docs/stable/user_guide/cookbook.html#cookbook\n",
        "# Recommended machine learning blog by Jason Brownlee: https://machinelearningmastery.com/start-here/\n"
      ],
      "execution_count": 1,
      "outputs": []
    },
    {
      "cell_type": "markdown",
      "metadata": {
        "id": "Jqry8aJbdEV9"
      },
      "source": [
        "In today's notebook, we will make sure that you can control some basic functionality of python.\n",
        "\n",
        "\n"
      ]
    },
    {
      "cell_type": "markdown",
      "metadata": {
        "id": "nM9zvR5mdZuG"
      },
      "source": [
        "# Pandas"
      ]
    },
    {
      "cell_type": "code",
      "metadata": {
        "id": "Gedlcscfc8Xr",
        "colab": {
          "base_uri": "https://localhost:8080/"
        },
        "outputId": "bba5ddff-8d98-46fa-f1ca-2fddaa552afd"
      },
      "source": [
        "# create toy dataFrame from a dictionary \n",
        "import pandas as pd\n",
        " \n",
        "# create data of lists.\n",
        "data = {'Name':['Johnathan', 'Amit', 'Rachel','Joe','Jennifer'],\n",
        "        'Age':[20, 31, 29,32,28]}\n",
        " \n",
        "# create a DataFrame\n",
        "df = pd.DataFrame(data)\n",
        " \n",
        "# print the output.\n",
        "print(df)\n"
      ],
      "execution_count": 2,
      "outputs": [
        {
          "output_type": "stream",
          "text": [
            "        Name  Age\n",
            "0  Johnathan   20\n",
            "1       Amit   31\n",
            "2     Rachel   29\n",
            "3        Joe   32\n",
            "4   Jennifer   28\n"
          ],
          "name": "stdout"
        }
      ]
    },
    {
      "cell_type": "code",
      "metadata": {
        "id": "2wBkeKjReMwS",
        "colab": {
          "base_uri": "https://localhost:8080/",
          "height": 108
        },
        "outputId": "29ffe438-6120-4b8c-b68a-cf223a923749"
      },
      "source": [
        "# display all records for pepole over 30 years old\r\n",
        "df[df['Age']>30]"
      ],
      "execution_count": 5,
      "outputs": [
        {
          "output_type": "execute_result",
          "data": {
            "text/html": [
              "<div>\n",
              "<style scoped>\n",
              "    .dataframe tbody tr th:only-of-type {\n",
              "        vertical-align: middle;\n",
              "    }\n",
              "\n",
              "    .dataframe tbody tr th {\n",
              "        vertical-align: top;\n",
              "    }\n",
              "\n",
              "    .dataframe thead th {\n",
              "        text-align: right;\n",
              "    }\n",
              "</style>\n",
              "<table border=\"1\" class=\"dataframe\">\n",
              "  <thead>\n",
              "    <tr style=\"text-align: right;\">\n",
              "      <th></th>\n",
              "      <th>Name</th>\n",
              "      <th>Age</th>\n",
              "    </tr>\n",
              "  </thead>\n",
              "  <tbody>\n",
              "    <tr>\n",
              "      <th>1</th>\n",
              "      <td>Amit</td>\n",
              "      <td>31</td>\n",
              "    </tr>\n",
              "    <tr>\n",
              "      <th>3</th>\n",
              "      <td>Joe</td>\n",
              "      <td>32</td>\n",
              "    </tr>\n",
              "  </tbody>\n",
              "</table>\n",
              "</div>"
            ],
            "text/plain": [
              "   Name  Age\n",
              "1  Amit   31\n",
              "3   Joe   32"
            ]
          },
          "metadata": {
            "tags": []
          },
          "execution_count": 5
        }
      ]
    },
    {
      "cell_type": "code",
      "metadata": {
        "id": "VADkQIKjeSDG"
      },
      "source": [
        "# make a copy of the dataFrame and change the names to lower case, print both dataframes to see the differences."
      ],
      "execution_count": 6,
      "outputs": []
    },
    {
      "cell_type": "code",
      "metadata": {
        "id": "aLSMNn3vezSV",
        "colab": {
          "base_uri": "https://localhost:8080/"
        },
        "outputId": "3fde2c9f-19f1-42e4-db9a-d58a534a5658"
      },
      "source": [
        "df2 = df.copy()\n",
        "df2['Name'] = df2['Name'].str.lower()\n",
        "print(df2)\n",
        "print(df)"
      ],
      "execution_count": 7,
      "outputs": [
        {
          "output_type": "stream",
          "text": [
            "        Name  Age\n",
            "0  johnathan   20\n",
            "1       amit   31\n",
            "2     rachel   29\n",
            "3        joe   32\n",
            "4   jennifer   28\n",
            "        Name  Age\n",
            "0  Johnathan   20\n",
            "1       Amit   31\n",
            "2     Rachel   29\n",
            "3        Joe   32\n",
            "4   Jennifer   28\n"
          ],
          "name": "stdout"
        }
      ]
    },
    {
      "cell_type": "code",
      "metadata": {
        "id": "wywQ4_0KfXhH",
        "colab": {
          "base_uri": "https://localhost:8080/",
          "height": 198
        },
        "outputId": "bcf5c142-6289-426e-e1fb-d19dbd6e6f61"
      },
      "source": [
        "# Add new column to the dataFrame \n",
        "# Declare a list that is to be converted into a column \n",
        "address = ['Dallas', 'Paris', 'NY', 'Turin',None] \n",
        "  \n",
        "# Using 'Address' as the column name \n",
        "# and equating it to the list \n",
        "df['Address'] = address \n",
        "  \n",
        "# Observe the result \n",
        "df "
      ],
      "execution_count": 11,
      "outputs": [
        {
          "output_type": "execute_result",
          "data": {
            "text/html": [
              "<div>\n",
              "<style scoped>\n",
              "    .dataframe tbody tr th:only-of-type {\n",
              "        vertical-align: middle;\n",
              "    }\n",
              "\n",
              "    .dataframe tbody tr th {\n",
              "        vertical-align: top;\n",
              "    }\n",
              "\n",
              "    .dataframe thead th {\n",
              "        text-align: right;\n",
              "    }\n",
              "</style>\n",
              "<table border=\"1\" class=\"dataframe\">\n",
              "  <thead>\n",
              "    <tr style=\"text-align: right;\">\n",
              "      <th></th>\n",
              "      <th>Name</th>\n",
              "      <th>Age</th>\n",
              "      <th>Address</th>\n",
              "    </tr>\n",
              "  </thead>\n",
              "  <tbody>\n",
              "    <tr>\n",
              "      <th>0</th>\n",
              "      <td>Johnathan</td>\n",
              "      <td>20</td>\n",
              "      <td>Dallas</td>\n",
              "    </tr>\n",
              "    <tr>\n",
              "      <th>1</th>\n",
              "      <td>Amit</td>\n",
              "      <td>31</td>\n",
              "      <td>Paris</td>\n",
              "    </tr>\n",
              "    <tr>\n",
              "      <th>2</th>\n",
              "      <td>Rachel</td>\n",
              "      <td>29</td>\n",
              "      <td>NY</td>\n",
              "    </tr>\n",
              "    <tr>\n",
              "      <th>3</th>\n",
              "      <td>Joe</td>\n",
              "      <td>32</td>\n",
              "      <td>Turin</td>\n",
              "    </tr>\n",
              "    <tr>\n",
              "      <th>4</th>\n",
              "      <td>Jennifer</td>\n",
              "      <td>28</td>\n",
              "      <td>None</td>\n",
              "    </tr>\n",
              "  </tbody>\n",
              "</table>\n",
              "</div>"
            ],
            "text/plain": [
              "        Name  Age Address\n",
              "0  Johnathan   20  Dallas\n",
              "1       Amit   31   Paris\n",
              "2     Rachel   29      NY\n",
              "3        Joe   32   Turin\n",
              "4   Jennifer   28    None"
            ]
          },
          "metadata": {
            "tags": []
          },
          "execution_count": 11
        }
      ]
    },
    {
      "cell_type": "code",
      "metadata": {
        "id": "kpMFDf0tfpri"
      },
      "source": [
        "# fill None value with the value: Unkown, use inplace == True. Inplace argument "
      ],
      "execution_count": 12,
      "outputs": []
    },
    {
      "cell_type": "markdown",
      "metadata": {
        "id": "UtG2mKdygJZZ"
      },
      "source": [
        "When inplace = True, the data is modified in place, which means it will return nothing, and the dataframe is now updated.\n",
        "\n",
        "When inplace = False, which is the default, then the operation is performed, and it returns a copy of the object. You then need to save it to something"
      ]
    },
    {
      "cell_type": "code",
      "metadata": {
        "id": "NqLjOyAffw5M"
      },
      "source": [
        "df['Address'].fillna('Unkown',inplace=True)"
      ],
      "execution_count": 13,
      "outputs": []
    },
    {
      "cell_type": "code",
      "metadata": {
        "id": "1LJkkKZkf4Zc",
        "colab": {
          "base_uri": "https://localhost:8080/",
          "height": 198
        },
        "outputId": "0176dc0c-9fe8-45ab-d292-cd99e18b474d"
      },
      "source": [
        "df"
      ],
      "execution_count": 14,
      "outputs": [
        {
          "output_type": "execute_result",
          "data": {
            "text/html": [
              "<div>\n",
              "<style scoped>\n",
              "    .dataframe tbody tr th:only-of-type {\n",
              "        vertical-align: middle;\n",
              "    }\n",
              "\n",
              "    .dataframe tbody tr th {\n",
              "        vertical-align: top;\n",
              "    }\n",
              "\n",
              "    .dataframe thead th {\n",
              "        text-align: right;\n",
              "    }\n",
              "</style>\n",
              "<table border=\"1\" class=\"dataframe\">\n",
              "  <thead>\n",
              "    <tr style=\"text-align: right;\">\n",
              "      <th></th>\n",
              "      <th>Name</th>\n",
              "      <th>Age</th>\n",
              "      <th>Address</th>\n",
              "    </tr>\n",
              "  </thead>\n",
              "  <tbody>\n",
              "    <tr>\n",
              "      <th>0</th>\n",
              "      <td>Johnathan</td>\n",
              "      <td>20</td>\n",
              "      <td>Dallas</td>\n",
              "    </tr>\n",
              "    <tr>\n",
              "      <th>1</th>\n",
              "      <td>Amit</td>\n",
              "      <td>31</td>\n",
              "      <td>Paris</td>\n",
              "    </tr>\n",
              "    <tr>\n",
              "      <th>2</th>\n",
              "      <td>Rachel</td>\n",
              "      <td>29</td>\n",
              "      <td>NY</td>\n",
              "    </tr>\n",
              "    <tr>\n",
              "      <th>3</th>\n",
              "      <td>Joe</td>\n",
              "      <td>32</td>\n",
              "      <td>Turin</td>\n",
              "    </tr>\n",
              "    <tr>\n",
              "      <th>4</th>\n",
              "      <td>Jennifer</td>\n",
              "      <td>28</td>\n",
              "      <td>Unkown</td>\n",
              "    </tr>\n",
              "  </tbody>\n",
              "</table>\n",
              "</div>"
            ],
            "text/plain": [
              "        Name  Age Address\n",
              "0  Johnathan   20  Dallas\n",
              "1       Amit   31   Paris\n",
              "2     Rachel   29      NY\n",
              "3        Joe   32   Turin\n",
              "4   Jennifer   28  Unkown"
            ]
          },
          "metadata": {
            "tags": []
          },
          "execution_count": 14
        }
      ]
    },
    {
      "cell_type": "code",
      "metadata": {
        "id": "Krc1zPOkilar"
      },
      "source": [
        "# How to read and write to files with pandas: https://realpython.com/pandas-read-write-files/#:~:text=Pandas%20is%20a%20powerful%20and,many%20other%20types%20of%20files."
      ],
      "execution_count": 15,
      "outputs": []
    },
    {
      "cell_type": "markdown",
      "metadata": {
        "id": "mroLRa2aM4rs"
      },
      "source": [
        "# Load Data"
      ]
    },
    {
      "cell_type": "markdown",
      "metadata": {
        "id": "pqeIQHLV35ee"
      },
      "source": [
        "Let's load the pokemon dataset from the Kaggle competition. [Pokemon dataset](https://www.kaggle.com/rounakbanik/pokemon?select=pokemon.csv) You can either download it locally to your PC and then upload it to collab. Or, use Kaggle to download it directly into your collab: [Easiest way to download kaggle data in Google Colab](https://www.kaggle.com/general/74235).\n",
        "\n",
        "Alternatively, you can connect this notebook to your 'Google-Drive'. Make sure you downloaded the dataset to your 'Google-Drive', and you create a corresponding path."
      ]
    },
    {
      "cell_type": "code",
      "metadata": {
        "colab": {
          "base_uri": "https://localhost:8080/"
        },
        "id": "U8Sxd3oSMFbl",
        "outputId": "7fa275f9-1e9f-498d-8dfc-ae2f9cc995ff"
      },
      "source": [
        "from google.colab import drive\r\n",
        "drive.mount('/content/drive')"
      ],
      "execution_count": 17,
      "outputs": [
        {
          "output_type": "stream",
          "text": [
            "Mounted at /content/drive\n"
          ],
          "name": "stdout"
        }
      ]
    },
    {
      "cell_type": "code",
      "metadata": {
        "id": "cMQr2LvUMCBu"
      },
      "source": [
        "#Make sure you downloaded the dataset and you create such a path, alternativly - changed this path\r\n",
        "import os\r\n",
        "PATH = '/content/drive/My Drive/Recommender Systems/Introduction'\r\n",
        "os.chdir(PATH)"
      ],
      "execution_count": 23,
      "outputs": []
    },
    {
      "cell_type": "code",
      "metadata": {
        "id": "2cjeLvbs32UF",
        "colab": {
          "base_uri": "https://localhost:8080/",
          "height": 348
        },
        "outputId": "5838d43e-61f6-4bb6-cc09-1c4826f05639"
      },
      "source": [
        "# For demonstration lets load only the 'name' type1' and 'type2' columns and display the first 10 rows of this selected dataset.\n",
        "df = pd.read_csv('pokemon.csv',usecols=['name','type1','type2'])\n",
        "df.head(10)"
      ],
      "execution_count": 32,
      "outputs": [
        {
          "output_type": "execute_result",
          "data": {
            "text/html": [
              "<div>\n",
              "<style scoped>\n",
              "    .dataframe tbody tr th:only-of-type {\n",
              "        vertical-align: middle;\n",
              "    }\n",
              "\n",
              "    .dataframe tbody tr th {\n",
              "        vertical-align: top;\n",
              "    }\n",
              "\n",
              "    .dataframe thead th {\n",
              "        text-align: right;\n",
              "    }\n",
              "</style>\n",
              "<table border=\"1\" class=\"dataframe\">\n",
              "  <thead>\n",
              "    <tr style=\"text-align: right;\">\n",
              "      <th></th>\n",
              "      <th>name</th>\n",
              "      <th>type1</th>\n",
              "      <th>type2</th>\n",
              "    </tr>\n",
              "  </thead>\n",
              "  <tbody>\n",
              "    <tr>\n",
              "      <th>0</th>\n",
              "      <td>Bulbasaur</td>\n",
              "      <td>grass</td>\n",
              "      <td>poison</td>\n",
              "    </tr>\n",
              "    <tr>\n",
              "      <th>1</th>\n",
              "      <td>Ivysaur</td>\n",
              "      <td>grass</td>\n",
              "      <td>poison</td>\n",
              "    </tr>\n",
              "    <tr>\n",
              "      <th>2</th>\n",
              "      <td>Venusaur</td>\n",
              "      <td>grass</td>\n",
              "      <td>poison</td>\n",
              "    </tr>\n",
              "    <tr>\n",
              "      <th>3</th>\n",
              "      <td>Charmander</td>\n",
              "      <td>fire</td>\n",
              "      <td>NaN</td>\n",
              "    </tr>\n",
              "    <tr>\n",
              "      <th>4</th>\n",
              "      <td>Charmeleon</td>\n",
              "      <td>fire</td>\n",
              "      <td>NaN</td>\n",
              "    </tr>\n",
              "    <tr>\n",
              "      <th>5</th>\n",
              "      <td>Charizard</td>\n",
              "      <td>fire</td>\n",
              "      <td>flying</td>\n",
              "    </tr>\n",
              "    <tr>\n",
              "      <th>6</th>\n",
              "      <td>Squirtle</td>\n",
              "      <td>water</td>\n",
              "      <td>NaN</td>\n",
              "    </tr>\n",
              "    <tr>\n",
              "      <th>7</th>\n",
              "      <td>Wartortle</td>\n",
              "      <td>water</td>\n",
              "      <td>NaN</td>\n",
              "    </tr>\n",
              "    <tr>\n",
              "      <th>8</th>\n",
              "      <td>Blastoise</td>\n",
              "      <td>water</td>\n",
              "      <td>NaN</td>\n",
              "    </tr>\n",
              "    <tr>\n",
              "      <th>9</th>\n",
              "      <td>Caterpie</td>\n",
              "      <td>bug</td>\n",
              "      <td>NaN</td>\n",
              "    </tr>\n",
              "  </tbody>\n",
              "</table>\n",
              "</div>"
            ],
            "text/plain": [
              "         name  type1   type2\n",
              "0   Bulbasaur  grass  poison\n",
              "1     Ivysaur  grass  poison\n",
              "2    Venusaur  grass  poison\n",
              "3  Charmander   fire     NaN\n",
              "4  Charmeleon   fire     NaN\n",
              "5   Charizard   fire  flying\n",
              "6    Squirtle  water     NaN\n",
              "7   Wartortle  water     NaN\n",
              "8   Blastoise  water     NaN\n",
              "9    Caterpie    bug     NaN"
            ]
          },
          "metadata": {
            "tags": []
          },
          "execution_count": 32
        }
      ]
    },
    {
      "cell_type": "code",
      "metadata": {
        "id": "f0Au6L8w4xXW"
      },
      "source": [
        "# lets print the rows of indexes 4 till 8 (including 8) and save those records in a new dataframe: 'df2' "
      ],
      "execution_count": 33,
      "outputs": []
    },
    {
      "cell_type": "code",
      "metadata": {
        "id": "CujR4UL4582M",
        "colab": {
          "base_uri": "https://localhost:8080/"
        },
        "outputId": "4ab9b711-fd10-48fa-fe2b-aebda33e0833"
      },
      "source": [
        "df2 = df.loc[4:8]\n",
        "print(df2)"
      ],
      "execution_count": 34,
      "outputs": [
        {
          "output_type": "stream",
          "text": [
            "         name  type1   type2\n",
            "4  Charmeleon   fire     NaN\n",
            "5   Charizard   fire  flying\n",
            "6    Squirtle  water     NaN\n",
            "7   Wartortle  water     NaN\n",
            "8   Blastoise  water     NaN\n"
          ],
          "name": "stdout"
        }
      ]
    },
    {
      "cell_type": "code",
      "metadata": {
        "id": "npZW6_5G6BFZ"
      },
      "source": [
        "#We will use the name of the pokemon as the index of this dataframe"
      ],
      "execution_count": 35,
      "outputs": []
    },
    {
      "cell_type": "code",
      "metadata": {
        "id": "QbdtxK7c6Ulq"
      },
      "source": [
        "df2.set_index('name',inplace=True)"
      ],
      "execution_count": 37,
      "outputs": []
    },
    {
      "cell_type": "code",
      "metadata": {
        "id": "_Lr3ppcq6dB8",
        "colab": {
          "base_uri": "https://localhost:8080/",
          "height": 228
        },
        "outputId": "36681d5e-c3e1-45e3-94c8-e4756cc8e75b"
      },
      "source": [
        "# Notably, our index is a string. \n",
        "df2"
      ],
      "execution_count": 38,
      "outputs": [
        {
          "output_type": "execute_result",
          "data": {
            "text/html": [
              "<div>\n",
              "<style scoped>\n",
              "    .dataframe tbody tr th:only-of-type {\n",
              "        vertical-align: middle;\n",
              "    }\n",
              "\n",
              "    .dataframe tbody tr th {\n",
              "        vertical-align: top;\n",
              "    }\n",
              "\n",
              "    .dataframe thead th {\n",
              "        text-align: right;\n",
              "    }\n",
              "</style>\n",
              "<table border=\"1\" class=\"dataframe\">\n",
              "  <thead>\n",
              "    <tr style=\"text-align: right;\">\n",
              "      <th></th>\n",
              "      <th>type1</th>\n",
              "      <th>type2</th>\n",
              "    </tr>\n",
              "    <tr>\n",
              "      <th>name</th>\n",
              "      <th></th>\n",
              "      <th></th>\n",
              "    </tr>\n",
              "  </thead>\n",
              "  <tbody>\n",
              "    <tr>\n",
              "      <th>Charmeleon</th>\n",
              "      <td>fire</td>\n",
              "      <td>NaN</td>\n",
              "    </tr>\n",
              "    <tr>\n",
              "      <th>Charizard</th>\n",
              "      <td>fire</td>\n",
              "      <td>flying</td>\n",
              "    </tr>\n",
              "    <tr>\n",
              "      <th>Squirtle</th>\n",
              "      <td>water</td>\n",
              "      <td>NaN</td>\n",
              "    </tr>\n",
              "    <tr>\n",
              "      <th>Wartortle</th>\n",
              "      <td>water</td>\n",
              "      <td>NaN</td>\n",
              "    </tr>\n",
              "    <tr>\n",
              "      <th>Blastoise</th>\n",
              "      <td>water</td>\n",
              "      <td>NaN</td>\n",
              "    </tr>\n",
              "  </tbody>\n",
              "</table>\n",
              "</div>"
            ],
            "text/plain": [
              "            type1   type2\n",
              "name                     \n",
              "Charmeleon   fire     NaN\n",
              "Charizard    fire  flying\n",
              "Squirtle    water     NaN\n",
              "Wartortle   water     NaN\n",
              "Blastoise   water     NaN"
            ]
          },
          "metadata": {
            "tags": []
          },
          "execution_count": 38
        }
      ]
    },
    {
      "cell_type": "code",
      "metadata": {
        "id": "A71_eQ6u6eAS",
        "colab": {
          "base_uri": "https://localhost:8080/",
          "height": 138
        },
        "outputId": "87d485dd-8709-4024-e574-c4ff86125c3d"
      },
      "source": [
        "# Let's filter all the pokemon starting with Ch from df2\n",
        "df2.filter(like='Ch', axis=0)"
      ],
      "execution_count": 40,
      "outputs": [
        {
          "output_type": "execute_result",
          "data": {
            "text/html": [
              "<div>\n",
              "<style scoped>\n",
              "    .dataframe tbody tr th:only-of-type {\n",
              "        vertical-align: middle;\n",
              "    }\n",
              "\n",
              "    .dataframe tbody tr th {\n",
              "        vertical-align: top;\n",
              "    }\n",
              "\n",
              "    .dataframe thead th {\n",
              "        text-align: right;\n",
              "    }\n",
              "</style>\n",
              "<table border=\"1\" class=\"dataframe\">\n",
              "  <thead>\n",
              "    <tr style=\"text-align: right;\">\n",
              "      <th></th>\n",
              "      <th>type1</th>\n",
              "      <th>type2</th>\n",
              "    </tr>\n",
              "    <tr>\n",
              "      <th>name</th>\n",
              "      <th></th>\n",
              "      <th></th>\n",
              "    </tr>\n",
              "  </thead>\n",
              "  <tbody>\n",
              "    <tr>\n",
              "      <th>Charmeleon</th>\n",
              "      <td>fire</td>\n",
              "      <td>NaN</td>\n",
              "    </tr>\n",
              "    <tr>\n",
              "      <th>Charizard</th>\n",
              "      <td>fire</td>\n",
              "      <td>flying</td>\n",
              "    </tr>\n",
              "  </tbody>\n",
              "</table>\n",
              "</div>"
            ],
            "text/plain": [
              "           type1   type2\n",
              "name                    \n",
              "Charmeleon  fire     NaN\n",
              "Charizard   fire  flying"
            ]
          },
          "metadata": {
            "tags": []
          },
          "execution_count": 40
        }
      ]
    },
    {
      "cell_type": "code",
      "metadata": {
        "id": "GBw5FKxpOUti"
      },
      "source": [
        ""
      ],
      "execution_count": null,
      "outputs": []
    }
  ]
}