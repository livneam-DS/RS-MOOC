{
  "nbformat": 4,
  "nbformat_minor": 0,
  "metadata": {
    "kernelspec": {
      "display_name": "Python 3",
      "language": "python",
      "name": "python3"
    },
    "language_info": {
      "codemirror_mode": {
        "name": "ipython",
        "version": 3
      },
      "file_extension": ".py",
      "mimetype": "text/x-python",
      "name": "python",
      "nbconvert_exporter": "python",
      "pygments_lexer": "ipython3",
      "version": "3.6.8"
    },
    "toc": {
      "base_numbering": 1,
      "nav_menu": {},
      "number_sections": true,
      "sideBar": true,
      "skip_h1_title": false,
      "title_cell": "Table of Contents",
      "title_sidebar": "Contents",
      "toc_cell": false,
      "toc_position": {},
      "toc_section_display": true,
      "toc_window_display": false
    },
    "colab": {
      "name": "Content-Base approach build upon TFIDF.ipynb",
      "provenance": [],
      "collapsed_sections": [],
      "toc_visible": true
    }
  },
  "cells": [
    {
      "cell_type": "markdown",
      "metadata": {
        "id": "w2Y7MvjEOUxD"
      },
      "source": [
        "This is an example of how we can perform some Content-Base filtering approach on meta-data information for generating recommendations.\r\n",
        "\r\n",
        "We will load the file: final_books.xlsx. Then will perform a short EDA followed by TFIDF based recommendation. \r\n",
        "First, we will generate a recommendation base upon item2item similarity.\r\n",
        "Second, we will generate recommendations for each user build on its previous interactions. "
      ]
    },
    {
      "cell_type": "markdown",
      "metadata": {
        "id": "UD9rT-evORMA"
      },
      "source": [
        "#Imports"
      ]
    },
    {
      "cell_type": "code",
      "metadata": {
        "ExecuteTime": {
          "end_time": "2019-12-15T10:15:03.213091Z",
          "start_time": "2019-12-15T10:15:02.754401Z"
        },
        "id": "ZqSX9LffMITg"
      },
      "source": [
        "import numpy as np\n",
        "import pandas as pd\n",
        "import random\n",
        "import os"
      ],
      "execution_count": 1,
      "outputs": []
    },
    {
      "cell_type": "code",
      "metadata": {
        "colab": {
          "base_uri": "https://localhost:8080/"
        },
        "id": "kxKaKhvpPrZ7",
        "outputId": "094d0a36-15f6-4f7a-92d8-ee049ce9c6ac"
      },
      "source": [
        "from google.colab import drive\r\n",
        "drive.mount('/content/drive')"
      ],
      "execution_count": 2,
      "outputs": [
        {
          "output_type": "stream",
          "text": [
            "Drive already mounted at /content/drive; to attempt to forcibly remount, call drive.mount(\"/content/drive\", force_remount=True).\n"
          ],
          "name": "stdout"
        }
      ]
    },
    {
      "cell_type": "markdown",
      "metadata": {
        "id": "GHwjwSjnPyS3"
      },
      "source": [
        "# Load Data"
      ]
    },
    {
      "cell_type": "code",
      "metadata": {
        "ExecuteTime": {
          "end_time": "2019-12-15T10:15:04.585501Z",
          "start_time": "2019-12-15T10:15:04.581496Z"
        },
        "id": "FM2LF0a5MITi"
      },
      "source": [
        "#Make sure you downloaded the dataset and you create such a path, alternativly - changed this path\r\n",
        "PATH = '/content/drive/My Drive/Recommender Systems/Content Base/Datasets/Book-Crossing'\r\n",
        "os.chdir(PATH)"
      ],
      "execution_count": 3,
      "outputs": []
    },
    {
      "cell_type": "code",
      "metadata": {
        "colab": {
          "base_uri": "https://localhost:8080/",
          "height": 198
        },
        "id": "NEnACgS0P4Z3",
        "outputId": "b4edaab8-cb1a-4c18-9970-6fbcfe2fdbf6"
      },
      "source": [
        "# Load data from csv file\r\n",
        "items_desc = pd.read_excel('final_books.xlsx',index_col=0)\r\n",
        "items_desc['ISBN'] = items_desc['ISBN'].astype(str)\r\n",
        "items_desc['description'] = items_desc['description'].fillna(items_desc['title'])\r\n",
        "items_desc['description'] = items_desc['description'].astype(str) \r\n",
        "items_desc_isbn = items_desc.set_index('ISBN') \r\n",
        "# print the first 5 rows of the data\r\n",
        "items_desc.head()"
      ],
      "execution_count": 24,
      "outputs": [
        {
          "output_type": "execute_result",
          "data": {
            "text/html": [
              "<div>\n",
              "<style scoped>\n",
              "    .dataframe tbody tr th:only-of-type {\n",
              "        vertical-align: middle;\n",
              "    }\n",
              "\n",
              "    .dataframe tbody tr th {\n",
              "        vertical-align: top;\n",
              "    }\n",
              "\n",
              "    .dataframe thead th {\n",
              "        text-align: right;\n",
              "    }\n",
              "</style>\n",
              "<table border=\"1\" class=\"dataframe\">\n",
              "  <thead>\n",
              "    <tr style=\"text-align: right;\">\n",
              "      <th></th>\n",
              "      <th>ISBN</th>\n",
              "      <th>title</th>\n",
              "      <th>author</th>\n",
              "      <th>pub_year</th>\n",
              "      <th>publisher</th>\n",
              "      <th>description</th>\n",
              "    </tr>\n",
              "  </thead>\n",
              "  <tbody>\n",
              "    <tr>\n",
              "      <th>0</th>\n",
              "      <td>2005018</td>\n",
              "      <td>Clara Callan</td>\n",
              "      <td>Richard Bruce Wright</td>\n",
              "      <td>2001</td>\n",
              "      <td>HarperFlamingo Canada</td>\n",
              "      <td>In a small town in Canada, Clara Callan reluct...</td>\n",
              "    </tr>\n",
              "    <tr>\n",
              "      <th>1</th>\n",
              "      <td>374157065</td>\n",
              "      <td>Flu: The Story of the Great Influenza Pandemic...</td>\n",
              "      <td>Gina Bari Kolata</td>\n",
              "      <td>1999</td>\n",
              "      <td>Farrar Straus Giroux</td>\n",
              "      <td>Describes the great flu epidemic of 1918, an o...</td>\n",
              "    </tr>\n",
              "    <tr>\n",
              "      <th>2</th>\n",
              "      <td>399135782</td>\n",
              "      <td>The Kitchen God's Wife</td>\n",
              "      <td>Amy Tan</td>\n",
              "      <td>1991</td>\n",
              "      <td>Putnam Pub Group</td>\n",
              "      <td>A Chinese immigrant who is convinced she is dy...</td>\n",
              "    </tr>\n",
              "    <tr>\n",
              "      <th>3</th>\n",
              "      <td>440234743</td>\n",
              "      <td>The Testament</td>\n",
              "      <td>John Grisham</td>\n",
              "      <td>1999</td>\n",
              "      <td>Dell</td>\n",
              "      <td>A suicidal billionaire, a burnt-out Washington...</td>\n",
              "    </tr>\n",
              "    <tr>\n",
              "      <th>4</th>\n",
              "      <td>452264464</td>\n",
              "      <td>Beloved (Plume Contemporary Fiction)</td>\n",
              "      <td>Toni Morrison</td>\n",
              "      <td>1994</td>\n",
              "      <td>Plume</td>\n",
              "      <td>Staring unflinchingly into the abyss of slaver...</td>\n",
              "    </tr>\n",
              "  </tbody>\n",
              "</table>\n",
              "</div>"
            ],
            "text/plain": [
              "        ISBN  ...                                        description\n",
              "0    2005018  ...  In a small town in Canada, Clara Callan reluct...\n",
              "1  374157065  ...  Describes the great flu epidemic of 1918, an o...\n",
              "2  399135782  ...  A Chinese immigrant who is convinced she is dy...\n",
              "3  440234743  ...  A suicidal billionaire, a burnt-out Washington...\n",
              "4  452264464  ...  Staring unflinchingly into the abyss of slaver...\n",
              "\n",
              "[5 rows x 6 columns]"
            ]
          },
          "metadata": {
            "tags": []
          },
          "execution_count": 24
        }
      ]
    },
    {
      "cell_type": "markdown",
      "metadata": {
        "id": "BvpIM3sPMITk"
      },
      "source": [
        "We want to extend the information from the last notebook with this external information. (rating and metadata information)\n",
        "We have to check that the same ISBN codes are in all files.\n",
        "\n",
        "Hence, we will build a function that will filter all the ISBN codes that do not appear in the internal and external data."
      ]
    },
    {
      "cell_type": "code",
      "metadata": {
        "ExecuteTime": {
          "end_time": "2019-12-15T10:15:06.588350Z",
          "start_time": "2019-12-15T10:15:06.583355Z"
        },
        "id": "20kErvJ0MITl"
      },
      "source": [
        "def filter_data_to_relevant_isbn(df,lead_df):\n",
        "    \"\"\"\n",
        "    prequesition: df and lead_df must have 'isbn' column.\n",
        "    1) This method will set the index of the df to be the isbn.\n",
        "    2) Filter out all the isbn which do not appear in lead_df (external data)\n",
        "    3) return a filtered dataframe with isbn as the index.    \n",
        "\n",
        "    Parameters\n",
        "        ----------\n",
        "        df : DataFrame            \n",
        "        lead_df : DataFrame           \n",
        "    \"\"\"\n",
        "    df = df.set_index('ISBN')\n",
        "    lead_df = lead_df.set_index('ISBN')\n",
        "    print('shape before filtering: ',df.shape)\n",
        "    df = df.loc[df.index.isin(lead_df.index)]\n",
        "    print('shape after filtering: ',df.shape)\n",
        "    return df\n",
        "    "
      ],
      "execution_count": 26,
      "outputs": []
    },
    {
      "cell_type": "code",
      "metadata": {
        "ExecuteTime": {
          "end_time": "2019-12-15T10:15:08.207358Z",
          "start_time": "2019-12-15T10:15:07.533006Z"
        },
        "colab": {
          "base_uri": "https://localhost:8080/",
          "height": 262
        },
        "id": "f5gwB4RLMITl",
        "outputId": "4bb0ce3d-abff-4f08-aa2f-e7efa72c3d22"
      },
      "source": [
        "import seaborn as sns\n",
        "import matplotlib.pyplot as plt\n",
        "\n",
        "plt.figure(figsize=(16,2))\n",
        "plt.xticks(rotation=90)\n",
        "\n",
        "sns.countplot(items_desc['pub_year'])\n",
        "\n",
        "\n"
      ],
      "execution_count": 27,
      "outputs": [
        {
          "output_type": "stream",
          "text": [
            "/usr/local/lib/python3.7/dist-packages/seaborn/_decorators.py:43: FutureWarning: Pass the following variable as a keyword arg: x. From version 0.12, the only valid positional argument will be `data`, and passing other arguments without an explicit keyword will result in an error or misinterpretation.\n",
            "  FutureWarning\n"
          ],
          "name": "stderr"
        },
        {
          "output_type": "execute_result",
          "data": {
            "text/plain": [
              "<matplotlib.axes._subplots.AxesSubplot at 0x7f9b926f3610>"
            ]
          },
          "metadata": {
            "tags": []
          },
          "execution_count": 27
        },
        {
          "output_type": "display_data",
          "data": {
            "image/png": "[encoded data removed]",
            "text/plain": [
              "<Figure size 1152x144 with 1 Axes>"
            ]
          },
          "metadata": {
            "tags": [],
            "needs_background": "light"
          }
        }
      ]
    },
    {
      "cell_type": "code",
      "metadata": {
        "ExecuteTime": {
          "end_time": "2019-12-15T10:15:08.575282Z",
          "start_time": "2019-12-15T10:15:08.209269Z"
        },
        "colab": {
          "base_uri": "https://localhost:8080/",
          "height": 265
        },
        "id": "N1lq49_WMITm",
        "outputId": "77635bcc-db98-435a-9beb-309a1383c802"
      },
      "source": [
        "top_authors = items_desc['author'].value_counts().head(30)\n",
        "top_authors = top_authors.iloc[::-1] \n",
        "\n",
        "plt.figure(figsize=(16,2))\n",
        "plt.xticks(rotation=90)\n",
        "sns.barplot(x = top_authors.index ,y=top_authors)\n",
        "\n"
      ],
      "execution_count": 28,
      "outputs": [
        {
          "output_type": "execute_result",
          "data": {
            "text/plain": [
              "<matplotlib.axes._subplots.AxesSubplot at 0x7f9b92527990>"
            ]
          },
          "metadata": {
            "tags": []
          },
          "execution_count": 28
        },
        {
          "output_type": "display_data",
          "data": {
            "image/png": "[encoded data removed]",
            "text/plain": [
              "<Figure size 1152x144 with 1 Axes>"
            ]
          },
          "metadata": {
            "tags": [],
            "needs_background": "light"
          }
        }
      ]
    },
    {
      "cell_type": "markdown",
      "metadata": {
        "id": "w-wBcKbv67XR"
      },
      "source": [
        "# Load Explicit feedback"
      ]
    },
    {
      "cell_type": "code",
      "metadata": {
        "ExecuteTime": {
          "end_time": "2019-12-15T10:15:09.361708Z",
          "start_time": "2019-12-15T10:15:09.135316Z"
        },
        "colab": {
          "base_uri": "https://localhost:8080/",
          "height": 265
        },
        "id": "cXmjPSvZMITm",
        "outputId": "ab1edec6-8155-4a86-96f4-b04cd4856098"
      },
      "source": [
        "# Load explicit rating file.\n",
        "ratings_expl = pd.read_csv(os.path.join(PATH,'ratings_expl.csv'),names=['userID','ISBN','rating'],encoding='latin-1',sep=';',skiprows=1)\n",
        "ratings_expl['ISBN'] = ratings_expl['ISBN'].astype(str)\n",
        "ratings_expl_filtered = filter_data_to_relevant_isbn(ratings_expl,items_desc)\n",
        "ratings_expl_filtered['rating'] = ratings_expl_filtered['rating'].astype(int)\n",
        "\n",
        "ratings_expl_filtered.head()"
      ],
      "execution_count": 29,
      "outputs": [
        {
          "output_type": "stream",
          "text": [
            "shape before filtering:  (340047, 2)\n",
            "shape after filtering:  (21053, 2)\n"
          ],
          "name": "stdout"
        },
        {
          "output_type": "execute_result",
          "data": {
            "text/html": [
              "<div>\n",
              "<style scoped>\n",
              "    .dataframe tbody tr th:only-of-type {\n",
              "        vertical-align: middle;\n",
              "    }\n",
              "\n",
              "    .dataframe tbody tr th {\n",
              "        vertical-align: top;\n",
              "    }\n",
              "\n",
              "    .dataframe thead th {\n",
              "        text-align: right;\n",
              "    }\n",
              "</style>\n",
              "<table border=\"1\" class=\"dataframe\">\n",
              "  <thead>\n",
              "    <tr style=\"text-align: right;\">\n",
              "      <th></th>\n",
              "      <th>userID</th>\n",
              "      <th>rating</th>\n",
              "    </tr>\n",
              "    <tr>\n",
              "      <th>ISBN</th>\n",
              "      <th></th>\n",
              "      <th></th>\n",
              "    </tr>\n",
              "  </thead>\n",
              "  <tbody>\n",
              "    <tr>\n",
              "      <th>038550120X</th>\n",
              "      <td>276744</td>\n",
              "      <td>7</td>\n",
              "    </tr>\n",
              "    <tr>\n",
              "      <th>3442136644</th>\n",
              "      <td>276774</td>\n",
              "      <td>9</td>\n",
              "    </tr>\n",
              "    <tr>\n",
              "      <th>043935806X</th>\n",
              "      <td>276788</td>\n",
              "      <td>7</td>\n",
              "    </tr>\n",
              "    <tr>\n",
              "      <th>2253150711</th>\n",
              "      <td>276828</td>\n",
              "      <td>7</td>\n",
              "    </tr>\n",
              "    <tr>\n",
              "      <th>3404148576</th>\n",
              "      <td>276847</td>\n",
              "      <td>8</td>\n",
              "    </tr>\n",
              "  </tbody>\n",
              "</table>\n",
              "</div>"
            ],
            "text/plain": [
              "            userID  rating\n",
              "ISBN                      \n",
              "038550120X  276744       7\n",
              "3442136644  276774       9\n",
              "043935806X  276788       7\n",
              "2253150711  276828       7\n",
              "3404148576  276847       8"
            ]
          },
          "metadata": {
            "tags": []
          },
          "execution_count": 29
        }
      ]
    },
    {
      "cell_type": "code",
      "metadata": {
        "ExecuteTime": {
          "end_time": "2019-12-15T10:15:12.176423Z",
          "start_time": "2019-12-15T10:15:12.020812Z"
        },
        "colab": {
          "base_uri": "https://localhost:8080/",
          "height": 354
        },
        "id": "liVsswBzMITn",
        "outputId": "20c29ec5-6395-478b-ab71-0d1b35f88f76"
      },
      "source": [
        "sns.countplot(ratings_expl_filtered['rating'])"
      ],
      "execution_count": 30,
      "outputs": [
        {
          "output_type": "stream",
          "text": [
            "/usr/local/lib/python3.7/dist-packages/seaborn/_decorators.py:43: FutureWarning: Pass the following variable as a keyword arg: x. From version 0.12, the only valid positional argument will be `data`, and passing other arguments without an explicit keyword will result in an error or misinterpretation.\n",
            "  FutureWarning\n"
          ],
          "name": "stderr"
        },
        {
          "output_type": "execute_result",
          "data": {
            "text/plain": [
              "<matplotlib.axes._subplots.AxesSubplot at 0x7f9b9a407810>"
            ]
          },
          "metadata": {
            "tags": []
          },
          "execution_count": 30
        },
        {
          "output_type": "display_data",
          "data": {
            "image/png": "[encoded data removed]",
            "text/plain": [
              "<Figure size 432x288 with 1 Axes>"
            ]
          },
          "metadata": {
            "tags": [],
            "needs_background": "light"
          }
        }
      ]
    },
    {
      "cell_type": "code",
      "metadata": {
        "ExecuteTime": {
          "end_time": "2019-12-15T10:15:13.343363Z",
          "start_time": "2019-12-15T10:15:12.927471Z"
        },
        "colab": {
          "base_uri": "https://localhost:8080/",
          "height": 240
        },
        "id": "AJbc09PbMITn",
        "outputId": "ef4cee99-d2e5-44ec-abe4-c734d96e9e0b"
      },
      "source": [
        "top_isbn = ratings_expl['ISBN'].value_counts().head(30)\n",
        "top_isbn = top_isbn.iloc[::-1] \n",
        "\n",
        "plt.figure(figsize=(16,2))\n",
        "plt.xticks(rotation=90)\n",
        "ax = sns.barplot(x = top_isbn.index ,y=top_isbn)\n",
        "ax.set(xlabel='isbn', ylabel='amount of ratings',title='Top 30 books with highest amount of given rating')\n",
        "\n",
        "plt.show()\n",
        "\n",
        "\n",
        "\n"
      ],
      "execution_count": 31,
      "outputs": [
        {
          "output_type": "display_data",
          "data": {
            "image/png": "[encoded data removed]",
            "text/plain": [
              "<Figure size 1152x144 with 1 Axes>"
            ]
          },
          "metadata": {
            "tags": [],
            "needs_background": "light"
          }
        }
      ]
    },
    {
      "cell_type": "markdown",
      "metadata": {
        "id": "uxM7Z99MSIkS"
      },
      "source": [
        "# TFIDF - build upon description"
      ]
    },
    {
      "cell_type": "code",
      "metadata": {
        "ExecuteTime": {
          "end_time": "2019-12-15T10:16:27.723885Z",
          "start_time": "2019-12-15T10:16:27.632099Z"
        },
        "colab": {
          "base_uri": "https://localhost:8080/",
          "height": 265
        },
        "id": "Gv7h9LRsMITo",
        "outputId": "5cf4c4df-4a97-49ce-ea59-f42f8aae2d67"
      },
      "source": [
        "from sklearn.feature_extraction.text import TfidfVectorizer\n",
        "# Creating a TfidfVectorizer object\n",
        "tf_vector = TfidfVectorizer(stop_words='english',min_df=5,ngram_range=(1,2))\n",
        "# transform each book description\n",
        "x = tf_vector.fit_transform(items_desc['description'])\n",
        "\n",
        "# Convert the TfidfVectorizer fit results into a table and display first 5 rows\n",
        "tf_vector_df = pd.DataFrame(x.toarray(), columns=tf_vector.get_feature_names())\n",
        "tf_vector_df.head()\n"
      ],
      "execution_count": 32,
      "outputs": [
        {
          "output_type": "execute_result",
          "data": {
            "text/html": [
              "<div>\n",
              "<style scoped>\n",
              "    .dataframe tbody tr th:only-of-type {\n",
              "        vertical-align: middle;\n",
              "    }\n",
              "\n",
              "    .dataframe tbody tr th {\n",
              "        vertical-align: top;\n",
              "    }\n",
              "\n",
              "    .dataframe thead th {\n",
              "        text-align: right;\n",
              "    }\n",
              "</style>\n",
              "<table border=\"1\" class=\"dataframe\">\n",
              "  <thead>\n",
              "    <tr style=\"text-align: right;\">\n",
              "      <th></th>\n",
              "      <th>00</th>\n",
              "      <th>000</th>\n",
              "      <th>000 000</th>\n",
              "      <th>000 ad</th>\n",
              "      <th>000 copies</th>\n",
              "      <th>000 printing</th>\n",
              "      <th>10</th>\n",
              "      <th>10 000</th>\n",
              "      <th>100</th>\n",
              "      <th>100 000</th>\n",
              "      <th>100 years</th>\n",
              "      <th>101</th>\n",
              "      <th>101 stories</th>\n",
              "      <th>11</th>\n",
              "      <th>12</th>\n",
              "      <th>12 500</th>\n",
              "      <th>125</th>\n",
              "      <th>125 000</th>\n",
              "      <th>13</th>\n",
              "      <th>13 year</th>\n",
              "      <th>1327</th>\n",
              "      <th>14</th>\n",
              "      <th>15</th>\n",
              "      <th>15 000</th>\n",
              "      <th>150</th>\n",
              "      <th>150 000</th>\n",
              "      <th>1500</th>\n",
              "      <th>16</th>\n",
              "      <th>16 pages</th>\n",
              "      <th>17</th>\n",
              "      <th>17 500</th>\n",
              "      <th>175</th>\n",
              "      <th>175 000</th>\n",
              "      <th>18</th>\n",
              "      <th>1800s</th>\n",
              "      <th>1830s</th>\n",
              "      <th>1840s</th>\n",
              "      <th>1847</th>\n",
              "      <th>1870s</th>\n",
              "      <th>1880s</th>\n",
              "      <th>...</th>\n",
              "      <th>young people</th>\n",
              "      <th>young readers</th>\n",
              "      <th>young soldiers</th>\n",
              "      <th>young son</th>\n",
              "      <th>young widow</th>\n",
              "      <th>young wife</th>\n",
              "      <th>young woman</th>\n",
              "      <th>young women</th>\n",
              "      <th>young writer</th>\n",
              "      <th>younger</th>\n",
              "      <th>younger brother</th>\n",
              "      <th>younger siblings</th>\n",
              "      <th>younger sister</th>\n",
              "      <th>youngest</th>\n",
              "      <th>youngest daughter</th>\n",
              "      <th>youth</th>\n",
              "      <th>youthful</th>\n",
              "      <th>yum</th>\n",
              "      <th>yum yum</th>\n",
              "      <th>zane</th>\n",
              "      <th>zany</th>\n",
              "      <th>zealand</th>\n",
              "      <th>zealous</th>\n",
              "      <th>zealous leader</th>\n",
              "      <th>zebra</th>\n",
              "      <th>zen</th>\n",
              "      <th>zen art</th>\n",
              "      <th>zero</th>\n",
              "      <th>zero gravity</th>\n",
              "      <th>zimmer</th>\n",
              "      <th>zoe</th>\n",
              "      <th>zombie</th>\n",
              "      <th>zombies</th>\n",
              "      <th>zone</th>\n",
              "      <th>zoo</th>\n",
              "      <th>zora</th>\n",
              "      <th>zoya</th>\n",
              "      <th>zu</th>\n",
              "      <th>zum</th>\n",
              "      <th>über</th>\n",
              "    </tr>\n",
              "  </thead>\n",
              "  <tbody>\n",
              "    <tr>\n",
              "      <th>0</th>\n",
              "      <td>0.0</td>\n",
              "      <td>0.0</td>\n",
              "      <td>0.0</td>\n",
              "      <td>0.0</td>\n",
              "      <td>0.0</td>\n",
              "      <td>0.0</td>\n",
              "      <td>0.0</td>\n",
              "      <td>0.0</td>\n",
              "      <td>0.0</td>\n",
              "      <td>0.0</td>\n",
              "      <td>0.0</td>\n",
              "      <td>0.0</td>\n",
              "      <td>0.0</td>\n",
              "      <td>0.0</td>\n",
              "      <td>0.0</td>\n",
              "      <td>0.0</td>\n",
              "      <td>0.0</td>\n",
              "      <td>0.0</td>\n",
              "      <td>0.0</td>\n",
              "      <td>0.0</td>\n",
              "      <td>0.0</td>\n",
              "      <td>0.0</td>\n",
              "      <td>0.0</td>\n",
              "      <td>0.0</td>\n",
              "      <td>0.0</td>\n",
              "      <td>0.0</td>\n",
              "      <td>0.0</td>\n",
              "      <td>0.0</td>\n",
              "      <td>0.0</td>\n",
              "      <td>0.0</td>\n",
              "      <td>0.0</td>\n",
              "      <td>0.0</td>\n",
              "      <td>0.0</td>\n",
              "      <td>0.0</td>\n",
              "      <td>0.0</td>\n",
              "      <td>0.0</td>\n",
              "      <td>0.0</td>\n",
              "      <td>0.0</td>\n",
              "      <td>0.0</td>\n",
              "      <td>0.0</td>\n",
              "      <td>...</td>\n",
              "      <td>0.0</td>\n",
              "      <td>0.0</td>\n",
              "      <td>0.0</td>\n",
              "      <td>0.0</td>\n",
              "      <td>0.0</td>\n",
              "      <td>0.0</td>\n",
              "      <td>0.0</td>\n",
              "      <td>0.095953</td>\n",
              "      <td>0.0</td>\n",
              "      <td>0.0</td>\n",
              "      <td>0.0</td>\n",
              "      <td>0.0</td>\n",
              "      <td>0.0</td>\n",
              "      <td>0.0</td>\n",
              "      <td>0.0</td>\n",
              "      <td>0.0</td>\n",
              "      <td>0.0</td>\n",
              "      <td>0.0</td>\n",
              "      <td>0.0</td>\n",
              "      <td>0.0</td>\n",
              "      <td>0.0</td>\n",
              "      <td>0.0</td>\n",
              "      <td>0.0</td>\n",
              "      <td>0.0</td>\n",
              "      <td>0.0</td>\n",
              "      <td>0.0</td>\n",
              "      <td>0.0</td>\n",
              "      <td>0.0</td>\n",
              "      <td>0.0</td>\n",
              "      <td>0.0</td>\n",
              "      <td>0.0</td>\n",
              "      <td>0.0</td>\n",
              "      <td>0.0</td>\n",
              "      <td>0.0</td>\n",
              "      <td>0.0</td>\n",
              "      <td>0.0</td>\n",
              "      <td>0.0</td>\n",
              "      <td>0.0</td>\n",
              "      <td>0.0</td>\n",
              "      <td>0.0</td>\n",
              "    </tr>\n",
              "    <tr>\n",
              "      <th>1</th>\n",
              "      <td>0.0</td>\n",
              "      <td>0.0</td>\n",
              "      <td>0.0</td>\n",
              "      <td>0.0</td>\n",
              "      <td>0.0</td>\n",
              "      <td>0.0</td>\n",
              "      <td>0.0</td>\n",
              "      <td>0.0</td>\n",
              "      <td>0.0</td>\n",
              "      <td>0.0</td>\n",
              "      <td>0.0</td>\n",
              "      <td>0.0</td>\n",
              "      <td>0.0</td>\n",
              "      <td>0.0</td>\n",
              "      <td>0.0</td>\n",
              "      <td>0.0</td>\n",
              "      <td>0.0</td>\n",
              "      <td>0.0</td>\n",
              "      <td>0.0</td>\n",
              "      <td>0.0</td>\n",
              "      <td>0.0</td>\n",
              "      <td>0.0</td>\n",
              "      <td>0.0</td>\n",
              "      <td>0.0</td>\n",
              "      <td>0.0</td>\n",
              "      <td>0.0</td>\n",
              "      <td>0.0</td>\n",
              "      <td>0.0</td>\n",
              "      <td>0.0</td>\n",
              "      <td>0.0</td>\n",
              "      <td>0.0</td>\n",
              "      <td>0.0</td>\n",
              "      <td>0.0</td>\n",
              "      <td>0.0</td>\n",
              "      <td>0.0</td>\n",
              "      <td>0.0</td>\n",
              "      <td>0.0</td>\n",
              "      <td>0.0</td>\n",
              "      <td>0.0</td>\n",
              "      <td>0.0</td>\n",
              "      <td>...</td>\n",
              "      <td>0.0</td>\n",
              "      <td>0.0</td>\n",
              "      <td>0.0</td>\n",
              "      <td>0.0</td>\n",
              "      <td>0.0</td>\n",
              "      <td>0.0</td>\n",
              "      <td>0.0</td>\n",
              "      <td>0.000000</td>\n",
              "      <td>0.0</td>\n",
              "      <td>0.0</td>\n",
              "      <td>0.0</td>\n",
              "      <td>0.0</td>\n",
              "      <td>0.0</td>\n",
              "      <td>0.0</td>\n",
              "      <td>0.0</td>\n",
              "      <td>0.0</td>\n",
              "      <td>0.0</td>\n",
              "      <td>0.0</td>\n",
              "      <td>0.0</td>\n",
              "      <td>0.0</td>\n",
              "      <td>0.0</td>\n",
              "      <td>0.0</td>\n",
              "      <td>0.0</td>\n",
              "      <td>0.0</td>\n",
              "      <td>0.0</td>\n",
              "      <td>0.0</td>\n",
              "      <td>0.0</td>\n",
              "      <td>0.0</td>\n",
              "      <td>0.0</td>\n",
              "      <td>0.0</td>\n",
              "      <td>0.0</td>\n",
              "      <td>0.0</td>\n",
              "      <td>0.0</td>\n",
              "      <td>0.0</td>\n",
              "      <td>0.0</td>\n",
              "      <td>0.0</td>\n",
              "      <td>0.0</td>\n",
              "      <td>0.0</td>\n",
              "      <td>0.0</td>\n",
              "      <td>0.0</td>\n",
              "    </tr>\n",
              "    <tr>\n",
              "      <th>2</th>\n",
              "      <td>0.0</td>\n",
              "      <td>0.0</td>\n",
              "      <td>0.0</td>\n",
              "      <td>0.0</td>\n",
              "      <td>0.0</td>\n",
              "      <td>0.0</td>\n",
              "      <td>0.0</td>\n",
              "      <td>0.0</td>\n",
              "      <td>0.0</td>\n",
              "      <td>0.0</td>\n",
              "      <td>0.0</td>\n",
              "      <td>0.0</td>\n",
              "      <td>0.0</td>\n",
              "      <td>0.0</td>\n",
              "      <td>0.0</td>\n",
              "      <td>0.0</td>\n",
              "      <td>0.0</td>\n",
              "      <td>0.0</td>\n",
              "      <td>0.0</td>\n",
              "      <td>0.0</td>\n",
              "      <td>0.0</td>\n",
              "      <td>0.0</td>\n",
              "      <td>0.0</td>\n",
              "      <td>0.0</td>\n",
              "      <td>0.0</td>\n",
              "      <td>0.0</td>\n",
              "      <td>0.0</td>\n",
              "      <td>0.0</td>\n",
              "      <td>0.0</td>\n",
              "      <td>0.0</td>\n",
              "      <td>0.0</td>\n",
              "      <td>0.0</td>\n",
              "      <td>0.0</td>\n",
              "      <td>0.0</td>\n",
              "      <td>0.0</td>\n",
              "      <td>0.0</td>\n",
              "      <td>0.0</td>\n",
              "      <td>0.0</td>\n",
              "      <td>0.0</td>\n",
              "      <td>0.0</td>\n",
              "      <td>...</td>\n",
              "      <td>0.0</td>\n",
              "      <td>0.0</td>\n",
              "      <td>0.0</td>\n",
              "      <td>0.0</td>\n",
              "      <td>0.0</td>\n",
              "      <td>0.0</td>\n",
              "      <td>0.0</td>\n",
              "      <td>0.000000</td>\n",
              "      <td>0.0</td>\n",
              "      <td>0.0</td>\n",
              "      <td>0.0</td>\n",
              "      <td>0.0</td>\n",
              "      <td>0.0</td>\n",
              "      <td>0.0</td>\n",
              "      <td>0.0</td>\n",
              "      <td>0.0</td>\n",
              "      <td>0.0</td>\n",
              "      <td>0.0</td>\n",
              "      <td>0.0</td>\n",
              "      <td>0.0</td>\n",
              "      <td>0.0</td>\n",
              "      <td>0.0</td>\n",
              "      <td>0.0</td>\n",
              "      <td>0.0</td>\n",
              "      <td>0.0</td>\n",
              "      <td>0.0</td>\n",
              "      <td>0.0</td>\n",
              "      <td>0.0</td>\n",
              "      <td>0.0</td>\n",
              "      <td>0.0</td>\n",
              "      <td>0.0</td>\n",
              "      <td>0.0</td>\n",
              "      <td>0.0</td>\n",
              "      <td>0.0</td>\n",
              "      <td>0.0</td>\n",
              "      <td>0.0</td>\n",
              "      <td>0.0</td>\n",
              "      <td>0.0</td>\n",
              "      <td>0.0</td>\n",
              "      <td>0.0</td>\n",
              "    </tr>\n",
              "    <tr>\n",
              "      <th>3</th>\n",
              "      <td>0.0</td>\n",
              "      <td>0.0</td>\n",
              "      <td>0.0</td>\n",
              "      <td>0.0</td>\n",
              "      <td>0.0</td>\n",
              "      <td>0.0</td>\n",
              "      <td>0.0</td>\n",
              "      <td>0.0</td>\n",
              "      <td>0.0</td>\n",
              "      <td>0.0</td>\n",
              "      <td>0.0</td>\n",
              "      <td>0.0</td>\n",
              "      <td>0.0</td>\n",
              "      <td>0.0</td>\n",
              "      <td>0.0</td>\n",
              "      <td>0.0</td>\n",
              "      <td>0.0</td>\n",
              "      <td>0.0</td>\n",
              "      <td>0.0</td>\n",
              "      <td>0.0</td>\n",
              "      <td>0.0</td>\n",
              "      <td>0.0</td>\n",
              "      <td>0.0</td>\n",
              "      <td>0.0</td>\n",
              "      <td>0.0</td>\n",
              "      <td>0.0</td>\n",
              "      <td>0.0</td>\n",
              "      <td>0.0</td>\n",
              "      <td>0.0</td>\n",
              "      <td>0.0</td>\n",
              "      <td>0.0</td>\n",
              "      <td>0.0</td>\n",
              "      <td>0.0</td>\n",
              "      <td>0.0</td>\n",
              "      <td>0.0</td>\n",
              "      <td>0.0</td>\n",
              "      <td>0.0</td>\n",
              "      <td>0.0</td>\n",
              "      <td>0.0</td>\n",
              "      <td>0.0</td>\n",
              "      <td>...</td>\n",
              "      <td>0.0</td>\n",
              "      <td>0.0</td>\n",
              "      <td>0.0</td>\n",
              "      <td>0.0</td>\n",
              "      <td>0.0</td>\n",
              "      <td>0.0</td>\n",
              "      <td>0.0</td>\n",
              "      <td>0.000000</td>\n",
              "      <td>0.0</td>\n",
              "      <td>0.0</td>\n",
              "      <td>0.0</td>\n",
              "      <td>0.0</td>\n",
              "      <td>0.0</td>\n",
              "      <td>0.0</td>\n",
              "      <td>0.0</td>\n",
              "      <td>0.0</td>\n",
              "      <td>0.0</td>\n",
              "      <td>0.0</td>\n",
              "      <td>0.0</td>\n",
              "      <td>0.0</td>\n",
              "      <td>0.0</td>\n",
              "      <td>0.0</td>\n",
              "      <td>0.0</td>\n",
              "      <td>0.0</td>\n",
              "      <td>0.0</td>\n",
              "      <td>0.0</td>\n",
              "      <td>0.0</td>\n",
              "      <td>0.0</td>\n",
              "      <td>0.0</td>\n",
              "      <td>0.0</td>\n",
              "      <td>0.0</td>\n",
              "      <td>0.0</td>\n",
              "      <td>0.0</td>\n",
              "      <td>0.0</td>\n",
              "      <td>0.0</td>\n",
              "      <td>0.0</td>\n",
              "      <td>0.0</td>\n",
              "      <td>0.0</td>\n",
              "      <td>0.0</td>\n",
              "      <td>0.0</td>\n",
              "    </tr>\n",
              "    <tr>\n",
              "      <th>4</th>\n",
              "      <td>0.0</td>\n",
              "      <td>0.0</td>\n",
              "      <td>0.0</td>\n",
              "      <td>0.0</td>\n",
              "      <td>0.0</td>\n",
              "      <td>0.0</td>\n",
              "      <td>0.0</td>\n",
              "      <td>0.0</td>\n",
              "      <td>0.0</td>\n",
              "      <td>0.0</td>\n",
              "      <td>0.0</td>\n",
              "      <td>0.0</td>\n",
              "      <td>0.0</td>\n",
              "      <td>0.0</td>\n",
              "      <td>0.0</td>\n",
              "      <td>0.0</td>\n",
              "      <td>0.0</td>\n",
              "      <td>0.0</td>\n",
              "      <td>0.0</td>\n",
              "      <td>0.0</td>\n",
              "      <td>0.0</td>\n",
              "      <td>0.0</td>\n",
              "      <td>0.0</td>\n",
              "      <td>0.0</td>\n",
              "      <td>0.0</td>\n",
              "      <td>0.0</td>\n",
              "      <td>0.0</td>\n",
              "      <td>0.0</td>\n",
              "      <td>0.0</td>\n",
              "      <td>0.0</td>\n",
              "      <td>0.0</td>\n",
              "      <td>0.0</td>\n",
              "      <td>0.0</td>\n",
              "      <td>0.0</td>\n",
              "      <td>0.0</td>\n",
              "      <td>0.0</td>\n",
              "      <td>0.0</td>\n",
              "      <td>0.0</td>\n",
              "      <td>0.0</td>\n",
              "      <td>0.0</td>\n",
              "      <td>...</td>\n",
              "      <td>0.0</td>\n",
              "      <td>0.0</td>\n",
              "      <td>0.0</td>\n",
              "      <td>0.0</td>\n",
              "      <td>0.0</td>\n",
              "      <td>0.0</td>\n",
              "      <td>0.0</td>\n",
              "      <td>0.000000</td>\n",
              "      <td>0.0</td>\n",
              "      <td>0.0</td>\n",
              "      <td>0.0</td>\n",
              "      <td>0.0</td>\n",
              "      <td>0.0</td>\n",
              "      <td>0.0</td>\n",
              "      <td>0.0</td>\n",
              "      <td>0.0</td>\n",
              "      <td>0.0</td>\n",
              "      <td>0.0</td>\n",
              "      <td>0.0</td>\n",
              "      <td>0.0</td>\n",
              "      <td>0.0</td>\n",
              "      <td>0.0</td>\n",
              "      <td>0.0</td>\n",
              "      <td>0.0</td>\n",
              "      <td>0.0</td>\n",
              "      <td>0.0</td>\n",
              "      <td>0.0</td>\n",
              "      <td>0.0</td>\n",
              "      <td>0.0</td>\n",
              "      <td>0.0</td>\n",
              "      <td>0.0</td>\n",
              "      <td>0.0</td>\n",
              "      <td>0.0</td>\n",
              "      <td>0.0</td>\n",
              "      <td>0.0</td>\n",
              "      <td>0.0</td>\n",
              "      <td>0.0</td>\n",
              "      <td>0.0</td>\n",
              "      <td>0.0</td>\n",
              "      <td>0.0</td>\n",
              "    </tr>\n",
              "  </tbody>\n",
              "</table>\n",
              "<p>5 rows × 14454 columns</p>\n",
              "</div>"
            ],
            "text/plain": [
              "    00  000  000 000  000 ad  000 copies  ...  zora  zoya   zu  zum  über\n",
              "0  0.0  0.0      0.0     0.0         0.0  ...   0.0   0.0  0.0  0.0   0.0\n",
              "1  0.0  0.0      0.0     0.0         0.0  ...   0.0   0.0  0.0  0.0   0.0\n",
              "2  0.0  0.0      0.0     0.0         0.0  ...   0.0   0.0  0.0  0.0   0.0\n",
              "3  0.0  0.0      0.0     0.0         0.0  ...   0.0   0.0  0.0  0.0   0.0\n",
              "4  0.0  0.0      0.0     0.0         0.0  ...   0.0   0.0  0.0  0.0   0.0\n",
              "\n",
              "[5 rows x 14454 columns]"
            ]
          },
          "metadata": {
            "tags": []
          },
          "execution_count": 32
        }
      ]
    },
    {
      "cell_type": "code",
      "metadata": {
        "ExecuteTime": {
          "end_time": "2019-12-15T10:16:52.739242Z",
          "start_time": "2019-12-15T10:16:52.629265Z"
        },
        "id": "wCPRXS6cMITp"
      },
      "source": [
        "# Next, we will create a cosine similarity matrix between all items\n",
        "from sklearn.metrics.pairwise import linear_kernel\n",
        "cosine_similarities = linear_kernel(x, x)"
      ],
      "execution_count": 33,
      "outputs": []
    },
    {
      "cell_type": "code",
      "metadata": {
        "ExecuteTime": {
          "end_time": "2019-12-15T10:26:01.790245Z",
          "start_time": "2019-12-15T10:26:01.388266Z"
        },
        "id": "DaRXihFlMITp"
      },
      "source": [
        "# We will create a dictionary indicating the most similar results for each item.\n",
        "\n",
        "results = {} # dictionary created to store the result in a dictionary format (ID : (Score,item_id))#\n",
        "df_merge2 = items_desc.reset_index().rename(columns={items_desc.index.name:'ISBN'})\n",
        "for idx, row in df_merge2.iterrows(): #iterates through all the rows   \n",
        "    \n",
        "# the below code 'similar_indice' stores similar ids based on cosine similarity. sorts them in ascending order. [:-5:-1] is then used so that the indices with most similarity are got. 0 means no similarity and 1 means perfect similarity#\n",
        "    similar_indices = cosine_similarities[idx].argsort()[:-5:-1] \n",
        "\n",
        "    #stores 5(including itself) most similar books, you can change it as per your needs\n",
        "    similar_items = [( df_merge2['ISBN'][i],cosine_similarities[idx][i]) for i in similar_indices]\n",
        "    results[row['ISBN']] = similar_items[1:]"
      ],
      "execution_count": 34,
      "outputs": []
    },
    {
      "cell_type": "code",
      "metadata": {
        "ExecuteTime": {
          "end_time": "2019-12-15T10:28:16.013750Z",
          "start_time": "2019-12-15T10:28:16.009761Z"
        },
        "id": "RNY1fngBMITq"
      },
      "source": [
        "def get_item(ISBN):  \n",
        "    return items_desc_isbn.loc[ISBN]"
      ],
      "execution_count": 18,
      "outputs": []
    },
    {
      "cell_type": "code",
      "metadata": {
        "ExecuteTime": {
          "end_time": "2019-12-15T10:36:13.935364Z",
          "start_time": "2019-12-15T10:36:13.930357Z"
        },
        "id": "jV6dOdHSMITr"
      },
      "source": [
        "def recommend_item2item(ISBN, num, similarity_dict):\n",
        "    if (num == 0):\n",
        "        print(\"Unable to recommend any book as you have not chosen the number of book to be recommended\")           \n",
        "    else :        \n",
        "        print(\"Recommending \" + str(num) + \" books similar to \" + \"ISBN: \")\n",
        "        \n",
        "        \n",
        "    print(\"----------------------------------------------------------\")    \n",
        "    recs = similarity_dict[ISBN][:num]    \n",
        "    for rec in recs:        \n",
        "        print(\"You may also like to read: \" + 'ISBN: ' + str(rec[0]) +'\\t score:' + str(rec[1]) + '\\n')\n",
        "        print (items_desc_isbn.loc[(str(rec[0]))])\n",
        "        print('\\n')\n",
        "            \n",
        "\n"
      ],
      "execution_count": 35,
      "outputs": []
    },
    {
      "cell_type": "code",
      "metadata": {
        "ExecuteTime": {
          "end_time": "2019-12-15T10:36:23.861841Z",
          "start_time": "2019-12-15T10:36:23.855846Z"
        },
        "colab": {
          "base_uri": "https://localhost:8080/"
        },
        "id": "Nd6z7ZhzMITr",
        "outputId": "f2c3636d-6c74-496f-8edf-5c26eadc284a"
      },
      "source": [
        "recommend_item2item('006019250X',3,results)"
      ],
      "execution_count": 36,
      "outputs": [
        {
          "output_type": "stream",
          "text": [
            "Recommending 3 books similar to ISBN: \n",
            "----------------------------------------------------------\n",
            "You may also like to read: ISBN: 821759973\t score:0.24244083038874267\n",
            "\n",
            "title              In Our Dreams\n",
            "author         Linda Lael Miller\n",
            "pub_year                    1998\n",
            "publisher            Zebra Books\n",
            "description        In Our Dreams\n",
            "Name: 821759973, dtype: object\n",
            "\n",
            "\n",
            "You may also like to read: ISBN: 60192631\t score:0.20342159993807646\n",
            "\n",
            "title                         One Heart\n",
            "author                  Jane McCafferty\n",
            "pub_year                           1999\n",
            "publisher      HarperCollins Publishers\n",
            "description                   One Heart\n",
            "Name: 60192631, dtype: object\n",
            "\n",
            "\n",
            "You may also like to read: ISBN: 380860333\t score:0.20342159993807646\n",
            "\n",
            "title                        Deceive Not My Heart\n",
            "author                             Shirlee Busbee\n",
            "pub_year                                     1984\n",
            "publisher      Harper Mass Market Paperbacks (Mm)\n",
            "description                  Deceive Not My Heart\n",
            "Name: 380860333, dtype: object\n",
            "\n",
            "\n"
          ],
          "name": "stdout"
        }
      ]
    },
    {
      "cell_type": "code",
      "metadata": {
        "ExecuteTime": {
          "end_time": "2019-12-15T11:35:43.548602Z",
          "start_time": "2019-12-15T11:35:43.537632Z"
        },
        "id": "F9peeYqHMITv"
      },
      "source": [
        "def recommand_item2user (userID,similarity_dict):\n",
        "    \"\"\" \n",
        "    This function will utilize all previous interactions of given user metadata. \n",
        "    First, we will get all previous books read by the userID.\n",
        "    Next, we will filter all available books according to:\n",
        "    1) minimum and maximum pub_year read by the user\n",
        "    2) authors appeared in previous read books\n",
        "    3) available books must not include books already read by the user.\n",
        "    Next, for each remaining candidate, we will generate recommendations according to the dictionary. \n",
        "    Last, we will merge all generated recommendations and print them.\n",
        "\n",
        "\n",
        "        Parameters\n",
        "        ----------\n",
        "        userID : integer\n",
        "            The user ID\n",
        "        similarity_dict : dictionary of similarity base one TFIDF.             \n",
        "        \n",
        "        \"\"\"\n",
        "    \n",
        "    # Get previous metadata relevant to given userID\n",
        "    past_isbn = ratings_expl_filtered[ratings_expl_filtered['userID'] == userID].index    \n",
        "    max_year = max(items_desc_isbn.loc[past_isbn]['pub_year'])\n",
        "    min_year = min(items_desc_isbn.loc[past_isbn]['pub_year'])    \n",
        "    past_authors = items_desc_isbn.loc[past_isbn]['author'].unique()\n",
        "    candidate_df = items_desc_isbn[~items_desc_isbn.index.isin(past_isbn)]   \n",
        "    \n",
        "    candidate_df = candidate_df[candidate_df['pub_year'].between(min_year,max_year,inclusive=True)]\n",
        "    candidate_df = candidate_df[candidate_df['author'].isin(past_authors)]\n",
        "    \n",
        "    # Generate recommendations for each item read by the user\n",
        "    recs = {}\n",
        "    for item_id in past_isbn:\n",
        "        item_recommend = results[item_id]\n",
        "        recs.update(dict(item_recommend)) \n",
        "    \n",
        "    # Use only recommendations which are considered as candidates\n",
        "    sorted_recs = sorted(recs.items(), key=lambda kv: kv[1],reverse=True)    \n",
        "    candidate_df = candidate_df.loc[candidate_df.index.isin(recs.keys())]            \n",
        "    recommend_items_remain = np.unique(candidate_df.index.values)    \n",
        "    \n",
        "    # Extend the recommendation build upon the similarity_dict \n",
        "    recommendation_scores = {}\n",
        "    for rec in recommend_items_remain:                        \n",
        "        for similar_item in similarity_dict[rec]:\n",
        "            rec_isbn = similar_item[0]\n",
        "            rec_score = similar_item[1]\n",
        "            if rec_isbn not in recommendation_scores:\n",
        "                recommendation_scores[rec_isbn] = rec_score\n",
        "            else:\n",
        "                recommendation_scores[rec_isbn] = max(recommendation_scores[rec_isbn],rec_score)\n",
        "     \n",
        "    print(\"Build upon previous interactions you may also like to read:\")\n",
        "    for rec in recommend_items_remain:\n",
        "        print('isbn: ' + rec)\n",
        "        print(items_desc_isbn.loc[rec])\n",
        "        print('\\n')\n",
        "    \n",
        "    print('**********************************************************')\n",
        "    print(\"We extend our recommendation by utilizing TFIDF\")\n",
        "    print(\"Therefore, you may also like to read: \")\n",
        "    print('**********************************************************')\n",
        "    \n",
        "    for key in recommendation_scores:        \n",
        "        if ((key not in past_isbn.values) and (key not in recommend_items_remain )):            \n",
        "            print('isbn: ' + key +'\\t score:' + str(recommendation_scores[key]))\n",
        "            print(items_desc_isbn.loc[key])\n",
        "            print('\\n')\n",
        "            \n",
        "    \n",
        "        \n",
        "    \n",
        "    \n",
        "    \n",
        "    "
      ],
      "execution_count": 72,
      "outputs": []
    },
    {
      "cell_type": "markdown",
      "metadata": {
        "id": "MA5UmFisOT24"
      },
      "source": [
        "Let's demonstrate the usage of this recommendations method."
      ]
    },
    {
      "cell_type": "code",
      "metadata": {
        "colab": {
          "base_uri": "https://localhost:8080/",
          "height": 408
        },
        "id": "MWsZbJGkOYMW",
        "outputId": "98943962-0d46-40b1-a9b9-d56202098c1f"
      },
      "source": [
        "# We will see which ISBN were read by a given user. \r\n",
        "userID = 276847\r\n",
        "items_desc_isbn.loc[ratings_expl_filtered[ratings_expl_filtered['userID'] == userID].index]"
      ],
      "execution_count": 63,
      "outputs": [
        {
          "output_type": "execute_result",
          "data": {
            "text/html": [
              "<div>\n",
              "<style scoped>\n",
              "    .dataframe tbody tr th:only-of-type {\n",
              "        vertical-align: middle;\n",
              "    }\n",
              "\n",
              "    .dataframe tbody tr th {\n",
              "        vertical-align: top;\n",
              "    }\n",
              "\n",
              "    .dataframe thead th {\n",
              "        text-align: right;\n",
              "    }\n",
              "</style>\n",
              "<table border=\"1\" class=\"dataframe\">\n",
              "  <thead>\n",
              "    <tr style=\"text-align: right;\">\n",
              "      <th></th>\n",
              "      <th>title</th>\n",
              "      <th>author</th>\n",
              "      <th>pub_year</th>\n",
              "      <th>publisher</th>\n",
              "      <th>description</th>\n",
              "    </tr>\n",
              "    <tr>\n",
              "      <th>ISBN</th>\n",
              "      <th></th>\n",
              "      <th></th>\n",
              "      <th></th>\n",
              "      <th></th>\n",
              "      <th></th>\n",
              "    </tr>\n",
              "  </thead>\n",
              "  <tbody>\n",
              "    <tr>\n",
              "      <th>3404148576</th>\n",
              "      <td>Nordermoor</td>\n",
              "      <td>Arnaldur Indridason</td>\n",
              "      <td>2003</td>\n",
              "      <td>LÃ?Â¼bbe</td>\n",
              "      <td>Nordermoor</td>\n",
              "    </tr>\n",
              "    <tr>\n",
              "      <th>3423071516</th>\n",
              "      <td>Der Kleine Hobbit</td>\n",
              "      <td>J. R. R. Tolkien</td>\n",
              "      <td>2002</td>\n",
              "      <td>Distribooks</td>\n",
              "      <td>Der Kleine Hobbit</td>\n",
              "    </tr>\n",
              "    <tr>\n",
              "      <th>3442413508</th>\n",
              "      <td>Auf Ehre und Gewissen. Roman.</td>\n",
              "      <td>Elizabeth George</td>\n",
              "      <td>1992</td>\n",
              "      <td>Goldmann</td>\n",
              "      <td>Auf Ehre und Gewissen. Roman.</td>\n",
              "    </tr>\n",
              "    <tr>\n",
              "      <th>3442437717</th>\n",
              "      <td>Asche zu Asche.</td>\n",
              "      <td>Elizabeth George</td>\n",
              "      <td>1997</td>\n",
              "      <td>Goldmann</td>\n",
              "      <td>Asche zu Asche.</td>\n",
              "    </tr>\n",
              "    <tr>\n",
              "      <th>3442444020</th>\n",
              "      <td>Denn sie betrÃ?Â¼gt man nicht.</td>\n",
              "      <td>Elizabeth George</td>\n",
              "      <td>1999</td>\n",
              "      <td>Goldmann</td>\n",
              "      <td>Denn sie betrÃ?Â¼gt man nicht.</td>\n",
              "    </tr>\n",
              "    <tr>\n",
              "      <th>3442446414</th>\n",
              "      <td>Mit dem KÃ?Â¼hlschrank durch Irland.</td>\n",
              "      <td>Tony Hawks</td>\n",
              "      <td>2000</td>\n",
              "      <td>Goldmann</td>\n",
              "      <td>Mit dem KÃ?Â¼hlschrank durch Irland.</td>\n",
              "    </tr>\n",
              "    <tr>\n",
              "      <th>3442448530</th>\n",
              "      <td>Die HirnkÃ?Â¶nigin.</td>\n",
              "      <td>Thea Dorn</td>\n",
              "      <td>2001</td>\n",
              "      <td>Goldmann</td>\n",
              "      <td>Die Journalistin Kyra Berg recherchiert in ein...</td>\n",
              "    </tr>\n",
              "    <tr>\n",
              "      <th>3551551677</th>\n",
              "      <td>Harry Potter und der Stein der Weisen</td>\n",
              "      <td>Joanne K. Rowling</td>\n",
              "      <td>1999</td>\n",
              "      <td>Carlsen Verlag GmbH</td>\n",
              "      <td>Eigentlich hatte Harry geglaubt, er sei ein ga...</td>\n",
              "    </tr>\n",
              "    <tr>\n",
              "      <th>3551551685</th>\n",
              "      <td>Harry Potter und die Kammer des Schreckens</td>\n",
              "      <td>Joanne K. Rowling</td>\n",
              "      <td>2000</td>\n",
              "      <td>Carlsen Verlag GmbH</td>\n",
              "      <td>Auf der Hogwarts-Schule für Zauberei erleben H...</td>\n",
              "    </tr>\n",
              "    <tr>\n",
              "      <th>3551551693</th>\n",
              "      <td>Harry Potter und der Gefangene von Azkaban</td>\n",
              "      <td>J. K. Rowling</td>\n",
              "      <td>1999</td>\n",
              "      <td>Carlsen Verlag GmbH</td>\n",
              "      <td>An extraordinary creative achievement by an ex...</td>\n",
              "    </tr>\n",
              "    <tr>\n",
              "      <th>3551551936</th>\n",
              "      <td>Harry Potter Und Der Feuerkelch</td>\n",
              "      <td>Joanne K. Rowling</td>\n",
              "      <td>1999</td>\n",
              "      <td>Carlsen Verlag GmbH</td>\n",
              "      <td>Harry Potter beginnt sein viertes Schuljahr in...</td>\n",
              "    </tr>\n",
              "  </tbody>\n",
              "</table>\n",
              "</div>"
            ],
            "text/plain": [
              "                                                 title  ...                                        description\n",
              "ISBN                                                    ...                                                   \n",
              "3404148576                                  Nordermoor  ...                                         Nordermoor\n",
              "3423071516                           Der Kleine Hobbit  ...                                  Der Kleine Hobbit\n",
              "3442413508               Auf Ehre und Gewissen. Roman.  ...                      Auf Ehre und Gewissen. Roman.\n",
              "3442437717                             Asche zu Asche.  ...                                    Asche zu Asche.\n",
              "3442444020              Denn sie betrÃ?Â¼gt man nicht.  ...                     Denn sie betrÃ?Â¼gt man nicht.\n",
              "3442446414        Mit dem KÃ?Â¼hlschrank durch Irland.  ...               Mit dem KÃ?Â¼hlschrank durch Irland.\n",
              "3442448530                         Die HirnkÃ?Â¶nigin.  ...  Die Journalistin Kyra Berg recherchiert in ein...\n",
              "3551551677       Harry Potter und der Stein der Weisen  ...  Eigentlich hatte Harry geglaubt, er sei ein ga...\n",
              "3551551685  Harry Potter und die Kammer des Schreckens  ...  Auf der Hogwarts-Schule für Zauberei erleben H...\n",
              "3551551693  Harry Potter und der Gefangene von Azkaban  ...  An extraordinary creative achievement by an ex...\n",
              "3551551936             Harry Potter Und Der Feuerkelch  ...  Harry Potter beginnt sein viertes Schuljahr in...\n",
              "\n",
              "[11 rows x 5 columns]"
            ]
          },
          "metadata": {
            "tags": []
          },
          "execution_count": 63
        }
      ]
    },
    {
      "cell_type": "markdown",
      "metadata": {
        "id": "K5lf-JQEOs0s"
      },
      "source": [
        "We can observe that this user read some Sci-Fi books. For example, several different Harry Potter Books.\r\n",
        "\r\n",
        "Next, we will generate recommendation for this user."
      ]
    },
    {
      "cell_type": "code",
      "metadata": {
        "ExecuteTime": {
          "end_time": "2019-12-15T11:35:47.092071Z",
          "start_time": "2019-12-15T11:35:47.059167Z"
        },
        "colab": {
          "base_uri": "https://localhost:8080/"
        },
        "id": "LrMDSpTYMITw",
        "outputId": "b81a0dba-ad31-4db1-eb72-5413aa5a5799"
      },
      "source": [
        "recommand_item2user(userID = 276847,similarity_dict=results)"
      ],
      "execution_count": 73,
      "outputs": [
        {
          "output_type": "stream",
          "text": [
            "Build upon previous interactions you may also like to read:\n",
            "isbn: 2070528189\n",
            "title                    Harry Potter et le prisonnier d'Azkaban\n",
            "author                                             J. K. Rowling\n",
            "pub_year                                                    1999\n",
            "publisher                                     Gallimard Jeunesse\n",
            "description    An extraordinary creative achievement by an ex...\n",
            "Name: 2070528189, dtype: object\n",
            "\n",
            "\n",
            "isbn: 439136369\n",
            "title          Harry Potter and the Chamber of Secrets (Book 2)'\n",
            "author                                             J. K. Rowling\n",
            "pub_year                                                    2001\n",
            "publisher                                             Scholastic\n",
            "description    During his third year at Hogwarts School for W...\n",
            "Name: 439136369, dtype: object\n",
            "\n",
            "\n",
            "**********************************************************\n",
            "We extend our recommendation by utilizing TFIDF\n",
            "Therefore, you may also like to read: \n",
            "**********************************************************\n",
            "isbn: 043965548X\t score:0.9999999999999997\n",
            "title          Harry Potter and the Prisoner of Azkaban (Harr...\n",
            "author                                              J.K. Rowling\n",
            "pub_year                                                    2004\n",
            "publisher                                  Scholastic Paperbacks\n",
            "description    An extraordinary creative achievement by an ex...\n",
            "Name: 043965548X, dtype: object\n",
            "\n",
            "\n",
            "isbn: 439136350\t score:1.0\n",
            "title          Harry Potter and the Prisoner of Azkaban (Book 3)\n",
            "author                                             J. K. Rowling\n",
            "pub_year                                                    1999\n",
            "publisher                                             Scholastic\n",
            "description    During his third year at Hogwarts School for W...\n",
            "Name: 439136350, dtype: object\n",
            "\n",
            "\n",
            "isbn: 059035342X\t score:0.4279754080950095\n",
            "title          Harry Potter and the Sorcerer's Stone (Harry P...\n",
            "author                                             J. K. Rowling\n",
            "pub_year                                                    1999\n",
            "publisher                                 Arthur A. Levine Books\n",
            "description    Rescued from the outrageous neglect of his aun...\n",
            "Name: 059035342X, dtype: object\n",
            "\n",
            "\n",
            "isbn: 043936213X\t score:0.4279754080950095\n",
            "title             Harry Potter and the Sorcerer's Stone (Book 1)\n",
            "author                                             J. K. Rowling\n",
            "pub_year                                                    2001\n",
            "publisher                                             Scholastic\n",
            "description    Rescued from the outrageous neglect of his aun...\n",
            "Name: 043936213X, dtype: object\n",
            "\n",
            "\n"
          ],
          "name": "stdout"
        }
      ]
    },
    {
      "cell_type": "markdown",
      "metadata": {
        "id": "m_JhlOxGPGgc"
      },
      "source": [
        "As observed, some of the recommended items are Harry Potter's books as well. \r\n",
        "\r\n",
        "***Limitation:*** According to our algorithm, we cannot understand that two different ISBN are the same book in a different language. \r\n",
        "\r\n",
        "\r\n",
        "Therefore, it is important to invest time in the preprocessing phase.\r\n",
        "\r\n",
        "As self-practice, you can now try to apply some preprocessing or a more complicated algorithm for generating recommendations."
      ]
    }
  ]
}