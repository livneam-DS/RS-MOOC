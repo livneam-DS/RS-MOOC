{
  "nbformat": 4,
  "nbformat_minor": 0,
  "metadata": {
    "kernelspec": {
      "display_name": "Python 3",
      "language": "python",
      "name": "python3"
    },
    "language_info": {
      "codemirror_mode": {
        "name": "ipython",
        "version": 3
      },
      "file_extension": ".py",
      "mimetype": "text/x-python",
      "name": "python",
      "nbconvert_exporter": "python",
      "pygments_lexer": "ipython3",
      "version": "3.6.8"
    },
    "toc": {
      "base_numbering": 1,
      "nav_menu": {},
      "number_sections": true,
      "sideBar": true,
      "skip_h1_title": false,
      "title_cell": "Table of Contents",
      "title_sidebar": "Contents",
      "toc_cell": false,
      "toc_position": {},
      "toc_section_display": true,
      "toc_window_display": false
    },
    "colab": {
      "name": "Content-Base approach build upon TFIDF.ipynb",
      "provenance": [],
      "collapsed_sections": [],
      "toc_visible": true
    }
  },
  "cells": [
    {
      "cell_type": "markdown",
      "metadata": {
        "id": "w2Y7MvjEOUxD"
      },
      "source": [
        "This is an example of how we can perform some Content-Base filtering approach on meta-data information for generating recommendations.\r\n",
        "\r\n",
        "We will load the file: books_n_description.csv. Then will perform a short EDA followed by TFIDF based recommendation. \r\n",
        "\r\n",
        "First, we will generate a recommendation base upon item2item similarity.\r\n",
        "Second, we will generate recommendations for a given user."
      ]
    },
    {
      "cell_type": "markdown",
      "metadata": {
        "id": "UD9rT-evORMA"
      },
      "source": [
        "#Imports"
      ]
    },
    {
      "cell_type": "code",
      "metadata": {
        "ExecuteTime": {
          "end_time": "2019-12-15T10:15:03.213091Z",
          "start_time": "2019-12-15T10:15:02.754401Z"
        },
        "id": "ZqSX9LffMITg"
      },
      "source": [
        "import numpy as np\n",
        "import pandas as pd\n",
        "import random\n",
        "import os"
      ],
      "execution_count": 75,
      "outputs": []
    },
    {
      "cell_type": "code",
      "metadata": {
        "colab": {
          "base_uri": "https://localhost:8080/"
        },
        "id": "kxKaKhvpPrZ7",
        "outputId": "5432b67b-d3ba-4064-aab1-281705d5328f"
      },
      "source": [
        "from google.colab import drive\r\n",
        "drive.mount('/content/drive')"
      ],
      "execution_count": 76,
      "outputs": [
        {
          "output_type": "stream",
          "text": [
            "Drive already mounted at /content/drive; to attempt to forcibly remount, call drive.mount(\"/content/drive\", force_remount=True).\n"
          ],
          "name": "stdout"
        }
      ]
    },
    {
      "cell_type": "markdown",
      "metadata": {
        "id": "GHwjwSjnPyS3"
      },
      "source": [
        "# Load Data"
      ]
    },
    {
      "cell_type": "code",
      "metadata": {
        "ExecuteTime": {
          "end_time": "2019-12-15T10:15:04.585501Z",
          "start_time": "2019-12-15T10:15:04.581496Z"
        },
        "id": "FM2LF0a5MITi"
      },
      "source": [
        "#Make sure you downloaded the dataset and you create such a path, alternativly - changed this path\r\n",
        "PATH = '/content/drive/My Drive/Recommender Systems/Content Base/Datasets/Book-Crossing'\r\n",
        "os.chdir(PATH)"
      ],
      "execution_count": 77,
      "outputs": []
    },
    {
      "cell_type": "code",
      "metadata": {
        "colab": {
          "base_uri": "https://localhost:8080/"
        },
        "id": "s0YRKj-csja7",
        "outputId": "66a63b66-c0a5-41b4-92c6-25f5d60d5c87"
      },
      "source": [
        "!ls"
      ],
      "execution_count": 78,
      "outputs": [
        {
          "output_type": "stream",
          "text": [
            "Books.csv\t\t books_n_description.gsheet  final_books.xlsx\n",
            "books_n_description.csv  BX-Book-Ratings.csv\t     ratings_expl.csv\n"
          ],
          "name": "stdout"
        }
      ]
    },
    {
      "cell_type": "code",
      "metadata": {
        "colab": {
          "base_uri": "https://localhost:8080/",
          "height": 198
        },
        "id": "NEnACgS0P4Z3",
        "outputId": "6e5efc5c-0348-4d7a-e10b-e1fa02ff4988"
      },
      "source": [
        "# Load data from csv file\r\n",
        "# items_desc = pd.read_excel('final_books.xlsx',index_col=0)\r\n",
        "items_desc = pd.read_csv('books_n_description.csv',encoding='latin-1',index_col=0)\r\n",
        "items_desc['ISBN'] = items_desc['ISBN'].astype(str)\r\n",
        "items_desc['description'] = items_desc['description'].fillna(items_desc['title'])\r\n",
        "items_desc['description'] = items_desc['description'].astype(str) \r\n",
        "items_desc_isbn = items_desc.set_index('ISBN') \r\n",
        "# print the first 5 rows of the data\r\n",
        "items_desc.head()"
      ],
      "execution_count": 81,
      "outputs": [
        {
          "output_type": "execute_result",
          "data": {
            "text/html": [
              "<div>\n",
              "<style scoped>\n",
              "    .dataframe tbody tr th:only-of-type {\n",
              "        vertical-align: middle;\n",
              "    }\n",
              "\n",
              "    .dataframe tbody tr th {\n",
              "        vertical-align: top;\n",
              "    }\n",
              "\n",
              "    .dataframe thead th {\n",
              "        text-align: right;\n",
              "    }\n",
              "</style>\n",
              "<table border=\"1\" class=\"dataframe\">\n",
              "  <thead>\n",
              "    <tr style=\"text-align: right;\">\n",
              "      <th></th>\n",
              "      <th>ISBN</th>\n",
              "      <th>title</th>\n",
              "      <th>author</th>\n",
              "      <th>pub_year</th>\n",
              "      <th>publisher</th>\n",
              "      <th>categories</th>\n",
              "      <th>description</th>\n",
              "    </tr>\n",
              "  </thead>\n",
              "  <tbody>\n",
              "    <tr>\n",
              "      <th>0</th>\n",
              "      <td>2005018</td>\n",
              "      <td>Clara Callan</td>\n",
              "      <td>Richard Bruce Wright</td>\n",
              "      <td>2001.0</td>\n",
              "      <td>HarperFlamingo Canada</td>\n",
              "      <td>Actresses</td>\n",
              "      <td>In a small town in Canada, Clara Callan reluct...</td>\n",
              "    </tr>\n",
              "    <tr>\n",
              "      <th>1</th>\n",
              "      <td>374157065</td>\n",
              "      <td>Flu: The Story of the Great Influenza Pandemic...</td>\n",
              "      <td>Gina Bari Kolata</td>\n",
              "      <td>1999.0</td>\n",
              "      <td>Farrar Straus Giroux</td>\n",
              "      <td>Medical</td>\n",
              "      <td>Describes the great flu epidemic of 1918, an o...</td>\n",
              "    </tr>\n",
              "    <tr>\n",
              "      <th>2</th>\n",
              "      <td>399135782</td>\n",
              "      <td>The Kitchen God's Wife</td>\n",
              "      <td>Amy Tan</td>\n",
              "      <td>1991.0</td>\n",
              "      <td>Putnam Pub Group</td>\n",
              "      <td>Fiction</td>\n",
              "      <td>A Chinese immigrant who is convinced she is dy...</td>\n",
              "    </tr>\n",
              "    <tr>\n",
              "      <th>3</th>\n",
              "      <td>440234743</td>\n",
              "      <td>The Testament</td>\n",
              "      <td>John Grisham</td>\n",
              "      <td>1999.0</td>\n",
              "      <td>Dell</td>\n",
              "      <td>Fiction</td>\n",
              "      <td>A suicidal billionaire, a burnt-out Washington...</td>\n",
              "    </tr>\n",
              "    <tr>\n",
              "      <th>4</th>\n",
              "      <td>452264464</td>\n",
              "      <td>Beloved (Plume Contemporary Fiction)</td>\n",
              "      <td>Toni Morrison</td>\n",
              "      <td>1994.0</td>\n",
              "      <td>Plume</td>\n",
              "      <td>Fiction</td>\n",
              "      <td>Staring unflinchingly into the abyss of slaver...</td>\n",
              "    </tr>\n",
              "  </tbody>\n",
              "</table>\n",
              "</div>"
            ],
            "text/plain": [
              "        ISBN  ...                                        description\n",
              "0    2005018  ...  In a small town in Canada, Clara Callan reluct...\n",
              "1  374157065  ...  Describes the great flu epidemic of 1918, an o...\n",
              "2  399135782  ...  A Chinese immigrant who is convinced she is dy...\n",
              "3  440234743  ...  A suicidal billionaire, a burnt-out Washington...\n",
              "4  452264464  ...  Staring unflinchingly into the abyss of slaver...\n",
              "\n",
              "[5 rows x 7 columns]"
            ]
          },
          "metadata": {
            "tags": []
          },
          "execution_count": 81
        }
      ]
    },
    {
      "cell_type": "markdown",
      "metadata": {
        "id": "BvpIM3sPMITk"
      },
      "source": [
        "We want to extend the information from the last notebook with this external information. (rating and metadata information)\n",
        "We have to check that the same ISBN codes are in all files.\n",
        "\n",
        "Hence, we will build a function that will filter all the ISBN codes that do not appear in the internal and external data."
      ]
    },
    {
      "cell_type": "code",
      "metadata": {
        "ExecuteTime": {
          "end_time": "2019-12-15T10:15:06.588350Z",
          "start_time": "2019-12-15T10:15:06.583355Z"
        },
        "id": "20kErvJ0MITl"
      },
      "source": [
        "def filter_data_to_relevant_isbn(df,lead_df):\n",
        "    \"\"\"\n",
        "    prequesition: df and lead_df must have 'isbn' column.\n",
        "    1) This method will set the index of the df to be the isbn.\n",
        "    2) Filter out all the isbn which do not appear in lead_df (external data)\n",
        "    3) return a filtered dataframe with isbn as the index.    \n",
        "\n",
        "    Parameters\n",
        "        ----------\n",
        "        df : DataFrame            \n",
        "        lead_df : DataFrame           \n",
        "    \"\"\"\n",
        "    df = df.set_index('ISBN')\n",
        "    lead_df = lead_df.set_index('ISBN')\n",
        "    print('shape before filtering: ',df.shape)\n",
        "    df = df.loc[df.index.isin(lead_df.index)]\n",
        "    print('shape after filtering: ',df.shape)\n",
        "    return df\n",
        "    "
      ],
      "execution_count": 82,
      "outputs": []
    },
    {
      "cell_type": "code",
      "metadata": {
        "ExecuteTime": {
          "end_time": "2019-12-15T10:15:08.207358Z",
          "start_time": "2019-12-15T10:15:07.533006Z"
        },
        "colab": {
          "base_uri": "https://localhost:8080/",
          "height": 274
        },
        "id": "f5gwB4RLMITl",
        "outputId": "4d9b7b17-c0b1-406d-88d1-7ed928c1203f"
      },
      "source": [
        "import seaborn as sns\n",
        "import matplotlib.pyplot as plt\n",
        "\n",
        "plt.figure(figsize=(16,2))\n",
        "plt.xticks(rotation=90)\n",
        "\n",
        "sns.countplot(items_desc['pub_year'])\n",
        "\n",
        "\n"
      ],
      "execution_count": 83,
      "outputs": [
        {
          "output_type": "stream",
          "text": [
            "/usr/local/lib/python3.7/dist-packages/seaborn/_decorators.py:43: FutureWarning: Pass the following variable as a keyword arg: x. From version 0.12, the only valid positional argument will be `data`, and passing other arguments without an explicit keyword will result in an error or misinterpretation.\n",
            "  FutureWarning\n"
          ],
          "name": "stderr"
        },
        {
          "output_type": "execute_result",
          "data": {
            "text/plain": [
              "<matplotlib.axes._subplots.AxesSubplot at 0x7f9b97cf6790>"
            ]
          },
          "metadata": {
            "tags": []
          },
          "execution_count": 83
        },
        {
          "output_type": "display_data",
          "data": {
            "image/png": "[encoded data removed]",
            "text/plain": [
              "<Figure size 1152x144 with 1 Axes>"
            ]
          },
          "metadata": {
            "tags": [],
            "needs_background": "light"
          }
        }
      ]
    },
    {
      "cell_type": "code",
      "metadata": {
        "ExecuteTime": {
          "end_time": "2019-12-15T10:15:08.575282Z",
          "start_time": "2019-12-15T10:15:08.209269Z"
        },
        "colab": {
          "base_uri": "https://localhost:8080/",
          "height": 265
        },
        "id": "N1lq49_WMITm",
        "outputId": "dc5536b7-27ff-4945-d37d-0cc8b2739aba"
      },
      "source": [
        "top_authors = items_desc['author'].value_counts().head(30)\n",
        "top_authors = top_authors.iloc[::-1] \n",
        "\n",
        "plt.figure(figsize=(16,2))\n",
        "plt.xticks(rotation=90)\n",
        "sns.barplot(x = top_authors.index ,y=top_authors)\n",
        "\n"
      ],
      "execution_count": 84,
      "outputs": [
        {
          "output_type": "execute_result",
          "data": {
            "text/plain": [
              "<matplotlib.axes._subplots.AxesSubplot at 0x7f9b92524c10>"
            ]
          },
          "metadata": {
            "tags": []
          },
          "execution_count": 84
        },
        {
          "output_type": "display_data",
          "data": {
            "image/png": "[encoded data removed]",
            "text/plain": [
              "<Figure size 1152x144 with 1 Axes>"
            ]
          },
          "metadata": {
            "tags": [],
            "needs_background": "light"
          }
        }
      ]
    },
    {
      "cell_type": "markdown",
      "metadata": {
        "id": "w-wBcKbv67XR"
      },
      "source": [
        "# Load Explicit Feedback"
      ]
    },
    {
      "cell_type": "code",
      "metadata": {
        "ExecuteTime": {
          "end_time": "2019-12-15T10:15:09.361708Z",
          "start_time": "2019-12-15T10:15:09.135316Z"
        },
        "colab": {
          "base_uri": "https://localhost:8080/",
          "height": 265
        },
        "id": "cXmjPSvZMITm",
        "outputId": "79846213-b456-4709-9376-81725a91b7c8"
      },
      "source": [
        "# Load explicit rating file.\n",
        "ratings_expl = pd.read_csv(os.path.join(PATH,'ratings_expl.csv'),names=['userID','ISBN','rating'],encoding='latin-1',sep=';',skiprows=1)\n",
        "ratings_expl['ISBN'] = ratings_expl['ISBN'].astype(str)\n",
        "ratings_expl_filtered = filter_data_to_relevant_isbn(ratings_expl,items_desc)\n",
        "ratings_expl_filtered['rating'] = ratings_expl_filtered['rating'].astype(int)\n",
        "\n",
        "ratings_expl_filtered.head()"
      ],
      "execution_count": 85,
      "outputs": [
        {
          "output_type": "stream",
          "text": [
            "shape before filtering:  (340047, 2)\n",
            "shape after filtering:  (23116, 2)\n"
          ],
          "name": "stdout"
        },
        {
          "output_type": "execute_result",
          "data": {
            "text/html": [
              "<div>\n",
              "<style scoped>\n",
              "    .dataframe tbody tr th:only-of-type {\n",
              "        vertical-align: middle;\n",
              "    }\n",
              "\n",
              "    .dataframe tbody tr th {\n",
              "        vertical-align: top;\n",
              "    }\n",
              "\n",
              "    .dataframe thead th {\n",
              "        text-align: right;\n",
              "    }\n",
              "</style>\n",
              "<table border=\"1\" class=\"dataframe\">\n",
              "  <thead>\n",
              "    <tr style=\"text-align: right;\">\n",
              "      <th></th>\n",
              "      <th>userID</th>\n",
              "      <th>rating</th>\n",
              "    </tr>\n",
              "    <tr>\n",
              "      <th>ISBN</th>\n",
              "      <th></th>\n",
              "      <th></th>\n",
              "    </tr>\n",
              "  </thead>\n",
              "  <tbody>\n",
              "    <tr>\n",
              "      <th>038550120X</th>\n",
              "      <td>276744</td>\n",
              "      <td>7</td>\n",
              "    </tr>\n",
              "    <tr>\n",
              "      <th>3442136644</th>\n",
              "      <td>276774</td>\n",
              "      <td>9</td>\n",
              "    </tr>\n",
              "    <tr>\n",
              "      <th>043935806X</th>\n",
              "      <td>276788</td>\n",
              "      <td>7</td>\n",
              "    </tr>\n",
              "    <tr>\n",
              "      <th>3548603203</th>\n",
              "      <td>276798</td>\n",
              "      <td>6</td>\n",
              "    </tr>\n",
              "    <tr>\n",
              "      <th>2253150711</th>\n",
              "      <td>276828</td>\n",
              "      <td>7</td>\n",
              "    </tr>\n",
              "  </tbody>\n",
              "</table>\n",
              "</div>"
            ],
            "text/plain": [
              "            userID  rating\n",
              "ISBN                      \n",
              "038550120X  276744       7\n",
              "3442136644  276774       9\n",
              "043935806X  276788       7\n",
              "3548603203  276798       6\n",
              "2253150711  276828       7"
            ]
          },
          "metadata": {
            "tags": []
          },
          "execution_count": 85
        }
      ]
    },
    {
      "cell_type": "code",
      "metadata": {
        "ExecuteTime": {
          "end_time": "2019-12-15T10:15:12.176423Z",
          "start_time": "2019-12-15T10:15:12.020812Z"
        },
        "colab": {
          "base_uri": "https://localhost:8080/",
          "height": 355
        },
        "id": "liVsswBzMITn",
        "outputId": "d784b4ca-f833-460e-b7e8-1fef0dcf5c8a"
      },
      "source": [
        "sns.countplot(ratings_expl_filtered['rating'])"
      ],
      "execution_count": 86,
      "outputs": [
        {
          "output_type": "stream",
          "text": [
            "/usr/local/lib/python3.7/dist-packages/seaborn/_decorators.py:43: FutureWarning: Pass the following variable as a keyword arg: x. From version 0.12, the only valid positional argument will be `data`, and passing other arguments without an explicit keyword will result in an error or misinterpretation.\n",
            "  FutureWarning\n"
          ],
          "name": "stderr"
        },
        {
          "output_type": "execute_result",
          "data": {
            "text/plain": [
              "<matplotlib.axes._subplots.AxesSubplot at 0x7f9b91d57290>"
            ]
          },
          "metadata": {
            "tags": []
          },
          "execution_count": 86
        },
        {
          "output_type": "display_data",
          "data": {
            "image/png": "[encoded data removed]",
            "text/plain": [
              "<Figure size 432x288 with 1 Axes>"
            ]
          },
          "metadata": {
            "tags": [],
            "needs_background": "light"
          }
        }
      ]
    },
    {
      "cell_type": "code",
      "metadata": {
        "ExecuteTime": {
          "end_time": "2019-12-15T10:15:13.343363Z",
          "start_time": "2019-12-15T10:15:12.927471Z"
        },
        "colab": {
          "base_uri": "https://localhost:8080/",
          "height": 240
        },
        "id": "AJbc09PbMITn",
        "outputId": "23a148b8-811c-43dd-b84d-a518fce19c74"
      },
      "source": [
        "top_isbn = ratings_expl['ISBN'].value_counts().head(30)\n",
        "top_isbn = top_isbn.iloc[::-1] \n",
        "\n",
        "plt.figure(figsize=(16,2))\n",
        "plt.xticks(rotation=90)\n",
        "ax = sns.barplot(x = top_isbn.index ,y=top_isbn)\n",
        "ax.set(xlabel='isbn', ylabel='amount of ratings',title='Top 30 books with highest amount of given rating')\n",
        "\n",
        "plt.show()\n",
        "\n",
        "\n",
        "\n"
      ],
      "execution_count": 87,
      "outputs": [
        {
          "output_type": "display_data",
          "data": {
            "image/png": "[encoded data removed]",
            "text/plain": [
              "<Figure size 1152x144 with 1 Axes>"
            ]
          },
          "metadata": {
            "tags": [],
            "needs_background": "light"
          }
        }
      ]
    },
    {
      "cell_type": "markdown",
      "metadata": {
        "id": "uxM7Z99MSIkS"
      },
      "source": [
        "# TFIDF - build upon description"
      ]
    },
    {
      "cell_type": "code",
      "metadata": {
        "ExecuteTime": {
          "end_time": "2019-12-15T10:16:27.723885Z",
          "start_time": "2019-12-15T10:16:27.632099Z"
        },
        "colab": {
          "base_uri": "https://localhost:8080/",
          "height": 265
        },
        "id": "Gv7h9LRsMITo",
        "outputId": "29b2accb-2ccd-44c0-9eb2-9cadc26ed4c0"
      },
      "source": [
        "from sklearn.feature_extraction.text import TfidfVectorizer\n",
        "# Creating a TfidfVectorizer object\n",
        "tf_vector = TfidfVectorizer(stop_words='english',min_df=5,ngram_range=(1,2))\n",
        "# transform each book description\n",
        "x = tf_vector.fit_transform(items_desc['description'])\n",
        "\n",
        "# Convert the TfidfVectorizer fit results into a table and display first 5 rows\n",
        "tf_vector_df = pd.DataFrame(x.toarray(), columns=tf_vector.get_feature_names())\n",
        "tf_vector_df.head()\n"
      ],
      "execution_count": 88,
      "outputs": [
        {
          "output_type": "execute_result",
          "data": {
            "text/html": [
              "<div>\n",
              "<style scoped>\n",
              "    .dataframe tbody tr th:only-of-type {\n",
              "        vertical-align: middle;\n",
              "    }\n",
              "\n",
              "    .dataframe tbody tr th {\n",
              "        vertical-align: top;\n",
              "    }\n",
              "\n",
              "    .dataframe thead th {\n",
              "        text-align: right;\n",
              "    }\n",
              "</style>\n",
              "<table border=\"1\" class=\"dataframe\">\n",
              "  <thead>\n",
              "    <tr style=\"text-align: right;\">\n",
              "      <th></th>\n",
              "      <th>000</th>\n",
              "      <th>000 ad</th>\n",
              "      <th>000 printing</th>\n",
              "      <th>10</th>\n",
              "      <th>100</th>\n",
              "      <th>100 000</th>\n",
              "      <th>101</th>\n",
              "      <th>101 stories</th>\n",
              "      <th>11</th>\n",
              "      <th>12</th>\n",
              "      <th>13</th>\n",
              "      <th>14</th>\n",
              "      <th>15</th>\n",
              "      <th>150</th>\n",
              "      <th>150 000</th>\n",
              "      <th>16</th>\n",
              "      <th>17</th>\n",
              "      <th>18</th>\n",
              "      <th>19</th>\n",
              "      <th>1930s</th>\n",
              "      <th>1950s</th>\n",
              "      <th>1960s</th>\n",
              "      <th>1970s</th>\n",
              "      <th>1984</th>\n",
              "      <th>1996</th>\n",
              "      <th>1998</th>\n",
              "      <th>1999</th>\n",
              "      <th>20</th>\n",
              "      <th>20 000</th>\n",
              "      <th>2000</th>\n",
              "      <th>2001</th>\n",
              "      <th>20th</th>\n",
              "      <th>20th century</th>\n",
              "      <th>21</th>\n",
              "      <th>21st</th>\n",
              "      <th>21st century</th>\n",
              "      <th>22</th>\n",
              "      <th>24</th>\n",
              "      <th>25</th>\n",
              "      <th>27</th>\n",
              "      <th>...</th>\n",
              "      <th>wrong</th>\n",
              "      <th>wrote</th>\n",
              "      <th>wuthering</th>\n",
              "      <th>wuthering heights</th>\n",
              "      <th>wyoming</th>\n",
              "      <th>xanth</th>\n",
              "      <th>ya</th>\n",
              "      <th>yankee</th>\n",
              "      <th>year</th>\n",
              "      <th>year old</th>\n",
              "      <th>yearling</th>\n",
              "      <th>yearling newbery</th>\n",
              "      <th>years</th>\n",
              "      <th>years ago</th>\n",
              "      <th>years earlier</th>\n",
              "      <th>years later</th>\n",
              "      <th>years old</th>\n",
              "      <th>yellow</th>\n",
              "      <th>yes</th>\n",
              "      <th>yesterday</th>\n",
              "      <th>york</th>\n",
              "      <th>york city</th>\n",
              "      <th>york times</th>\n",
              "      <th>young</th>\n",
              "      <th>young boy</th>\n",
              "      <th>young daughter</th>\n",
              "      <th>young girl</th>\n",
              "      <th>young man</th>\n",
              "      <th>young woman</th>\n",
              "      <th>young women</th>\n",
              "      <th>younger</th>\n",
              "      <th>youth</th>\n",
              "      <th>zebra</th>\n",
              "      <th>zebra historical</th>\n",
              "      <th>zen</th>\n",
              "      <th>zen art</th>\n",
              "      <th>zero</th>\n",
              "      <th>zone</th>\n",
              "      <th>zu</th>\n",
              "      <th>â¼r</th>\n",
              "    </tr>\n",
              "  </thead>\n",
              "  <tbody>\n",
              "    <tr>\n",
              "      <th>0</th>\n",
              "      <td>0.0</td>\n",
              "      <td>0.0</td>\n",
              "      <td>0.0</td>\n",
              "      <td>0.0</td>\n",
              "      <td>0.0</td>\n",
              "      <td>0.0</td>\n",
              "      <td>0.0</td>\n",
              "      <td>0.0</td>\n",
              "      <td>0.0</td>\n",
              "      <td>0.0</td>\n",
              "      <td>0.0</td>\n",
              "      <td>0.0</td>\n",
              "      <td>0.0</td>\n",
              "      <td>0.0</td>\n",
              "      <td>0.0</td>\n",
              "      <td>0.0</td>\n",
              "      <td>0.0</td>\n",
              "      <td>0.0</td>\n",
              "      <td>0.0</td>\n",
              "      <td>0.123582</td>\n",
              "      <td>0.0</td>\n",
              "      <td>0.0</td>\n",
              "      <td>0.0</td>\n",
              "      <td>0.0</td>\n",
              "      <td>0.0</td>\n",
              "      <td>0.0</td>\n",
              "      <td>0.0</td>\n",
              "      <td>0.0</td>\n",
              "      <td>0.0</td>\n",
              "      <td>0.0</td>\n",
              "      <td>0.0</td>\n",
              "      <td>0.0</td>\n",
              "      <td>0.0</td>\n",
              "      <td>0.0</td>\n",
              "      <td>0.0</td>\n",
              "      <td>0.0</td>\n",
              "      <td>0.0</td>\n",
              "      <td>0.0</td>\n",
              "      <td>0.0</td>\n",
              "      <td>0.0</td>\n",
              "      <td>...</td>\n",
              "      <td>0.0</td>\n",
              "      <td>0.0</td>\n",
              "      <td>0.0</td>\n",
              "      <td>0.0</td>\n",
              "      <td>0.0</td>\n",
              "      <td>0.0</td>\n",
              "      <td>0.0</td>\n",
              "      <td>0.0</td>\n",
              "      <td>0.000000</td>\n",
              "      <td>0.0</td>\n",
              "      <td>0.0</td>\n",
              "      <td>0.0</td>\n",
              "      <td>0.000000</td>\n",
              "      <td>0.0</td>\n",
              "      <td>0.0</td>\n",
              "      <td>0.00000</td>\n",
              "      <td>0.0</td>\n",
              "      <td>0.0</td>\n",
              "      <td>0.0</td>\n",
              "      <td>0.0</td>\n",
              "      <td>0.08796</td>\n",
              "      <td>0.0</td>\n",
              "      <td>0.0</td>\n",
              "      <td>0.075427</td>\n",
              "      <td>0.0</td>\n",
              "      <td>0.0</td>\n",
              "      <td>0.0</td>\n",
              "      <td>0.0</td>\n",
              "      <td>0.0</td>\n",
              "      <td>0.123582</td>\n",
              "      <td>0.0</td>\n",
              "      <td>0.0</td>\n",
              "      <td>0.0</td>\n",
              "      <td>0.0</td>\n",
              "      <td>0.0</td>\n",
              "      <td>0.0</td>\n",
              "      <td>0.0</td>\n",
              "      <td>0.0</td>\n",
              "      <td>0.0</td>\n",
              "      <td>0.0</td>\n",
              "    </tr>\n",
              "    <tr>\n",
              "      <th>1</th>\n",
              "      <td>0.0</td>\n",
              "      <td>0.0</td>\n",
              "      <td>0.0</td>\n",
              "      <td>0.0</td>\n",
              "      <td>0.0</td>\n",
              "      <td>0.0</td>\n",
              "      <td>0.0</td>\n",
              "      <td>0.0</td>\n",
              "      <td>0.0</td>\n",
              "      <td>0.0</td>\n",
              "      <td>0.0</td>\n",
              "      <td>0.0</td>\n",
              "      <td>0.0</td>\n",
              "      <td>0.0</td>\n",
              "      <td>0.0</td>\n",
              "      <td>0.0</td>\n",
              "      <td>0.0</td>\n",
              "      <td>0.0</td>\n",
              "      <td>0.0</td>\n",
              "      <td>0.000000</td>\n",
              "      <td>0.0</td>\n",
              "      <td>0.0</td>\n",
              "      <td>0.0</td>\n",
              "      <td>0.0</td>\n",
              "      <td>0.0</td>\n",
              "      <td>0.0</td>\n",
              "      <td>0.0</td>\n",
              "      <td>0.0</td>\n",
              "      <td>0.0</td>\n",
              "      <td>0.0</td>\n",
              "      <td>0.0</td>\n",
              "      <td>0.0</td>\n",
              "      <td>0.0</td>\n",
              "      <td>0.0</td>\n",
              "      <td>0.0</td>\n",
              "      <td>0.0</td>\n",
              "      <td>0.0</td>\n",
              "      <td>0.0</td>\n",
              "      <td>0.0</td>\n",
              "      <td>0.0</td>\n",
              "      <td>...</td>\n",
              "      <td>0.0</td>\n",
              "      <td>0.0</td>\n",
              "      <td>0.0</td>\n",
              "      <td>0.0</td>\n",
              "      <td>0.0</td>\n",
              "      <td>0.0</td>\n",
              "      <td>0.0</td>\n",
              "      <td>0.0</td>\n",
              "      <td>0.000000</td>\n",
              "      <td>0.0</td>\n",
              "      <td>0.0</td>\n",
              "      <td>0.0</td>\n",
              "      <td>0.000000</td>\n",
              "      <td>0.0</td>\n",
              "      <td>0.0</td>\n",
              "      <td>0.00000</td>\n",
              "      <td>0.0</td>\n",
              "      <td>0.0</td>\n",
              "      <td>0.0</td>\n",
              "      <td>0.0</td>\n",
              "      <td>0.00000</td>\n",
              "      <td>0.0</td>\n",
              "      <td>0.0</td>\n",
              "      <td>0.000000</td>\n",
              "      <td>0.0</td>\n",
              "      <td>0.0</td>\n",
              "      <td>0.0</td>\n",
              "      <td>0.0</td>\n",
              "      <td>0.0</td>\n",
              "      <td>0.000000</td>\n",
              "      <td>0.0</td>\n",
              "      <td>0.0</td>\n",
              "      <td>0.0</td>\n",
              "      <td>0.0</td>\n",
              "      <td>0.0</td>\n",
              "      <td>0.0</td>\n",
              "      <td>0.0</td>\n",
              "      <td>0.0</td>\n",
              "      <td>0.0</td>\n",
              "      <td>0.0</td>\n",
              "    </tr>\n",
              "    <tr>\n",
              "      <th>2</th>\n",
              "      <td>0.0</td>\n",
              "      <td>0.0</td>\n",
              "      <td>0.0</td>\n",
              "      <td>0.0</td>\n",
              "      <td>0.0</td>\n",
              "      <td>0.0</td>\n",
              "      <td>0.0</td>\n",
              "      <td>0.0</td>\n",
              "      <td>0.0</td>\n",
              "      <td>0.0</td>\n",
              "      <td>0.0</td>\n",
              "      <td>0.0</td>\n",
              "      <td>0.0</td>\n",
              "      <td>0.0</td>\n",
              "      <td>0.0</td>\n",
              "      <td>0.0</td>\n",
              "      <td>0.0</td>\n",
              "      <td>0.0</td>\n",
              "      <td>0.0</td>\n",
              "      <td>0.000000</td>\n",
              "      <td>0.0</td>\n",
              "      <td>0.0</td>\n",
              "      <td>0.0</td>\n",
              "      <td>0.0</td>\n",
              "      <td>0.0</td>\n",
              "      <td>0.0</td>\n",
              "      <td>0.0</td>\n",
              "      <td>0.0</td>\n",
              "      <td>0.0</td>\n",
              "      <td>0.0</td>\n",
              "      <td>0.0</td>\n",
              "      <td>0.0</td>\n",
              "      <td>0.0</td>\n",
              "      <td>0.0</td>\n",
              "      <td>0.0</td>\n",
              "      <td>0.0</td>\n",
              "      <td>0.0</td>\n",
              "      <td>0.0</td>\n",
              "      <td>0.0</td>\n",
              "      <td>0.0</td>\n",
              "      <td>...</td>\n",
              "      <td>0.0</td>\n",
              "      <td>0.0</td>\n",
              "      <td>0.0</td>\n",
              "      <td>0.0</td>\n",
              "      <td>0.0</td>\n",
              "      <td>0.0</td>\n",
              "      <td>0.0</td>\n",
              "      <td>0.0</td>\n",
              "      <td>0.192661</td>\n",
              "      <td>0.0</td>\n",
              "      <td>0.0</td>\n",
              "      <td>0.0</td>\n",
              "      <td>0.000000</td>\n",
              "      <td>0.0</td>\n",
              "      <td>0.0</td>\n",
              "      <td>0.00000</td>\n",
              "      <td>0.0</td>\n",
              "      <td>0.0</td>\n",
              "      <td>0.0</td>\n",
              "      <td>0.0</td>\n",
              "      <td>0.00000</td>\n",
              "      <td>0.0</td>\n",
              "      <td>0.0</td>\n",
              "      <td>0.000000</td>\n",
              "      <td>0.0</td>\n",
              "      <td>0.0</td>\n",
              "      <td>0.0</td>\n",
              "      <td>0.0</td>\n",
              "      <td>0.0</td>\n",
              "      <td>0.000000</td>\n",
              "      <td>0.0</td>\n",
              "      <td>0.0</td>\n",
              "      <td>0.0</td>\n",
              "      <td>0.0</td>\n",
              "      <td>0.0</td>\n",
              "      <td>0.0</td>\n",
              "      <td>0.0</td>\n",
              "      <td>0.0</td>\n",
              "      <td>0.0</td>\n",
              "      <td>0.0</td>\n",
              "    </tr>\n",
              "    <tr>\n",
              "      <th>3</th>\n",
              "      <td>0.0</td>\n",
              "      <td>0.0</td>\n",
              "      <td>0.0</td>\n",
              "      <td>0.0</td>\n",
              "      <td>0.0</td>\n",
              "      <td>0.0</td>\n",
              "      <td>0.0</td>\n",
              "      <td>0.0</td>\n",
              "      <td>0.0</td>\n",
              "      <td>0.0</td>\n",
              "      <td>0.0</td>\n",
              "      <td>0.0</td>\n",
              "      <td>0.0</td>\n",
              "      <td>0.0</td>\n",
              "      <td>0.0</td>\n",
              "      <td>0.0</td>\n",
              "      <td>0.0</td>\n",
              "      <td>0.0</td>\n",
              "      <td>0.0</td>\n",
              "      <td>0.000000</td>\n",
              "      <td>0.0</td>\n",
              "      <td>0.0</td>\n",
              "      <td>0.0</td>\n",
              "      <td>0.0</td>\n",
              "      <td>0.0</td>\n",
              "      <td>0.0</td>\n",
              "      <td>0.0</td>\n",
              "      <td>0.0</td>\n",
              "      <td>0.0</td>\n",
              "      <td>0.0</td>\n",
              "      <td>0.0</td>\n",
              "      <td>0.0</td>\n",
              "      <td>0.0</td>\n",
              "      <td>0.0</td>\n",
              "      <td>0.0</td>\n",
              "      <td>0.0</td>\n",
              "      <td>0.0</td>\n",
              "      <td>0.0</td>\n",
              "      <td>0.0</td>\n",
              "      <td>0.0</td>\n",
              "      <td>...</td>\n",
              "      <td>0.0</td>\n",
              "      <td>0.0</td>\n",
              "      <td>0.0</td>\n",
              "      <td>0.0</td>\n",
              "      <td>0.0</td>\n",
              "      <td>0.0</td>\n",
              "      <td>0.0</td>\n",
              "      <td>0.0</td>\n",
              "      <td>0.000000</td>\n",
              "      <td>0.0</td>\n",
              "      <td>0.0</td>\n",
              "      <td>0.0</td>\n",
              "      <td>0.000000</td>\n",
              "      <td>0.0</td>\n",
              "      <td>0.0</td>\n",
              "      <td>0.00000</td>\n",
              "      <td>0.0</td>\n",
              "      <td>0.0</td>\n",
              "      <td>0.0</td>\n",
              "      <td>0.0</td>\n",
              "      <td>0.00000</td>\n",
              "      <td>0.0</td>\n",
              "      <td>0.0</td>\n",
              "      <td>0.000000</td>\n",
              "      <td>0.0</td>\n",
              "      <td>0.0</td>\n",
              "      <td>0.0</td>\n",
              "      <td>0.0</td>\n",
              "      <td>0.0</td>\n",
              "      <td>0.000000</td>\n",
              "      <td>0.0</td>\n",
              "      <td>0.0</td>\n",
              "      <td>0.0</td>\n",
              "      <td>0.0</td>\n",
              "      <td>0.0</td>\n",
              "      <td>0.0</td>\n",
              "      <td>0.0</td>\n",
              "      <td>0.0</td>\n",
              "      <td>0.0</td>\n",
              "      <td>0.0</td>\n",
              "    </tr>\n",
              "    <tr>\n",
              "      <th>4</th>\n",
              "      <td>0.0</td>\n",
              "      <td>0.0</td>\n",
              "      <td>0.0</td>\n",
              "      <td>0.0</td>\n",
              "      <td>0.0</td>\n",
              "      <td>0.0</td>\n",
              "      <td>0.0</td>\n",
              "      <td>0.0</td>\n",
              "      <td>0.0</td>\n",
              "      <td>0.0</td>\n",
              "      <td>0.0</td>\n",
              "      <td>0.0</td>\n",
              "      <td>0.0</td>\n",
              "      <td>0.0</td>\n",
              "      <td>0.0</td>\n",
              "      <td>0.0</td>\n",
              "      <td>0.0</td>\n",
              "      <td>0.0</td>\n",
              "      <td>0.0</td>\n",
              "      <td>0.000000</td>\n",
              "      <td>0.0</td>\n",
              "      <td>0.0</td>\n",
              "      <td>0.0</td>\n",
              "      <td>0.0</td>\n",
              "      <td>0.0</td>\n",
              "      <td>0.0</td>\n",
              "      <td>0.0</td>\n",
              "      <td>0.0</td>\n",
              "      <td>0.0</td>\n",
              "      <td>0.0</td>\n",
              "      <td>0.0</td>\n",
              "      <td>0.0</td>\n",
              "      <td>0.0</td>\n",
              "      <td>0.0</td>\n",
              "      <td>0.0</td>\n",
              "      <td>0.0</td>\n",
              "      <td>0.0</td>\n",
              "      <td>0.0</td>\n",
              "      <td>0.0</td>\n",
              "      <td>0.0</td>\n",
              "      <td>...</td>\n",
              "      <td>0.0</td>\n",
              "      <td>0.0</td>\n",
              "      <td>0.0</td>\n",
              "      <td>0.0</td>\n",
              "      <td>0.0</td>\n",
              "      <td>0.0</td>\n",
              "      <td>0.0</td>\n",
              "      <td>0.0</td>\n",
              "      <td>0.000000</td>\n",
              "      <td>0.0</td>\n",
              "      <td>0.0</td>\n",
              "      <td>0.0</td>\n",
              "      <td>0.127454</td>\n",
              "      <td>0.0</td>\n",
              "      <td>0.0</td>\n",
              "      <td>0.18212</td>\n",
              "      <td>0.0</td>\n",
              "      <td>0.0</td>\n",
              "      <td>0.0</td>\n",
              "      <td>0.0</td>\n",
              "      <td>0.00000</td>\n",
              "      <td>0.0</td>\n",
              "      <td>0.0</td>\n",
              "      <td>0.000000</td>\n",
              "      <td>0.0</td>\n",
              "      <td>0.0</td>\n",
              "      <td>0.0</td>\n",
              "      <td>0.0</td>\n",
              "      <td>0.0</td>\n",
              "      <td>0.000000</td>\n",
              "      <td>0.0</td>\n",
              "      <td>0.0</td>\n",
              "      <td>0.0</td>\n",
              "      <td>0.0</td>\n",
              "      <td>0.0</td>\n",
              "      <td>0.0</td>\n",
              "      <td>0.0</td>\n",
              "      <td>0.0</td>\n",
              "      <td>0.0</td>\n",
              "      <td>0.0</td>\n",
              "    </tr>\n",
              "  </tbody>\n",
              "</table>\n",
              "<p>5 rows × 4260 columns</p>\n",
              "</div>"
            ],
            "text/plain": [
              "   000  000 ad  000 printing   10  100  ...  zen art  zero  zone   zu  â¼r\n",
              "0  0.0     0.0           0.0  0.0  0.0  ...      0.0   0.0   0.0  0.0  0.0\n",
              "1  0.0     0.0           0.0  0.0  0.0  ...      0.0   0.0   0.0  0.0  0.0\n",
              "2  0.0     0.0           0.0  0.0  0.0  ...      0.0   0.0   0.0  0.0  0.0\n",
              "3  0.0     0.0           0.0  0.0  0.0  ...      0.0   0.0   0.0  0.0  0.0\n",
              "4  0.0     0.0           0.0  0.0  0.0  ...      0.0   0.0   0.0  0.0  0.0\n",
              "\n",
              "[5 rows x 4260 columns]"
            ]
          },
          "metadata": {
            "tags": []
          },
          "execution_count": 88
        }
      ]
    },
    {
      "cell_type": "code",
      "metadata": {
        "ExecuteTime": {
          "end_time": "2019-12-15T10:16:52.739242Z",
          "start_time": "2019-12-15T10:16:52.629265Z"
        },
        "id": "wCPRXS6cMITp"
      },
      "source": [
        "# Next, we will create a cosine similarity matrix between all items\n",
        "from sklearn.metrics.pairwise import linear_kernel\n",
        "cosine_similarities = linear_kernel(x, x)"
      ],
      "execution_count": 89,
      "outputs": []
    },
    {
      "cell_type": "code",
      "metadata": {
        "ExecuteTime": {
          "end_time": "2019-12-15T10:26:01.790245Z",
          "start_time": "2019-12-15T10:26:01.388266Z"
        },
        "id": "DaRXihFlMITp"
      },
      "source": [
        "# We will create a dictionary indicating the most similar results for each item.\n",
        "\n",
        "results = {} # dictionary created to store the result in a dictionary format (ID : (Score,item_id))#\n",
        "df_merge2 = items_desc.reset_index().rename(columns={items_desc.index.name:'ISBN'})\n",
        "for idx, row in df_merge2.iterrows(): #iterates through all the rows   \n",
        "    \n",
        "# the below code 'similar_indice' stores similar ids based on cosine similarity. sorts them in ascending order. [:-5:-1] is then used so that the indices with most similarity are got. 0 means no similarity and 1 means perfect similarity#\n",
        "    similar_indices = cosine_similarities[idx].argsort()[:-5:-1] \n",
        "\n",
        "    #stores 5(including itself) most similar books, you can change it as per your needs\n",
        "    similar_items = [( df_merge2['ISBN'][i],cosine_similarities[idx][i]) for i in similar_indices]\n",
        "    results[row['ISBN']] = similar_items[1:]"
      ],
      "execution_count": 90,
      "outputs": []
    },
    {
      "cell_type": "code",
      "metadata": {
        "ExecuteTime": {
          "end_time": "2019-12-15T10:36:13.935364Z",
          "start_time": "2019-12-15T10:36:13.930357Z"
        },
        "id": "jV6dOdHSMITr"
      },
      "source": [
        "def recommend_item2item(ISBN, num, similarity_dict):\n",
        "    \"\"\"\n",
        "    This function will generate item2item recommendation build TFIDF similarity.\n",
        "   \n",
        "    Parameters\n",
        "        ----------\n",
        "        ISBN : str, a book serial number\n",
        "        num : int, number of recommendations\n",
        "        similarity_dict: dictionary with TFIDF similarty scores for each item.\n",
        "    \"\"\"\n",
        "\n",
        "    if (num == 0):\n",
        "        print(\"Unable to recommend any book as you have not chosen the number of book to be recommended\")           \n",
        "    else :        \n",
        "        print(\"Recommending \" + str(num) + \" books similar to \" + \"ISBN: \")\n",
        "        \n",
        "        \n",
        "    print(\"----------------------------------------------------------\")    \n",
        "    recs = similarity_dict[ISBN][:num]    \n",
        "    for rec in recs:        \n",
        "        print(\"You may also like to read: \" + 'ISBN: ' + str(rec[0]) +'\\t score:' + str(rec[1]) + '\\n')\n",
        "        print (items_desc_isbn.loc[(str(rec[0]))])\n",
        "        print('\\n')\n",
        "            \n",
        "\n"
      ],
      "execution_count": 179,
      "outputs": []
    },
    {
      "cell_type": "code",
      "metadata": {
        "ExecuteTime": {
          "end_time": "2019-12-15T10:36:23.861841Z",
          "start_time": "2019-12-15T10:36:23.855846Z"
        },
        "colab": {
          "base_uri": "https://localhost:8080/"
        },
        "id": "Nd6z7ZhzMITr",
        "outputId": "a884e213-4cf9-466f-b7ce-85baa026a2e6"
      },
      "source": [
        "recommend_item2item('304345350',2,results)"
      ],
      "execution_count": 181,
      "outputs": [
        {
          "output_type": "stream",
          "text": [
            "Recommending 2 books similar to ISBN: \n",
            "----------------------------------------------------------\n",
            "You may also like to read: ISBN: 446342963\t score:0.6861919730782218\n",
            "\n",
            "title          Dreamer's Dictionary\n",
            "author                  Tom Corbett\n",
            "pub_year                       1986\n",
            "publisher              Warner Books\n",
            "categories                      NaN\n",
            "description    Dreamer's Dictionary\n",
            "Name: 446342963, dtype: object\n",
            "\n",
            "\n",
            "You may also like to read: ISBN: 067174559X\t score:0.633209619186057\n",
            "\n",
            "title          The Klingon Dictionary (Star Trek: All)\n",
            "author                                     Marc Okrand\n",
            "pub_year                                          1992\n",
            "publisher                                    Star Trek\n",
            "categories                                         NaN\n",
            "description    The Klingon Dictionary (Star Trek: All)\n",
            "Name: 067174559X, dtype: object\n",
            "\n",
            "\n"
          ],
          "name": "stdout"
        }
      ]
    },
    {
      "cell_type": "code",
      "metadata": {
        "ExecuteTime": {
          "end_time": "2019-12-15T11:35:43.548602Z",
          "start_time": "2019-12-15T11:35:43.537632Z"
        },
        "id": "F9peeYqHMITv"
      },
      "source": [
        "def recommand_item2user (userID,similarity_dict):\n",
        "    \"\"\" \n",
        "    This function will utilize all previous interactions of given user metadata. \n",
        "    First, we will get all previous books read by the userID.\n",
        "    Next, we will filter all available books according to:\n",
        "    1) minimum and maximum pub_year read by the user\n",
        "    2) authors appeared in previous read books\n",
        "    3) available books must not include books already read by the user.\n",
        "    Next, for each remaining candidate, we will generate recommendations and extend these recommendation according to the dictionary. \n",
        "    The value of the dictionary is a tuple (similarity_score, original_item_to_recommend).\n",
        "\n",
        "    Last, we will print all recommendations.\n",
        "\n",
        "\n",
        "        Parameters\n",
        "        ----------\n",
        "        userID : integer\n",
        "            The user ID\n",
        "        similarity_dict : dictionary of similarity base one TFIDF.             \n",
        "        \n",
        "        \"\"\"\n",
        "    \n",
        "    # Get previous metadata relevant to given userID\n",
        "    past_isbn = ratings_expl_filtered[ratings_expl_filtered['userID'] == userID].index    \n",
        "    max_year = max(items_desc_isbn.loc[past_isbn]['pub_year'])\n",
        "    min_year = min(items_desc_isbn.loc[past_isbn]['pub_year'])    \n",
        "    past_authors = items_desc_isbn.loc[past_isbn]['author'].unique()\n",
        "    candidate_df = items_desc_isbn[~items_desc_isbn.index.isin(past_isbn)]   \n",
        "    \n",
        "    candidate_df = candidate_df[candidate_df['pub_year'].between(min_year,max_year,inclusive=True)]\n",
        "    candidate_df = candidate_df[candidate_df['author'].isin(past_authors)]\n",
        "    \n",
        "    # Generate recommendations for each item read by the user\n",
        "    recs = {}\n",
        "    for item_id in past_isbn:\n",
        "        item_recommend = results[item_id]\n",
        "        recs.update(dict(item_recommend)) \n",
        "    \n",
        "    # Use only recommendations which are considered as candidates\n",
        "    sorted_recs = sorted(recs.items(), key=lambda kv: kv[1],reverse=True)    \n",
        "    candidate_df = candidate_df.loc[candidate_df.index.isin(recs.keys())]            \n",
        "    recommend_items_remain = np.unique(candidate_df.index.values)    \n",
        "    \n",
        "    # Extend the recommendation build upon the similarity_dict \n",
        "    recommendation_scores = {}\n",
        "    for rec in recommend_items_remain:                        \n",
        "        for similar_item in similarity_dict[rec]:\n",
        "            rec_isbn = similar_item[0]\n",
        "            rec_score = similar_item[1]\n",
        "            if rec_isbn not in recommendation_scores:\n",
        "                recommendation_scores[rec_isbn] = (rec_score,rec)\n",
        "\n",
        "            elif (recommendation_scores[rec_isbn][0] >rec_score):\n",
        "                     recommendation_scores[rec_isbn] = (recommendation_scores[rec_isbn][0],rec)            \n",
        "     \n",
        "    print(\"Build upon previous interactions you may also like to read:\")\n",
        "    for rec in recommend_items_remain:\n",
        "        print('isbn: ' + rec)\n",
        "        print(items_desc_isbn.loc[rec])\n",
        "        print('\\n')\n",
        "    \n",
        "    print('**********************************************************')\n",
        "    print(\"We extend our recommendation by utilizing TFIDF\")\n",
        "    print(\"Therefore, you may also like to read: \")\n",
        "    print('**********************************************************')\n",
        "    \n",
        "    for key in recommendation_scores:        \n",
        "        if ((key not in past_isbn.values) and (key not in recommend_items_remain )):            \n",
        "            print('isbn: ' + key +'\\t score:' + str(recommendation_scores[key]))\n",
        "            print(items_desc_isbn.loc[key])\n",
        "            print('\\n')\n",
        "            \n",
        "    \n",
        "        \n",
        "    \n",
        "    \n",
        "    \n",
        "    "
      ],
      "execution_count": 123,
      "outputs": []
    },
    {
      "cell_type": "markdown",
      "metadata": {
        "id": "MA5UmFisOT24"
      },
      "source": [
        "Let's demonstrate the usage of this recommendations method."
      ]
    },
    {
      "cell_type": "code",
      "metadata": {
        "colab": {
          "base_uri": "https://localhost:8080/",
          "height": 108
        },
        "id": "wKQJMOQJ05fL",
        "outputId": "66b9c52d-906f-463f-ffc8-8521f912881c"
      },
      "source": [
        "# We will see which ISBN were read by a given user. \r\n",
        "userID = 709\r\n",
        "items_desc_isbn.loc[ratings_expl_filtered[ratings_expl_filtered['userID'] == userID].index]"
      ],
      "execution_count": 182,
      "outputs": [
        {
          "output_type": "execute_result",
          "data": {
            "text/html": [
              "<div>\n",
              "<style scoped>\n",
              "    .dataframe tbody tr th:only-of-type {\n",
              "        vertical-align: middle;\n",
              "    }\n",
              "\n",
              "    .dataframe tbody tr th {\n",
              "        vertical-align: top;\n",
              "    }\n",
              "\n",
              "    .dataframe thead th {\n",
              "        text-align: right;\n",
              "    }\n",
              "</style>\n",
              "<table border=\"1\" class=\"dataframe\">\n",
              "  <thead>\n",
              "    <tr style=\"text-align: right;\">\n",
              "      <th></th>\n",
              "      <th>title</th>\n",
              "      <th>author</th>\n",
              "      <th>pub_year</th>\n",
              "      <th>publisher</th>\n",
              "      <th>categories</th>\n",
              "      <th>description</th>\n",
              "    </tr>\n",
              "    <tr>\n",
              "      <th>ISBN</th>\n",
              "      <th></th>\n",
              "      <th></th>\n",
              "      <th></th>\n",
              "      <th></th>\n",
              "      <th></th>\n",
              "      <th></th>\n",
              "    </tr>\n",
              "  </thead>\n",
              "  <tbody>\n",
              "    <tr>\n",
              "      <th>015216250X</th>\n",
              "      <td>So You Want to Be a Wizard: The First Book in ...</td>\n",
              "      <td>Diane Duane</td>\n",
              "      <td>2001.0</td>\n",
              "      <td>Magic Carpet Books</td>\n",
              "      <td>Fantasy</td>\n",
              "      <td>During a summer vacation at the beach, thirtee...</td>\n",
              "    </tr>\n",
              "  </tbody>\n",
              "</table>\n",
              "</div>"
            ],
            "text/plain": [
              "                                                        title  ...                                        description\n",
              "ISBN                                                           ...                                                   \n",
              "015216250X  So You Want to Be a Wizard: The First Book in ...  ...  During a summer vacation at the beach, thirtee...\n",
              "\n",
              "[1 rows x 6 columns]"
            ]
          },
          "metadata": {
            "tags": []
          },
          "execution_count": 182
        }
      ]
    },
    {
      "cell_type": "code",
      "metadata": {
        "ExecuteTime": {
          "end_time": "2019-12-15T11:35:47.092071Z",
          "start_time": "2019-12-15T11:35:47.059167Z"
        },
        "colab": {
          "base_uri": "https://localhost:8080/"
        },
        "id": "LrMDSpTYMITw",
        "outputId": "203dff9f-9748-48ff-eb98-656d32a1cb10"
      },
      "source": [
        "recommand_item2user(userID = 709,similarity_dict=results)"
      ],
      "execution_count": 175,
      "outputs": [
        {
          "output_type": "stream",
          "text": [
            "Build upon previous interactions you may also like to read:\n",
            "isbn: 152162577\n",
            "title          Deep Wizardry: The Second Book in the Young Wi...\n",
            "author                                               Diane Duane\n",
            "pub_year                                                    2001\n",
            "publisher                                     Magic Carpet Books\n",
            "categories                                      Juvenile Fiction\n",
            "description    During a summer vacation at the beach, thirtee...\n",
            "Name: 152162577, dtype: object\n",
            "\n",
            "\n",
            "**********************************************************\n",
            "We extend our recommendation by utilizing TFIDF\n",
            "Therefore, you may also like to read: \n",
            "**********************************************************\n",
            "isbn: 345274563\t score:(0.468462103068382, '152162577')\n",
            "title          Her Majesty's Wizard\n",
            "author         Christopher Stasheff\n",
            "pub_year                       1996\n",
            "publisher             Del Rey Books\n",
            "categories                      NaN\n",
            "description    Her Majesty's Wizard\n",
            "Name: 345274563, dtype: object\n",
            "\n",
            "\n",
            "isbn: 425146421\t score:(0.3651418792594274, '152162577')\n",
            "title             The Wizard's Daughter\n",
            "author                 Barbara Michaels\n",
            "pub_year                           1995\n",
            "publisher      Berkley Publishing Group\n",
            "categories                          NaN\n",
            "description       The Wizard's Daughter\n",
            "Name: 425146421, dtype: object\n",
            "\n",
            "\n"
          ],
          "name": "stdout"
        }
      ]
    },
    {
      "cell_type": "code",
      "metadata": {
        "colab": {
          "base_uri": "https://localhost:8080/",
          "height": 408
        },
        "id": "MWsZbJGkOYMW",
        "outputId": "1137beb0-dc11-43a9-a3a5-70c4dd8200a0"
      },
      "source": [
        "# Let's check another example.\r\n",
        "userID = 276847\r\n",
        "items_desc_isbn.loc[ratings_expl_filtered[ratings_expl_filtered['userID'] == userID].index]"
      ],
      "execution_count": 183,
      "outputs": [
        {
          "output_type": "execute_result",
          "data": {
            "text/html": [
              "<div>\n",
              "<style scoped>\n",
              "    .dataframe tbody tr th:only-of-type {\n",
              "        vertical-align: middle;\n",
              "    }\n",
              "\n",
              "    .dataframe tbody tr th {\n",
              "        vertical-align: top;\n",
              "    }\n",
              "\n",
              "    .dataframe thead th {\n",
              "        text-align: right;\n",
              "    }\n",
              "</style>\n",
              "<table border=\"1\" class=\"dataframe\">\n",
              "  <thead>\n",
              "    <tr style=\"text-align: right;\">\n",
              "      <th></th>\n",
              "      <th>title</th>\n",
              "      <th>author</th>\n",
              "      <th>pub_year</th>\n",
              "      <th>publisher</th>\n",
              "      <th>categories</th>\n",
              "      <th>description</th>\n",
              "    </tr>\n",
              "    <tr>\n",
              "      <th>ISBN</th>\n",
              "      <th></th>\n",
              "      <th></th>\n",
              "      <th></th>\n",
              "      <th></th>\n",
              "      <th></th>\n",
              "      <th></th>\n",
              "    </tr>\n",
              "  </thead>\n",
              "  <tbody>\n",
              "    <tr>\n",
              "      <th>3404148576</th>\n",
              "      <td>Nordermoor</td>\n",
              "      <td>Arnaldur Indridason</td>\n",
              "      <td>2003.0</td>\n",
              "      <td>LÃ?ÃÂ¼bbe</td>\n",
              "      <td>NaN</td>\n",
              "      <td>Nordermoor</td>\n",
              "    </tr>\n",
              "    <tr>\n",
              "      <th>3423071516</th>\n",
              "      <td>Der Kleine Hobbit</td>\n",
              "      <td>J. R. R. Tolkien</td>\n",
              "      <td>2002.0</td>\n",
              "      <td>Distribooks</td>\n",
              "      <td>NaN</td>\n",
              "      <td>Der Kleine Hobbit</td>\n",
              "    </tr>\n",
              "    <tr>\n",
              "      <th>3442413508</th>\n",
              "      <td>Auf Ehre und Gewissen. Roman.</td>\n",
              "      <td>Elizabeth George</td>\n",
              "      <td>1992.0</td>\n",
              "      <td>Goldmann</td>\n",
              "      <td>NaN</td>\n",
              "      <td>Auf Ehre und Gewissen. Roman.</td>\n",
              "    </tr>\n",
              "    <tr>\n",
              "      <th>3442437717</th>\n",
              "      <td>Asche zu Asche.</td>\n",
              "      <td>Elizabeth George</td>\n",
              "      <td>1997.0</td>\n",
              "      <td>Goldmann</td>\n",
              "      <td>NaN</td>\n",
              "      <td>Asche zu Asche.</td>\n",
              "    </tr>\n",
              "    <tr>\n",
              "      <th>3442444020</th>\n",
              "      <td>Denn sie betrÃ?ÃÂ¼gt man nicht.</td>\n",
              "      <td>Elizabeth George</td>\n",
              "      <td>1999.0</td>\n",
              "      <td>Goldmann</td>\n",
              "      <td>NaN</td>\n",
              "      <td>Denn sie betrÃ?ÃÂ¼gt man nicht.</td>\n",
              "    </tr>\n",
              "    <tr>\n",
              "      <th>3442446414</th>\n",
              "      <td>Mit dem KÃ?ÃÂ¼hlschrank durch Irland.</td>\n",
              "      <td>Tony Hawks</td>\n",
              "      <td>2000.0</td>\n",
              "      <td>Goldmann</td>\n",
              "      <td>NaN</td>\n",
              "      <td>Mit dem KÃ?ÃÂ¼hlschrank durch Irland.</td>\n",
              "    </tr>\n",
              "    <tr>\n",
              "      <th>3442448530</th>\n",
              "      <td>Die HirnkÃ?ÃÂ¶nigin.</td>\n",
              "      <td>Thea Dorn</td>\n",
              "      <td>2001.0</td>\n",
              "      <td>Goldmann</td>\n",
              "      <td>NaN</td>\n",
              "      <td>Die HirnkÃ?ÃÂ¶nigin.</td>\n",
              "    </tr>\n",
              "    <tr>\n",
              "      <th>3551551677</th>\n",
              "      <td>Harry Potter und der Stein der Weisen</td>\n",
              "      <td>Joanne K. Rowling</td>\n",
              "      <td>1999.0</td>\n",
              "      <td>Carlsen Verlag GmbH</td>\n",
              "      <td>NaN</td>\n",
              "      <td>Harry Potter und der Stein der Weisen</td>\n",
              "    </tr>\n",
              "    <tr>\n",
              "      <th>3551551685</th>\n",
              "      <td>Harry Potter und die Kammer des Schreckens</td>\n",
              "      <td>Joanne K. Rowling</td>\n",
              "      <td>2000.0</td>\n",
              "      <td>Carlsen Verlag GmbH</td>\n",
              "      <td>NaN</td>\n",
              "      <td>Harry Potter und die Kammer des Schreckens</td>\n",
              "    </tr>\n",
              "    <tr>\n",
              "      <th>3551551693</th>\n",
              "      <td>Harry Potter und der Gefangene von Azkaban</td>\n",
              "      <td>J. K. Rowling</td>\n",
              "      <td>1999.0</td>\n",
              "      <td>Carlsen Verlag GmbH</td>\n",
              "      <td>NaN</td>\n",
              "      <td>Harry Potter und der Gefangene von Azkaban</td>\n",
              "    </tr>\n",
              "    <tr>\n",
              "      <th>3551551936</th>\n",
              "      <td>Harry Potter Und Der Feuerkelch</td>\n",
              "      <td>Joanne K. Rowling</td>\n",
              "      <td>1999.0</td>\n",
              "      <td>Carlsen Verlag GmbH</td>\n",
              "      <td>NaN</td>\n",
              "      <td>Harry Potter Und Der Feuerkelch</td>\n",
              "    </tr>\n",
              "  </tbody>\n",
              "</table>\n",
              "</div>"
            ],
            "text/plain": [
              "                                                 title  ...                                 description\n",
              "ISBN                                                    ...                                            \n",
              "3404148576                                  Nordermoor  ...                                  Nordermoor\n",
              "3423071516                           Der Kleine Hobbit  ...                           Der Kleine Hobbit\n",
              "3442413508               Auf Ehre und Gewissen. Roman.  ...               Auf Ehre und Gewissen. Roman.\n",
              "3442437717                             Asche zu Asche.  ...                             Asche zu Asche.\n",
              "3442444020           Denn sie betrÃ?ÃÂ¼gt man nicht.  ...           Denn sie betrÃ?ÃÂ¼gt man nicht.\n",
              "3442446414     Mit dem KÃ?ÃÂ¼hlschrank durch Irland.  ...     Mit dem KÃ?ÃÂ¼hlschrank durch Irland.\n",
              "3442448530                      Die HirnkÃ?ÃÂ¶nigin.  ...                      Die HirnkÃ?ÃÂ¶nigin.\n",
              "3551551677       Harry Potter und der Stein der Weisen  ...       Harry Potter und der Stein der Weisen\n",
              "3551551685  Harry Potter und die Kammer des Schreckens  ...  Harry Potter und die Kammer des Schreckens\n",
              "3551551693  Harry Potter und der Gefangene von Azkaban  ...  Harry Potter und der Gefangene von Azkaban\n",
              "3551551936             Harry Potter Und Der Feuerkelch  ...             Harry Potter Und Der Feuerkelch\n",
              "\n",
              "[11 rows x 6 columns]"
            ]
          },
          "metadata": {
            "tags": []
          },
          "execution_count": 183
        }
      ]
    },
    {
      "cell_type": "markdown",
      "metadata": {
        "id": "K5lf-JQEOs0s"
      },
      "source": [
        "We can observe that this user read some Sci-Fi books. For example, several different Harry Potter Books.\r\n",
        "\r\n",
        "Next, we will generate recommendation for this user."
      ]
    },
    {
      "cell_type": "code",
      "metadata": {
        "colab": {
          "base_uri": "https://localhost:8080/"
        },
        "id": "kJ8Jm0GSzwgH",
        "outputId": "8bc30662-36a8-4fb9-afc2-a096f8682993"
      },
      "source": [
        "recommand_item2user(userID = 276847,similarity_dict=results)"
      ],
      "execution_count": 184,
      "outputs": [
        {
          "output_type": "stream",
          "text": [
            "Build upon previous interactions you may also like to read:\n",
            "isbn: 2070518426\n",
            "title          Harry Potter a l'ecole des sorciers\n",
            "author                               J. K. Rowling\n",
            "pub_year                                      1999\n",
            "publisher                       Gallimard Jeunesse\n",
            "categories                                     NaN\n",
            "description    Harry Potter a l'ecole des sorciers\n",
            "Name: 2070518426, dtype: object\n",
            "\n",
            "\n",
            "isbn: 439139597\n",
            "title          Harry Potter and the Goblet of Fire (Book 4)\n",
            "author                                        J. K. Rowling\n",
            "pub_year                                               2000\n",
            "publisher                                        Scholastic\n",
            "categories                                              NaN\n",
            "description    Harry Potter and the Goblet of Fire (Book 4)\n",
            "Name: 439139597, dtype: object\n",
            "\n",
            "\n",
            "**********************************************************\n",
            "We extend our recommendation by utilizing TFIDF\n",
            "Therefore, you may also like to read: \n",
            "**********************************************************\n",
            "isbn: 439139600\t score:(0.8269517341791304, '2070518426')\n",
            "title          Harry Potter and the Goblet of Fire (Book 4)\n",
            "author                                        J. K. Rowling\n",
            "pub_year                                               2002\n",
            "publisher                             Scholastic Paperbacks\n",
            "categories                                              NaN\n",
            "description    Harry Potter and the Goblet of Fire (Book 4)\n",
            "Name: 439139600, dtype: object\n",
            "\n",
            "\n",
            "isbn: 059035342X\t score:(0.7900888048964575, '2070518426')\n",
            "title          Harry Potter and the Sorcerer's Stone (Harry P...\n",
            "author                                             J. K. Rowling\n",
            "pub_year                                                    1999\n",
            "publisher                                 Arthur A. Levine Books\n",
            "categories                                                   NaN\n",
            "description    Harry Potter and the Sorcerer's Stone (Harry P...\n",
            "Name: 059035342X, dtype: object\n",
            "\n",
            "\n",
            "isbn: 043965548X\t score:(0.8537145092685652, '439139597')\n",
            "title          Harry Potter and the Prisoner of Azkaban (Harr...\n",
            "author                                              J.K. Rowling\n",
            "pub_year                                                    2004\n",
            "publisher                                  Scholastic Paperbacks\n",
            "categories                                                   NaN\n",
            "description    Harry Potter and the Prisoner of Azkaban (Harr...\n",
            "Name: 043965548X, dtype: object\n",
            "\n",
            "\n"
          ],
          "name": "stdout"
        }
      ]
    },
    {
      "cell_type": "markdown",
      "metadata": {
        "id": "m_JhlOxGPGgc"
      },
      "source": [
        "As observed, some of the recommended items are Harry Potter's books as well. \r\n",
        "\r\n",
        "***Limitation:*** According to our algorithm, we cannot understand that two different ISBN are the same book in a different language. \r\n",
        "\r\n",
        "\r\n",
        "Therefore, it is important to invest time in the preprocessing phase.\r\n",
        "\r\n",
        "As self-practice, you can now try to apply some preprocessing or a more complicated algorithm for generating recommendations."
      ]
    },
    {
      "cell_type": "markdown",
      "metadata": {
        "id": "MP20Upa4z56W"
      },
      "source": [
        "# Fix the bug\r\n",
        "Can you think about what did not work as suppose to ? \r\n",
        "Let's look at the following example: "
      ]
    },
    {
      "cell_type": "code",
      "metadata": {
        "colab": {
          "base_uri": "https://localhost:8080/"
        },
        "id": "ZlYxB9yXz1GE",
        "outputId": "e56eeced-33ca-4ab3-c316-274609f57ba3"
      },
      "source": [
        "recommand_item2user(userID = 735,similarity_dict=results)"
      ],
      "execution_count": 187,
      "outputs": [
        {
          "output_type": "stream",
          "text": [
            "Build upon previous interactions you may also like to read:\n",
            "**********************************************************\n",
            "We extend our recommendation by utilizing TFIDF\n",
            "Therefore, you may also like to read: \n",
            "**********************************************************\n"
          ],
          "name": "stdout"
        }
      ]
    },
    {
      "cell_type": "markdown",
      "metadata": {
        "id": "pD2RVeZW0BED"
      },
      "source": [
        "We did not get any recommendations. Can you think why? \r\n",
        "Can you fix this ? "
      ]
    }
  ]
}