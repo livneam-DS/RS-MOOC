{
  "nbformat": 4,
  "nbformat_minor": 0,
  "metadata": {
    "colab": {
      "name": "Recommendations Datasets.ipynb",
      "provenance": [],
      "collapsed_sections": []
    },
    "kernelspec": {
      "name": "python3",
      "display_name": "Python 3"
    }
  },
  "cells": [
    {
      "cell_type": "markdown",
      "metadata": {
        "id": "pOwbjbifXiWb"
      },
      "source": [
        "# Today we will cover several common datasets used for building recommendation systems"
      ]
    },
    {
      "cell_type": "markdown",
      "metadata": {
        "id": "ZROXT98qXzIC"
      },
      "source": [
        "## 1 Movielens"
      ]
    },
    {
      "cell_type": "markdown",
      "metadata": {
        "id": "FRFcV56yX6rI"
      },
      "source": [
        "GroupLens Research has collected and made available rating data sets from the MovieLens web site (http://movielens.org). The datasets were collected over various periods of time, depending on the size of the set. \n",
        "There are several different variantion of this dataset each containing different amount of records [Movielens Data](https://grouplens.org/datasets/movielens/)\n",
        "\n",
        "**Recommended for new research:**\n",
        "*   25 Million\n",
        "\n",
        "**Recommended for education and development:**\n",
        "*   Latest Million (includes small version of 100,00 records and full version consist of 27 Million records)\n",
        "\n",
        "**Synthetic datasets:**\n",
        "*   1 Billion (this version build upon the old 20 Million version)\n",
        "\n",
        "**Older Versions:**\n",
        "*   100,000 Records\n",
        "*   1 Million\n",
        "*   10 Million\n",
        "*   20 Million\n",
        "\n",
        "\n",
        "\n"
      ]
    },
    {
      "cell_type": "markdown",
      "metadata": {
        "id": "TYAE8pQTZxa1"
      },
      "source": [
        "## 2 Book-Crossing Dataset"
      ]
    },
    {
      "cell_type": "markdown",
      "metadata": {
        "id": "1K2FrfazZ4Nl"
      },
      "source": [
        "Book-Crossing Dataset is a 4-week crawl dataset from the Book-Crossing community. It contains 2,78,858 users who are anonymized, but with demographic information, providing 1,149,780 ratings (explicit / implicit) about 2,71,379 books.\n",
        "[Book-Crossing Data](http://www2.informatik.uni-freiburg.de/~cziegler/BX/)"
      ]
    },
    {
      "cell_type": "markdown",
      "metadata": {
        "id": "O8NRq9lwkYWN"
      },
      "source": [
        "## 3 Amazon Review Data"
      ]
    },
    {
      "cell_type": "markdown",
      "metadata": {
        "id": "MLiN7UDdkaxi"
      },
      "source": [
        "Amazon Review data is a collection of reviews, i.e. ratings, text, helpfulness votes, product metadata, i.e. descriptions, category information, price, brand, and image features, and links which are viewed. The dataset contains product reviews and metadata from Amazon, and the total number of reviews in this dataset is 233.1 million. [Amazon Data](https://nijianmo.github.io/amazon/index.html)"
      ]
    },
    {
      "cell_type": "markdown",
      "metadata": {
        "id": "Z8r--zCRkn9S"
      },
      "source": [
        "## 4 LastFM"
      ]
    },
    {
      "cell_type": "markdown",
      "metadata": {
        "id": "MYtOvlRGkpgq"
      },
      "source": [
        "This dataset contains social networking, tagging, and music artist listening information from a set of users from Last.fm online music system.\n",
        "[LastFM Data](http://files.grouplens.org/datasets/hetrec2011/)"
      ]
    },
    {
      "cell_type": "markdown",
      "metadata": {
        "id": "dnyJ6AlTluLS"
      },
      "source": [
        "## 5 Avazu CTR Prediction"
      ]
    },
    {
      "cell_type": "markdown",
      "metadata": {
        "id": "NeeZl-z9l5jk"
      },
      "source": [
        "In online advertising, click-through rate (CTR) is a very important metric for evaluating ad performance. As a result, click prediction systems are essential and widely used for sponsored search and real-time bidding.\n",
        "[Avazu Dataset](https://www.kaggle.com/c/avazu-ctr-prediction)"
      ]
    },
    {
      "cell_type": "markdown",
      "metadata": {
        "id": "m_DJOoWimFay"
      },
      "source": [
        "## 6 Yahoo! Music User Ratings"
      ]
    },
    {
      "cell_type": "markdown",
      "metadata": {
        "id": "boLXFVEUmFrH"
      },
      "source": [
        "This dataset represents a snapshot of the Yahoo! Music community's preferences for various musical artists. The dataset contains over ten million ratings of musical artists given by Yahoo! Music users over the course of a one month period sometime prior to March 2004. Users are represented as meaningless anonymous numbers so that no identifying information is revealed. The dataset may be used by researchers to validate recommender systems or collaborative filtering algorithms. The dataset may serve as a testbed for matrix and graph algorithms including PCA and clustering algorithms.\n",
        "[Yahoo! Dataset](https://webscope.sandbox.yahoo.com/catalog.php?datatype=r&guce_referrer=aHR0cHM6Ly9naXRodWIuY29tL2Nhc2VyZWMvRGF0YXNldHMtZm9yLVJlY29tbWVuZGVyLVN5c3RlbXM&guce_referrer_sig=AQAAAAkyH74jyiIv4JxPjvejltL1_Sk-yDNtNAbIpHn2YfUnG1v-2mxj_XOD-qtpvdqg-aoNtTk9pzWVkYzz3ZbvN5C2_RrjVAowWPR7lmx-GidaMerX8qOzosJayRViVuW2IEoTjMAeZ8xJlIoK38-6GQAJOwZjFsSv0AyQNj4oagqX&guccounter=2)"
      ]
    },
    {
      "cell_type": "markdown",
      "metadata": {
        "id": "Ikv2KpSylePE"
      },
      "source": [
        "## 7 Steam Video Games"
      ]
    },
    {
      "cell_type": "markdown",
      "metadata": {
        "id": "8ralBEBJlfqE"
      },
      "source": [
        "The Steam Video Games dataset is a collection of user behaviours such as purchase and play, with columns: user-id, game-title, behaviour-name and value, which indicates the degree to which the behavior was performed in the most popular PC Gaming hub, Steam.\n",
        "[Steam Data](https://www.kaggle.com/tamber/steam-video-games/data)"
      ]
    },
    {
      "cell_type": "markdown",
      "metadata": {
        "id": "iiIYEQ2ameRL"
      },
      "source": [
        "## 8 Netflix Prize Dataset "
      ]
    },
    {
      "cell_type": "markdown",
      "metadata": {
        "id": "2HFmOoHsmiw8"
      },
      "source": [
        "Netflix Prize dataset is the multivariate, time-series dataset which was used in the Netflix Prize competition. The Netflix Prize dataset consists of about 100 million movie ratings. There are over 4,80,000 customers in the dataset, where each is identified by a unique integer id. With the help of this dataset, one can predict missing entries in the movie-user rating matrix. \n",
        "[Netflix Prize Dataset](http://academictorrents.com/details/9b13183dc4d60676b773c9e2cd6de5e5542cee9a)"
      ]
    },
    {
      "cell_type": "markdown",
      "metadata": {
        "id": "EN2RodGDm1Mj"
      },
      "source": [
        "## 9 Million Song Dataset"
      ]
    },
    {
      "cell_type": "markdown",
      "metadata": {
        "id": "wbYW1pHjm2g0"
      },
      "source": [
        "Million Song Dataset is a collection of audio features and metadata for a million contemporary popular music tracks. Provided by Echo Nest, the core of this dataset is the feature analysis and metadata for one million songs. The purpose of this dataset is to encourage research on algorithms that scale to commercial sizes, provide a reference dataset for evaluating research, help new researchers get started in the MIR field, and more.\n",
        "[Million Song Dataset](http://millionsongdataset.com/)"
      ]
    },
    {
      "cell_type": "markdown",
      "metadata": {
        "id": "mWf6EbUxm-zL"
      },
      "source": [
        "## 10 Social Network Influencer"
      ]
    },
    {
      "cell_type": "markdown",
      "metadata": {
        "id": "g5ZISSBhm-jj"
      },
      "source": [
        "This dataset is provided by Peerindex, which comprises a standard, pairwise preference learning task. Here, each datapoint describes two individuals and the pre-computed, standardized features based on twitter activity. This includes the volume of interactions, number of followers, etc. provided for each individual. With the help of this dataset, one can train a machine learning model, which can predict which human is more influential with high accuracy.\n",
        "[Social Network Influncer](https://www.kaggle.com/c/predict-who-is-more-influential-in-a-social-network/data)"
      ]
    }
  ]
}