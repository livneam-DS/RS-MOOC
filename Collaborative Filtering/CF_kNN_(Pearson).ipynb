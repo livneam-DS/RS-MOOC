{
  "nbformat": 4,
  "nbformat_minor": 0,
  "metadata": {
    "colab": {
      "name": "2_1_11_CF_Pearson.ipynb",
      "provenance": [],
      "collapsed_sections": []
    },
    "kernelspec": {
      "name": "python3",
      "display_name": "Python 3"
    }
  },
  "cells": [
    {
      "cell_type": "markdown",
      "metadata": {
        "id": "CunUPpbYDK2N"
      },
      "source": [
        "## Today we will work on the movielens dataset. \n",
        "* Let's begin with downloading the dataset.\n",
        "* We will conduct a short exploration within the dataset.\n",
        "* We will define the kNN algorithm utilizing pearson correalation.\n",
        "\n"
      ]
    },
    {
      "cell_type": "code",
      "metadata": {
        "id": "hcsB2_CW5eZJ",
        "colab": {
          "base_uri": "https://localhost:8080/"
        },
        "outputId": "3338a35a-d760-41e3-f18f-004e439449b9"
      },
      "source": [
        "!wget 'http://files.grouplens.org/datasets/movielens/ml-latest-small.zip'"
      ],
      "execution_count": null,
      "outputs": [
        {
          "output_type": "stream",
          "text": [
            "--2020-10-07 06:50:18--  http://files.grouplens.org/datasets/movielens/ml-latest-small.zip\n",
            "Resolving files.grouplens.org (files.grouplens.org)... 128.101.65.152\n",
            "Connecting to files.grouplens.org (files.grouplens.org)|128.101.65.152|:80... connected.\n",
            "HTTP request sent, awaiting response... 200 OK\n",
            "Length: 978202 (955K) [application/zip]\n",
            "Saving to: ‘ml-latest-small.zip’\n",
            "\n",
            "ml-latest-small.zip 100%[===================>] 955.28K  --.-KB/s    in 0.1s    \n",
            "\n",
            "2020-10-07 06:50:18 (7.64 MB/s) - ‘ml-latest-small.zip’ saved [978202/978202]\n",
            "\n"
          ],
          "name": "stdout"
        }
      ]
    },
    {
      "cell_type": "code",
      "metadata": {
        "id": "-nNV5eSm5i4V",
        "colab": {
          "base_uri": "https://localhost:8080/"
        },
        "outputId": "9952d8b6-4b1e-4c31-d553-01528e9338bc"
      },
      "source": [
        "!unzip ml-latest-small.zip"
      ],
      "execution_count": null,
      "outputs": [
        {
          "output_type": "stream",
          "text": [
            "Archive:  ml-latest-small.zip\n",
            "   creating: ml-latest-small/\n",
            "  inflating: ml-latest-small/links.csv  \n",
            "  inflating: ml-latest-small/tags.csv  \n",
            "  inflating: ml-latest-small/ratings.csv  \n",
            "  inflating: ml-latest-small/README.txt  \n",
            "  inflating: ml-latest-small/movies.csv  \n"
          ],
          "name": "stdout"
        }
      ]
    },
    {
      "cell_type": "code",
      "metadata": {
        "id": "4ZKFRrqe7AKl"
      },
      "source": [
        "import math\n",
        "import os\n",
        "import pandas as pd\n",
        "import seaborn as sns\n",
        "import numpy as np\n",
        "np.seterr(divide='ignore', invalid='ignore')\n",
        "os.chdir('/content/ml-latest-small')"
      ],
      "execution_count": null,
      "outputs": []
    },
    {
      "cell_type": "markdown",
      "metadata": {
        "id": "swDxz1qDD3H2"
      },
      "source": [
        "#Dataset\n",
        "For calculating the KNN utilizing pearson correlation we need the data driven from the 'ratings' file. \n",
        "Let's load it."
      ]
    },
    {
      "cell_type": "code",
      "metadata": {
        "id": "upGewFYi6hep",
        "colab": {
          "base_uri": "https://localhost:8080/",
          "height": 195
        },
        "outputId": "6107ff63-7745-455b-aa7a-4c0ff31a2ae3"
      },
      "source": [
        "raw_data = pd.read_csv('ratings.csv')\n",
        "raw_data.head()"
      ],
      "execution_count": null,
      "outputs": [
        {
          "output_type": "execute_result",
          "data": {
            "text/html": [
              "<div>\n",
              "<style scoped>\n",
              "    .dataframe tbody tr th:only-of-type {\n",
              "        vertical-align: middle;\n",
              "    }\n",
              "\n",
              "    .dataframe tbody tr th {\n",
              "        vertical-align: top;\n",
              "    }\n",
              "\n",
              "    .dataframe thead th {\n",
              "        text-align: right;\n",
              "    }\n",
              "</style>\n",
              "<table border=\"1\" class=\"dataframe\">\n",
              "  <thead>\n",
              "    <tr style=\"text-align: right;\">\n",
              "      <th></th>\n",
              "      <th>userId</th>\n",
              "      <th>movieId</th>\n",
              "      <th>rating</th>\n",
              "      <th>timestamp</th>\n",
              "    </tr>\n",
              "  </thead>\n",
              "  <tbody>\n",
              "    <tr>\n",
              "      <th>0</th>\n",
              "      <td>1</td>\n",
              "      <td>1</td>\n",
              "      <td>4.0</td>\n",
              "      <td>964982703</td>\n",
              "    </tr>\n",
              "    <tr>\n",
              "      <th>1</th>\n",
              "      <td>1</td>\n",
              "      <td>3</td>\n",
              "      <td>4.0</td>\n",
              "      <td>964981247</td>\n",
              "    </tr>\n",
              "    <tr>\n",
              "      <th>2</th>\n",
              "      <td>1</td>\n",
              "      <td>6</td>\n",
              "      <td>4.0</td>\n",
              "      <td>964982224</td>\n",
              "    </tr>\n",
              "    <tr>\n",
              "      <th>3</th>\n",
              "      <td>1</td>\n",
              "      <td>47</td>\n",
              "      <td>5.0</td>\n",
              "      <td>964983815</td>\n",
              "    </tr>\n",
              "    <tr>\n",
              "      <th>4</th>\n",
              "      <td>1</td>\n",
              "      <td>50</td>\n",
              "      <td>5.0</td>\n",
              "      <td>964982931</td>\n",
              "    </tr>\n",
              "  </tbody>\n",
              "</table>\n",
              "</div>"
            ],
            "text/plain": [
              "   userId  movieId  rating  timestamp\n",
              "0       1        1     4.0  964982703\n",
              "1       1        3     4.0  964981247\n",
              "2       1        6     4.0  964982224\n",
              "3       1       47     5.0  964983815\n",
              "4       1       50     5.0  964982931"
            ]
          },
          "metadata": {
            "tags": []
          },
          "execution_count": 4
        }
      ]
    },
    {
      "cell_type": "markdown",
      "metadata": {
        "id": "7gEizOlTE22V"
      },
      "source": [
        "# Exploratory Data Analysis (EDA)\n",
        "We would like to take a look on the histogram of the ratings within the dataset"
      ]
    },
    {
      "cell_type": "code",
      "metadata": {
        "id": "4-05NbYC-LY6",
        "colab": {
          "base_uri": "https://localhost:8080/",
          "height": 353
        },
        "outputId": "cc95954c-23bf-4344-bbba-a3fadb84be2d"
      },
      "source": [
        "import matplotlib.pyplot as plt\n",
        "plt.style.use('ggplot')\n",
        "sns.countplot(raw_data['rating'])"
      ],
      "execution_count": null,
      "outputs": [
        {
          "output_type": "stream",
          "text": [
            "/usr/local/lib/python3.6/dist-packages/seaborn/_decorators.py:43: FutureWarning: Pass the following variable as a keyword arg: x. From version 0.12, the only valid positional argument will be `data`, and passing other arguments without an explicit keyword will result in an error or misinterpretation.\n",
            "  FutureWarning\n"
          ],
          "name": "stderr"
        },
        {
          "output_type": "execute_result",
          "data": {
            "text/plain": [
              "<matplotlib.axes._subplots.AxesSubplot at 0x7ff3d15b8f28>"
            ]
          },
          "metadata": {
            "tags": []
          },
          "execution_count": 5
        },
        {
          "output_type": "display_data",
          "data": {
            "image/png": "[encoded data removed]",
            "text/plain": [
              "<Figure size 432x288 with 1 Axes>"
            ]
          },
          "metadata": {
            "tags": []
          }
        }
      ]
    },
    {
      "cell_type": "code",
      "metadata": {
        "id": "pOss6W3lyZjZ",
        "colab": {
          "base_uri": "https://localhost:8080/",
          "height": 354
        },
        "outputId": "731baef3-0c17-47db-f8ca-03fb5750fb3a"
      },
      "source": [
        "# Scatter plot of all users and individual ratings count.\n",
        "dftmp = raw_data[['userId', 'movieId']].groupby('movieId').count()\n",
        "dftmp.columns=['num_ratings']\n",
        "plt.figure(figsize=(15,5))\n",
        "plt.scatter(dftmp.index, dftmp.num_ratings, edgecolor='black')\n",
        "plt.xlim(0,dftmp.index.max())\n",
        "plt.ylim(0,)\n",
        "plt.title('Ratings per movie')\n",
        "plt.xlabel('movieId')\n",
        "plt.ylabel('Amount of ratings received')\n",
        "plt.show()"
      ],
      "execution_count": null,
      "outputs": [
        {
          "output_type": "display_data",
          "data": {
            "image/png": "[encoded data removed]",
            "text/plain": [
              "<Figure size 1080x360 with 1 Axes>"
            ]
          },
          "metadata": {
            "tags": []
          }
        }
      ]
    },
    {
      "cell_type": "markdown",
      "metadata": {
        "id": "-AuAvuADzCtQ"
      },
      "source": [
        "**At this notebook we will focus on the items which has more than 50 interactions.**\n"
      ]
    },
    {
      "cell_type": "code",
      "metadata": {
        "id": "Tj-SC2AhawkK"
      },
      "source": [
        "more_than_50_ratings = raw_data['movieId'].unique()[raw_data['movieId'].value_counts() > 50]"
      ],
      "execution_count": null,
      "outputs": []
    },
    {
      "cell_type": "code",
      "metadata": {
        "id": "tsaWg6ZdbDVI",
        "colab": {
          "base_uri": "https://localhost:8080/"
        },
        "outputId": "68d5c227-314d-4c67-dbf3-55c411f4d02c"
      },
      "source": [
        "print(raw_data.shape)\n",
        "#data['movieId'].unique()\n",
        "data = raw_data[raw_data['movieId'].isin(more_than_50_ratings)]\n",
        "print(data.shape)"
      ],
      "execution_count": null,
      "outputs": [
        {
          "output_type": "stream",
          "text": [
            "(100836, 4)\n",
            "(24285, 4)\n"
          ],
          "name": "stdout"
        }
      ]
    },
    {
      "cell_type": "markdown",
      "metadata": {
        "id": "fZVGCZnUFG1x"
      },
      "source": [
        "count plot after filtering movies with less than 50 interactions\n"
      ]
    },
    {
      "cell_type": "code",
      "metadata": {
        "id": "-EK15ELM-WMO",
        "colab": {
          "base_uri": "https://localhost:8080/",
          "height": 353
        },
        "outputId": "2d376c2c-9d52-4588-9853-1f024abad7c0"
      },
      "source": [
        "sns.countplot(data['rating'])"
      ],
      "execution_count": null,
      "outputs": [
        {
          "output_type": "stream",
          "text": [
            "/usr/local/lib/python3.6/dist-packages/seaborn/_decorators.py:43: FutureWarning: Pass the following variable as a keyword arg: x. From version 0.12, the only valid positional argument will be `data`, and passing other arguments without an explicit keyword will result in an error or misinterpretation.\n",
            "  FutureWarning\n"
          ],
          "name": "stderr"
        },
        {
          "output_type": "execute_result",
          "data": {
            "text/plain": [
              "<matplotlib.axes._subplots.AxesSubplot at 0x7ff3c606ad68>"
            ]
          },
          "metadata": {
            "tags": []
          },
          "execution_count": 107
        },
        {
          "output_type": "display_data",
          "data": {
            "image/png": "[encoded data removed]",
            "text/plain": [
              "<Figure size 432x288 with 1 Axes>"
            ]
          },
          "metadata": {
            "tags": []
          }
        }
      ]
    },
    {
      "cell_type": "markdown",
      "metadata": {
        "id": "FZYF4q0JFT69"
      },
      "source": [
        "# Utility functions"
      ]
    },
    {
      "cell_type": "code",
      "metadata": {
        "id": "i_53mqBjKrBc"
      },
      "source": [
        "def get_data_by_field(data,column_name,column_value):\n",
        "    \"\"\"\n",
        "    This funciton will applying a filter a dataframe\n",
        "\n",
        "    :param data:  raw dataframe before filter    \n",
        "    :param column_name:  a specific column name\n",
        "    :param column_value: a specific value for filter\n",
        "    :return: sub-dataframe applying a filter on the column_name by the column_value\n",
        "    \"\"\"\n",
        "    return data[data[column_name] == column_value]\n"
      ],
      "execution_count": null,
      "outputs": []
    },
    {
      "cell_type": "code",
      "metadata": {
        "id": "s480lcdPLEVt"
      },
      "source": [
        "def sanity_checks(input_file_name,user_Id,movie_Id,k):\n",
        "    \"\"\"\n",
        "    This funciton will applying some sanity checks in order to make sure that the inputs are valid.\n",
        "\n",
        "    :param input_file_name:  inpute file.\n",
        "    :param user_Id:  user_Id\n",
        "    :param movie_Id: movie_Id\n",
        "    :param k: amount of neighbors\n",
        "    :return: True/False wheater all tests are passed or not. \n",
        "    \"\"\"\n",
        "    if not os.path.isfile(input_file_name):\n",
        "            print(\"Input file doesn't exist or it's not a file\")\n",
        "            return False\n",
        "    if user_Id not in user_set:\n",
        "            print(\"User ID doesn't exist\")\n",
        "            return False\n",
        "\n",
        "    if movie_Id not in movie_set:\n",
        "            print(\"Movie ID doesn't exist\")\n",
        "            return False\n",
        "\n",
        "    max_k = len(user_set) - 1\n",
        "    min_k = 1\n",
        "    k = int(k) # make sure the input is not a float.\n",
        "    if k < min_k or k > max_k:\n",
        "        print(\"k value for k nearest neighbors is not valid, it should be inside [\" + str(min_k) + \", \" +  str(max_k) +\"]\")\n",
        "        return False\n",
        "\n",
        "    print('Sanity checks are valid')\n",
        "    return True\n",
        "\n",
        "    \n",
        "    "
      ],
      "execution_count": null,
      "outputs": []
    },
    {
      "cell_type": "code",
      "metadata": {
        "id": "jG80ElIXL93_"
      },
      "source": [
        "def user_average_rating(user_data):\n",
        "    \"\"\"\n",
        "    This function return the average rating of a given user.\n",
        "    :param user_data: a sub-dataframe of a given user.\n",
        "    :return: the average rating of a given user.\n",
        "    \"\"\"\n",
        "    return user_data['rating'].mean()"
      ],
      "execution_count": null,
      "outputs": []
    },
    {
      "cell_type": "code",
      "metadata": {
        "id": "8uf-5GLnMLC7"
      },
      "source": [
        "def get_common_items(user1_data,user2_data):\n",
        "    \"\"\"\n",
        "    given user1_data and user2_data get a set of the items consumed by both users.\n",
        "    :param user1_data: sub dataframe consist of data regards the first user\n",
        "    :param user2_data: sub dataframe consist of data regards the second user\n",
        "    :return: a set of the items consumed by both users.\n",
        "    \"\"\"   \n",
        "    items1 = set(user1_data['movieId'])\n",
        "    items2 = set(user2_data['movieId'])\n",
        "    return items1 & items2 # & operator stand for intersection. "
      ],
      "execution_count": null,
      "outputs": []
    },
    {
      "cell_type": "code",
      "metadata": {
        "id": "wkQqtsBTMWiX"
      },
      "source": [
        "def pearson_correlation(data,user1, user2):\n",
        "    \"\"\"\n",
        "    calculate the pearson correlation between two users\n",
        "    :param user1_data: user_Id of the first user\n",
        "    :param user2_data: user_Id of the second user\n",
        "    :return: the pearson correlation between two users\n",
        "    \"\"\"            \n",
        "    user1_data = get_data_by_field(data, 'userId',user1)\n",
        "    user2_data = get_data_by_field(data, 'userId',user2)        \n",
        "    \n",
        "    rx_avg = user_average_rating(user1_data)\n",
        "    ry_avg = user_average_rating(user2_data)\n",
        "    \n",
        "    same_items = get_common_items(user1_data, user2_data)\n",
        "            \n",
        "    if len(same_items) == 0:\n",
        "        # in case there are no commont items between user1 and user2\n",
        "        # print('there are no common items between {} and {}'.format(user1,user2))\n",
        "        return 0.0\n",
        "\n",
        "    top_result = 0.0\n",
        "    bottom_left_result = 0.0\n",
        "    bottom_right_result = 0.0        \n",
        "    for item in same_items:\n",
        "        \n",
        "        rxs = user1_data[user1_data['movieId'] ==item]['rating'].values\n",
        "        rys = user2_data[user2_data['movieId'] ==item]['rating'].values\n",
        "        top_result += (rxs - rx_avg)*(rys - ry_avg)\n",
        "        \n",
        "        bottom_left_result += pow((rxs - rx_avg), 2)\n",
        "        bottom_right_result += pow((rys - ry_avg), 2)\n",
        "    bottom_left_sqrt_result = math.sqrt(bottom_left_result)\n",
        "    bottom_right_sqrt_result = math.sqrt(bottom_right_result)\n",
        "\n",
        "    result = top_result/(bottom_left_sqrt_result * bottom_right_sqrt_result)        \n",
        "    return result   \n"
      ],
      "execution_count": null,
      "outputs": []
    },
    {
      "cell_type": "code",
      "metadata": {
        "id": "i89zdjD7FeER"
      },
      "source": [
        "def k_nearest_neighbors(data,user, item,k,minimum_additional_items_in_common=0,similarity_treshold=0):\n",
        "    \"\"\"\n",
        "    find the k nearest neighobors of a given user\n",
        "    :param data: dataframe\n",
        "    :param user: user_Id \n",
        "    :param item: item_Id \n",
        "    :param k: integer, indicating the number of neighbors    \n",
        "    :param minimum_additional_items_in_common: integer, indicating the number of minimum items in common between users in order to be a valid potential neighbor (additional to the examined item)    \n",
        "    :param similarity_treshold: integer, indicating the minimum similarity score between users in order to be a valid potential neighbor\n",
        "    :return: list of neighbors\n",
        "    \"\"\"   \n",
        "\n",
        "    neighbors = []\n",
        "    result = []\n",
        "    neighbors_to_remove = [] #according to minimum items in common treshold\n",
        "\n",
        "    potential_neighbor = set(get_data_by_field(data,'movieId',item)['userId'])  #set of all users which rated a given item.  \n",
        "    potential_neighbor.discard(user) #remove the given user from potential neighbors\n",
        "    \n",
        "    # filter potential neighbors according to     \n",
        "    user_data = get_data_by_field(data, 'userId',user)    \n",
        "    for pn in potential_neighbor:    \n",
        "        user2_data = get_data_by_field(data, 'userId',pn)\n",
        "        if len(get_common_items(user_data,user2_data)) < minimum_additional_items_in_common:\n",
        "            neighbors_to_remove.append(pn)\n",
        "\n",
        "    potential_neighbor.difference_update(neighbors_to_remove) # remain with potential neighbors which have more than minimum items in common\n",
        "    print('Minimum items in common results in filtering {} potential neighbors'.format(len(neighbors_to_remove)))\n",
        "\n",
        "    print('Potential_neighbors for similarity calculations: ', len(potential_neighbor))\n",
        "    if len(potential_neighbor) == 0:\n",
        "        print('Number of potential neighbors is 0')\n",
        "        return result\n",
        "        \n",
        "    for pn in potential_neighbor:\n",
        "        pn_pearson_corr = pearson_correlation(data,user, pn)\n",
        "        if pn_pearson_corr >= similarity_treshold:\n",
        "            neighbors.append([pn, pn_pearson_corr])        \n",
        "\n",
        "    print('Loop over potential neighbors')\n",
        "    sorted_neighbors = sorted(neighbors, key=lambda neighbors: (neighbors[1], neighbors[0]), reverse=True)   # - for desc sort\n",
        "    \n",
        "    min_neighbors = min(k,len(sorted_neighbors))\n",
        "    for i in range(min_neighbors):\n",
        "        result.append(sorted_neighbors[i])\n",
        "    \n",
        "    if(len(result) < k):\n",
        "        print('Due to filtering threshold reasons, there are less than {} users that match all thresholds. \\n Here are the users who pass all thresholds:'.format(k))\n",
        "    return result"
      ],
      "execution_count": null,
      "outputs": []
    },
    {
      "cell_type": "code",
      "metadata": {
        "id": "RydRe5OrNLkN"
      },
      "source": [
        "def predict(data,user, item,knn):\n",
        "    \"\"\"\n",
        "    predict the rating using K nearest neighbors for a givne user and item\n",
        "    :param data: dataframe\n",
        "    :param user: user_Id \n",
        "    :param item: item_Id     \n",
        "    :param knn: list of similariy derived from knn function\n",
        "    :return: predicted rating\n",
        "    \"\"\"   \n",
        "    user_data = get_data_by_field(data,'userId',user)\n",
        "    if item in user_data['movieId'].values:\n",
        "        print('User {} alredy consumed item {}'.format(user,item))\n",
        "        return \n",
        "    top_result = 0.0\n",
        "    bottom_result = 0.0\n",
        "    \n",
        "    if len(knn) == 0:\n",
        "        print('There are no nearest neighbors found, returning user average rating')\n",
        "        return user_average_rating(user_data)             \n",
        "    \n",
        "    for neighbor in knn:        \n",
        "        neighbor_id = neighbor[0]\n",
        "        neighbor_similarity = neighbor[1]\n",
        "        neighbor_df = get_data_by_field(data,'userId', neighbor_id)            \n",
        "        rating = neighbor_df[neighbor_df['movieId'] == item]['rating'].values\n",
        "        neighbor_avg = user_average_rating(neighbor_df)\n",
        "\n",
        "        print('neighbor_id {} , neighbor_similarity {} , neighbor_avg {}'.format(neighbor_id,neighbor_similarity,neighbor_avg))\n",
        "        \n",
        "        top_result += neighbor_similarity * (rating - neighbor_avg)\n",
        "        bottom_result += neighbor_similarity\n",
        "    result = user_average_rating(user_data) + top_result/bottom_result\n",
        "    return result[0]"
      ],
      "execution_count": null,
      "outputs": []
    },
    {
      "cell_type": "markdown",
      "metadata": {
        "id": "F8YyI7m7LWOm"
      },
      "source": [
        "## Predicting item 1 for user 6"
      ]
    },
    {
      "cell_type": "markdown",
      "metadata": {
        "id": "EF968lN1Tsqq"
      },
      "source": [
        "Different values of K impact the predicted rating. \n",
        "We will demonstrate it with k=2,5"
      ]
    },
    {
      "cell_type": "code",
      "metadata": {
        "id": "mx2kJhIWMJPm",
        "colab": {
          "base_uri": "https://localhost:8080/"
        },
        "outputId": "1180f34f-81c0-4076-908d-4ad77f8e7b80"
      },
      "source": [
        "# use k=3 nearest neighbors\n",
        "knn = k_nearest_neighbors(data,user=6,item=1,k=2)\n",
        "predict(data,user=6,item=1,knn=knn)"
      ],
      "execution_count": null,
      "outputs": [
        {
          "output_type": "stream",
          "text": [
            "Minimum items in common results in filtering 0 potential neighbors\n",
            "Potential_neighbors for similarity calculations:  215\n",
            "Loop over potential neighbors\n",
            "neighbor_id 533 , neighbor_similarity [1.] , neighbor_avg 4.45\n",
            "neighbor_id 252 , neighbor_similarity [1.] , neighbor_avg 4.166666666666667\n"
          ],
          "name": "stdout"
        },
        {
          "output_type": "execute_result",
          "data": {
            "text/plain": [
              "array([4.2452381])"
            ]
          },
          "metadata": {
            "tags": []
          },
          "execution_count": 88
        }
      ]
    },
    {
      "cell_type": "code",
      "metadata": {
        "id": "wxQoIwbHjUXt",
        "colab": {
          "base_uri": "https://localhost:8080/"
        },
        "outputId": "70758292-8455-471d-8ec2-6ec57101cedf"
      },
      "source": [
        "# use k=5 nearest neighbors\n",
        "knn = k_nearest_neighbors(data,user=6,item=1,k=5)\n",
        "predict(data,user=6,item=1,knn=knn)"
      ],
      "execution_count": null,
      "outputs": [
        {
          "output_type": "stream",
          "text": [
            "Minimum items in common results in filtering 0 potential neighbors\n",
            "Potential_neighbors for similarity calculations:  215\n",
            "Loop over potential neighbors\n",
            "neighbor_id 533 , neighbor_similarity [1.] , neighbor_avg 4.45\n",
            "neighbor_id 252 , neighbor_similarity [1.] , neighbor_avg 4.166666666666667\n",
            "neighbor_id 185 , neighbor_similarity [1.] , neighbor_avg 3.7333333333333334\n",
            "neighbor_id 71 , neighbor_similarity [0.94792644] , neighbor_avg 3.727272727272727\n",
            "neighbor_id 98 , neighbor_similarity [0.92558317] , neighbor_avg 4.205882352941177\n"
          ],
          "name": "stdout"
        },
        {
          "output_type": "execute_result",
          "data": {
            "text/plain": [
              "array([4.34295319])"
            ]
          },
          "metadata": {
            "tags": []
          },
          "execution_count": 89
        }
      ]
    },
    {
      "cell_type": "markdown",
      "metadata": {
        "id": "dJiuXHR-K2bN"
      },
      "source": [
        "Can you spot a problem with these results ? \n",
        "\n",
        "Next, we will see what will happen when we add a filter. For example, minimum_additional_items_in_common = 5 or 10. \n"
      ]
    },
    {
      "cell_type": "code",
      "metadata": {
        "id": "ZCoCPuK_LFWq",
        "colab": {
          "base_uri": "https://localhost:8080/"
        },
        "outputId": "f3b5b67d-d6b0-4801-afee-761c9876d890"
      },
      "source": [
        "# use k=5 nearest neighbors\n",
        "knn = k_nearest_neighbors(data,user=6,item=1,k=5,minimum_additional_items_in_common=5)\n",
        "predict(data,user=6,item=1,knn=knn)"
      ],
      "execution_count": null,
      "outputs": [
        {
          "output_type": "stream",
          "text": [
            "Minimum items in common results in filtering 31 potential neighbors\n",
            "Potential_neighbors for similarity calculations:  184\n",
            "Loop over potential neighbors\n",
            "neighbor_id 71 , neighbor_similarity [0.94792644] , neighbor_avg 3.727272727272727\n",
            "neighbor_id 367 , neighbor_similarity [0.84070377] , neighbor_avg 4.122448979591836\n",
            "neighbor_id 234 , neighbor_similarity [0.78625011] , neighbor_avg 3.842857142857143\n",
            "neighbor_id 579 , neighbor_similarity [0.71792766] , neighbor_avg 4.0\n",
            "neighbor_id 159 , neighbor_similarity [0.71784909] , neighbor_avg 3.0\n"
          ],
          "name": "stdout"
        },
        {
          "output_type": "execute_result",
          "data": {
            "text/plain": [
              "array([4.78365762])"
            ]
          },
          "metadata": {
            "tags": []
          },
          "execution_count": 103
        }
      ]
    },
    {
      "cell_type": "code",
      "metadata": {
        "id": "kjEYq3qYLf1z",
        "colab": {
          "base_uri": "https://localhost:8080/"
        },
        "outputId": "cdf1de47-9e9b-4fef-faa3-e5ee308277fb"
      },
      "source": [
        "# use k=5 nearest neighbors\n",
        "knn = k_nearest_neighbors(data,user=6,item=1,k=5,minimum_additional_items_in_common=10)\n",
        "predict(data,user=6,item=1,knn=knn)"
      ],
      "execution_count": null,
      "outputs": [
        {
          "output_type": "stream",
          "text": [
            "Minimum items in common results in filtering 75 potential neighbors\n",
            "Potential_neighbors for similarity calculations:  140\n",
            "Loop over potential neighbors\n",
            "neighbor_id 234 , neighbor_similarity [0.78625011] , neighbor_avg 3.842857142857143\n",
            "neighbor_id 500 , neighbor_similarity [0.67086223] , neighbor_avg 3.341463414634146\n",
            "neighbor_id 607 , neighbor_similarity [0.53504205] , neighbor_avg 3.72\n",
            "neighbor_id 584 , neighbor_similarity [0.48832709] , neighbor_avg 4.2631578947368425\n",
            "neighbor_id 292 , neighbor_similarity [0.48087515] , neighbor_avg 3.411111111111111\n"
          ],
          "name": "stdout"
        },
        {
          "output_type": "execute_result",
          "data": {
            "text/plain": [
              "array([4.52770062])"
            ]
          },
          "metadata": {
            "tags": []
          },
          "execution_count": 104
        }
      ]
    },
    {
      "cell_type": "markdown",
      "metadata": {
        "id": "8RYXKcqQL1VZ"
      },
      "source": [
        "Next, lets use the similarity treshold in addition to the minimum_additional_items_in_common."
      ]
    },
    {
      "cell_type": "code",
      "metadata": {
        "id": "0L0gYu-6L-I5",
        "colab": {
          "base_uri": "https://localhost:8080/"
        },
        "outputId": "d0497e96-4ad9-45ba-ca44-a1e5c67829d4"
      },
      "source": [
        "# use k=5 nearest neighbors\n",
        "knn = k_nearest_neighbors(data,user=6,item=1,k=5,minimum_additional_items_in_common=10,similarity_treshold=0.6)\n",
        "predict(data,user=6,item=1,knn=knn)"
      ],
      "execution_count": null,
      "outputs": [
        {
          "output_type": "stream",
          "text": [
            "Minimum items in common results in filtering 75 potential neighbors\n",
            "Potential_neighbors for similarity calculations:  140\n",
            "Loop over potential neighbors\n",
            "Due to filtering threshold reasons, there are less than 5 users that match all thresholds. \n",
            " Here are the users who pass all thresholds:\n",
            "neighbor_id 234 , neighbor_similarity [0.78625011] , neighbor_avg 3.842857142857143\n",
            "neighbor_id 500 , neighbor_similarity [0.67086223] , neighbor_avg 3.341463414634146\n"
          ],
          "name": "stdout"
        },
        {
          "output_type": "execute_result",
          "data": {
            "text/plain": [
              "array([4.73115332])"
            ]
          },
          "metadata": {
            "tags": []
          },
          "execution_count": 105
        }
      ]
    },
    {
      "cell_type": "markdown",
      "metadata": {
        "id": "LmbNYAsO6yHP"
      },
      "source": [
        "# Pearson Correlation between users 23 and 179 yeilds a nan value.\n",
        "\n",
        " Try to explain why. \n",
        " \n",
        "\n"
      ]
    },
    {
      "cell_type": "code",
      "metadata": {
        "id": "SZElQg2r6w7U",
        "colab": {
          "base_uri": "https://localhost:8080/"
        },
        "outputId": "caa71875-1204-45bc-aa76-bc396403011d"
      },
      "source": [
        "pearson_correlation(data,23,179)"
      ],
      "execution_count": null,
      "outputs": [
        {
          "output_type": "execute_result",
          "data": {
            "text/plain": [
              "array([nan])"
            ]
          },
          "metadata": {
            "tags": []
          },
          "execution_count": 106
        }
      ]
    },
    {
      "cell_type": "markdown",
      "metadata": {
        "id": "-iZEWekMnYug"
      },
      "source": [
        "In the next notebook we will fix this issue exercise with different similarity function. \n",
        "See you next time."
      ]
    }
  ]
}