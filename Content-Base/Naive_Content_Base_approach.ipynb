{
  "nbformat": 4,
  "nbformat_minor": 0,
  "metadata": {
    "kernelspec": {
      "display_name": "Python 3",
      "language": "python",
      "name": "python3"
    },
    "language_info": {
      "codemirror_mode": {
        "name": "ipython",
        "version": 3
      },
      "file_extension": ".py",
      "mimetype": "text/x-python",
      "name": "python",
      "nbconvert_exporter": "python",
      "pygments_lexer": "ipython3",
      "version": "3.6.8"
    },
    "toc": {
      "base_numbering": 1,
      "nav_menu": {},
      "number_sections": true,
      "sideBar": true,
      "skip_h1_title": false,
      "title_cell": "Table of Contents",
      "title_sidebar": "Contents",
      "toc_cell": false,
      "toc_position": {},
      "toc_section_display": true,
      "toc_window_display": false
    },
    "colab": {
      "name": "Naive Content-Base approach.ipynb",
      "provenance": [],
      "collapsed_sections": [],
      "toc_visible": true
    },
    "accelerator": "GPU"
  },
  "cells": [
    {
      "cell_type": "markdown",
      "metadata": {
        "id": "OCwq0TSoGb9n"
      },
      "source": [
        "This is a toy example of how can we perform some filtering approach on meta-data information for generating recommendations.\n",
        "\n",
        "We will load the file: books_n_description.csv. \n",
        "Then, we will filter all records without either a publication year or a category.\n",
        "Next, we will generate a random recommendation base upon a naive approach."
      ]
    },
    {
      "cell_type": "markdown",
      "metadata": {
        "id": "o5DC3cOmBFjJ"
      },
      "source": [
        "#Imports"
      ]
    },
    {
      "cell_type": "code",
      "metadata": {
        "ExecuteTime": {
          "end_time": "2019-10-30T06:05:39.828590Z",
          "start_time": "2019-10-30T06:05:37.161770Z"
        },
        "id": "5Df-3hdIrdc1"
      },
      "source": [
        "import pandas as pd\n",
        "import random\n",
        "import os"
      ],
      "execution_count": null,
      "outputs": []
    },
    {
      "cell_type": "code",
      "metadata": {
        "id": "gSMgSr79rj9S",
        "colab": {
          "base_uri": "https://localhost:8080/"
        },
        "outputId": "b3c78a82-5bc5-41f1-e819-68f94d596a2f"
      },
      "source": [
        "from google.colab import drive\n",
        "drive.mount('/content/drive')"
      ],
      "execution_count": null,
      "outputs": [
        {
          "output_type": "stream",
          "text": [
            "Drive already mounted at /content/drive; to attempt to forcibly remount, call drive.mount(\"/content/drive\", force_remount=True).\n"
          ],
          "name": "stdout"
        }
      ]
    },
    {
      "cell_type": "markdown",
      "metadata": {
        "id": "zKu78jMTHSsi"
      },
      "source": [
        "# Load data"
      ]
    },
    {
      "cell_type": "code",
      "metadata": {
        "id": "2eWWPGXyrsQE"
      },
      "source": [
        "#Make sure you downloaded the dataset and you create such a path, alternativly - changed this path\n",
        "PATH = '/content/drive/My Drive/Recommender Systems/Content Base/Datasets/Book-Crossing'\n",
        "os.chdir(PATH)"
      ],
      "execution_count": null,
      "outputs": []
    },
    {
      "cell_type": "code",
      "metadata": {
        "ExecuteTime": {
          "end_time": "2019-10-30T06:24:39.614707Z",
          "start_time": "2019-10-30T06:24:39.550789Z"
        },
        "id": "rnD7e5errddE",
        "colab": {
          "base_uri": "https://localhost:8080/",
          "height": 198
        },
        "outputId": "b16a22fd-db7a-4655-edf9-28365ea5d8d1"
      },
      "source": [
        "# Load data from csv file\n",
        "df_item_info = pd.read_csv('books_n_description.csv',index_col=0, names=['ISBN', 'title', 'author', 'pub_year', 'publisher', 'category','description'],encoding='latin-1', skiprows=1)\n",
        "\n",
        "# print the first 5 rows of the data\n",
        "df_item_info.head()\n",
        "\n"
      ],
      "execution_count": null,
      "outputs": [
        {
          "output_type": "execute_result",
          "data": {
            "text/html": [
              "<div>\n",
              "<style scoped>\n",
              "    .dataframe tbody tr th:only-of-type {\n",
              "        vertical-align: middle;\n",
              "    }\n",
              "\n",
              "    .dataframe tbody tr th {\n",
              "        vertical-align: top;\n",
              "    }\n",
              "\n",
              "    .dataframe thead th {\n",
              "        text-align: right;\n",
              "    }\n",
              "</style>\n",
              "<table border=\"1\" class=\"dataframe\">\n",
              "  <thead>\n",
              "    <tr style=\"text-align: right;\">\n",
              "      <th></th>\n",
              "      <th>ISBN</th>\n",
              "      <th>title</th>\n",
              "      <th>author</th>\n",
              "      <th>pub_year</th>\n",
              "      <th>publisher</th>\n",
              "      <th>category</th>\n",
              "      <th>description</th>\n",
              "    </tr>\n",
              "  </thead>\n",
              "  <tbody>\n",
              "    <tr>\n",
              "      <th>0</th>\n",
              "      <td>2005018</td>\n",
              "      <td>Clara Callan</td>\n",
              "      <td>Richard Bruce Wright</td>\n",
              "      <td>2001.0</td>\n",
              "      <td>HarperFlamingo Canada</td>\n",
              "      <td>Actresses</td>\n",
              "      <td>In a small town in Canada, Clara Callan reluct...</td>\n",
              "    </tr>\n",
              "    <tr>\n",
              "      <th>1</th>\n",
              "      <td>374157065</td>\n",
              "      <td>Flu: The Story of the Great Influenza Pandemic...</td>\n",
              "      <td>Gina Bari Kolata</td>\n",
              "      <td>1999.0</td>\n",
              "      <td>Farrar Straus Giroux</td>\n",
              "      <td>Medical</td>\n",
              "      <td>Describes the great flu epidemic of 1918, an o...</td>\n",
              "    </tr>\n",
              "    <tr>\n",
              "      <th>2</th>\n",
              "      <td>399135782</td>\n",
              "      <td>The Kitchen God's Wife</td>\n",
              "      <td>Amy Tan</td>\n",
              "      <td>1991.0</td>\n",
              "      <td>Putnam Pub Group</td>\n",
              "      <td>Fiction</td>\n",
              "      <td>A Chinese immigrant who is convinced she is dy...</td>\n",
              "    </tr>\n",
              "    <tr>\n",
              "      <th>3</th>\n",
              "      <td>440234743</td>\n",
              "      <td>The Testament</td>\n",
              "      <td>John Grisham</td>\n",
              "      <td>1999.0</td>\n",
              "      <td>Dell</td>\n",
              "      <td>Fiction</td>\n",
              "      <td>A suicidal billionaire, a burnt-out Washington...</td>\n",
              "    </tr>\n",
              "    <tr>\n",
              "      <th>4</th>\n",
              "      <td>452264464</td>\n",
              "      <td>Beloved (Plume Contemporary Fiction)</td>\n",
              "      <td>Toni Morrison</td>\n",
              "      <td>1994.0</td>\n",
              "      <td>Plume</td>\n",
              "      <td>Fiction</td>\n",
              "      <td>Staring unflinchingly into the abyss of slaver...</td>\n",
              "    </tr>\n",
              "  </tbody>\n",
              "</table>\n",
              "</div>"
            ],
            "text/plain": [
              "        ISBN  ...                                        description\n",
              "0    2005018  ...  In a small town in Canada, Clara Callan reluct...\n",
              "1  374157065  ...  Describes the great flu epidemic of 1918, an o...\n",
              "2  399135782  ...  A Chinese immigrant who is convinced she is dy...\n",
              "3  440234743  ...  A suicidal billionaire, a burnt-out Washington...\n",
              "4  452264464  ...  Staring unflinchingly into the abyss of slaver...\n",
              "\n",
              "[5 rows x 7 columns]"
            ]
          },
          "metadata": {
            "tags": []
          },
          "execution_count": 26
        }
      ]
    },
    {
      "cell_type": "code",
      "metadata": {
        "ExecuteTime": {
          "end_time": "2019-10-30T06:25:32.098182Z",
          "start_time": "2019-10-30T06:25:32.086179Z"
        },
        "id": "bHghnjUcrddP"
      },
      "source": [
        "# Filter records without a category and without pub_year\n",
        "df_item_filtered = df_item_info[df_item_info['category'].notnull()].copy()\n",
        "df_item_filtered = df_item_filtered[df_item_filtered['pub_year'].notnull()].copy()\n"
      ],
      "execution_count": null,
      "outputs": []
    },
    {
      "cell_type": "code",
      "metadata": {
        "ExecuteTime": {
          "end_time": "2019-10-30T06:25:29.897055Z",
          "start_time": "2019-10-30T06:25:29.881051Z"
        },
        "id": "oS6V1Y0jrddX",
        "colab": {
          "base_uri": "https://localhost:8080/",
          "height": 228
        },
        "outputId": "db215cce-eae7-4a6d-d8ab-fb3c5dfc868e"
      },
      "source": [
        "# Naive approach - select only the following columns in order to generate recommendations\n",
        "df_item = df_item_filtered[['ISBN','category','pub_year']]\n",
        "df_item.set_index('ISBN', inplace=True)\n",
        "df_item.head()\n"
      ],
      "execution_count": null,
      "outputs": [
        {
          "output_type": "execute_result",
          "data": {
            "text/html": [
              "<div>\n",
              "<style scoped>\n",
              "    .dataframe tbody tr th:only-of-type {\n",
              "        vertical-align: middle;\n",
              "    }\n",
              "\n",
              "    .dataframe tbody tr th {\n",
              "        vertical-align: top;\n",
              "    }\n",
              "\n",
              "    .dataframe thead th {\n",
              "        text-align: right;\n",
              "    }\n",
              "</style>\n",
              "<table border=\"1\" class=\"dataframe\">\n",
              "  <thead>\n",
              "    <tr style=\"text-align: right;\">\n",
              "      <th></th>\n",
              "      <th>category</th>\n",
              "      <th>pub_year</th>\n",
              "    </tr>\n",
              "    <tr>\n",
              "      <th>ISBN</th>\n",
              "      <th></th>\n",
              "      <th></th>\n",
              "    </tr>\n",
              "  </thead>\n",
              "  <tbody>\n",
              "    <tr>\n",
              "      <th>2005018</th>\n",
              "      <td>Actresses</td>\n",
              "      <td>2001.0</td>\n",
              "    </tr>\n",
              "    <tr>\n",
              "      <th>374157065</th>\n",
              "      <td>Medical</td>\n",
              "      <td>1999.0</td>\n",
              "    </tr>\n",
              "    <tr>\n",
              "      <th>399135782</th>\n",
              "      <td>Fiction</td>\n",
              "      <td>1991.0</td>\n",
              "    </tr>\n",
              "    <tr>\n",
              "      <th>440234743</th>\n",
              "      <td>Fiction</td>\n",
              "      <td>1999.0</td>\n",
              "    </tr>\n",
              "    <tr>\n",
              "      <th>452264464</th>\n",
              "      <td>Fiction</td>\n",
              "      <td>1994.0</td>\n",
              "    </tr>\n",
              "  </tbody>\n",
              "</table>\n",
              "</div>"
            ],
            "text/plain": [
              "            category  pub_year\n",
              "ISBN                          \n",
              "2005018    Actresses    2001.0\n",
              "374157065    Medical    1999.0\n",
              "399135782    Fiction    1991.0\n",
              "440234743    Fiction    1999.0\n",
              "452264464    Fiction    1994.0"
            ]
          },
          "metadata": {
            "tags": []
          },
          "execution_count": 48
        }
      ]
    },
    {
      "cell_type": "markdown",
      "metadata": {
        "id": "CD9giybfHnLU"
      },
      "source": [
        "# Load rating data"
      ]
    },
    {
      "cell_type": "code",
      "metadata": {
        "ExecuteTime": {
          "end_time": "2019-10-30T06:26:54.879253Z",
          "start_time": "2019-10-30T06:26:54.164237Z"
        },
        "id": "cFTnrINerddh",
        "colab": {
          "base_uri": "https://localhost:8080/",
          "height": 228
        },
        "outputId": "f686ccd7-d95a-4f7d-cd49-363aa89daa56"
      },
      "source": [
        "df_rating = pd.read_csv('BX-Book-Ratings.csv', sep=';', encoding=\"ISO-8859-1\")\n",
        "df_rating_filtered = df_rating[df_rating['ISBN'].isin(df_item.index)]\n",
        "df_rating_filtered.set_index('ISBN', inplace=True)\n",
        "df_rating_filtered.head()\n",
        "\n",
        "\n"
      ],
      "execution_count": null,
      "outputs": [
        {
          "output_type": "execute_result",
          "data": {
            "text/html": [
              "<div>\n",
              "<style scoped>\n",
              "    .dataframe tbody tr th:only-of-type {\n",
              "        vertical-align: middle;\n",
              "    }\n",
              "\n",
              "    .dataframe tbody tr th {\n",
              "        vertical-align: top;\n",
              "    }\n",
              "\n",
              "    .dataframe thead th {\n",
              "        text-align: right;\n",
              "    }\n",
              "</style>\n",
              "<table border=\"1\" class=\"dataframe\">\n",
              "  <thead>\n",
              "    <tr style=\"text-align: right;\">\n",
              "      <th></th>\n",
              "      <th>User-ID</th>\n",
              "      <th>Book-Rating</th>\n",
              "    </tr>\n",
              "    <tr>\n",
              "      <th>ISBN</th>\n",
              "      <th></th>\n",
              "      <th></th>\n",
              "    </tr>\n",
              "  </thead>\n",
              "  <tbody>\n",
              "    <tr>\n",
              "      <th>055356451X</th>\n",
              "      <td>276746</td>\n",
              "      <td>0</td>\n",
              "    </tr>\n",
              "    <tr>\n",
              "      <th>1853262404</th>\n",
              "      <td>276925</td>\n",
              "      <td>0</td>\n",
              "    </tr>\n",
              "    <tr>\n",
              "      <th>8408011200</th>\n",
              "      <td>276925</td>\n",
              "      <td>0</td>\n",
              "    </tr>\n",
              "    <tr>\n",
              "      <th>1883473004</th>\n",
              "      <td>277031</td>\n",
              "      <td>8</td>\n",
              "    </tr>\n",
              "    <tr>\n",
              "      <th>3442435838</th>\n",
              "      <td>277048</td>\n",
              "      <td>0</td>\n",
              "    </tr>\n",
              "  </tbody>\n",
              "</table>\n",
              "</div>"
            ],
            "text/plain": [
              "            User-ID  Book-Rating\n",
              "ISBN                            \n",
              "055356451X   276746            0\n",
              "1853262404   276925            0\n",
              "8408011200   276925            0\n",
              "1883473004   277031            8\n",
              "3442435838   277048            0"
            ]
          },
          "metadata": {
            "tags": []
          },
          "execution_count": 49
        }
      ]
    },
    {
      "cell_type": "code",
      "metadata": {
        "ExecuteTime": {
          "end_time": "2019-10-30T06:27:00.383680Z",
          "start_time": "2019-10-30T06:27:00.343730Z"
        },
        "id": "jcKwR8s-rddp",
        "colab": {
          "base_uri": "https://localhost:8080/",
          "height": 228
        },
        "outputId": "ee955fc2-ed1b-4382-c39a-2c6025c488b6"
      },
      "source": [
        "# join the item data the with the rating data\n",
        "df_merge = df_rating_filtered.join(df_item)\n",
        "# print 5 sample rows\n",
        "df_merge.head()"
      ],
      "execution_count": null,
      "outputs": [
        {
          "output_type": "execute_result",
          "data": {
            "text/html": [
              "<div>\n",
              "<style scoped>\n",
              "    .dataframe tbody tr th:only-of-type {\n",
              "        vertical-align: middle;\n",
              "    }\n",
              "\n",
              "    .dataframe tbody tr th {\n",
              "        vertical-align: top;\n",
              "    }\n",
              "\n",
              "    .dataframe thead th {\n",
              "        text-align: right;\n",
              "    }\n",
              "</style>\n",
              "<table border=\"1\" class=\"dataframe\">\n",
              "  <thead>\n",
              "    <tr style=\"text-align: right;\">\n",
              "      <th></th>\n",
              "      <th>User-ID</th>\n",
              "      <th>Book-Rating</th>\n",
              "      <th>category</th>\n",
              "      <th>pub_year</th>\n",
              "    </tr>\n",
              "    <tr>\n",
              "      <th>ISBN</th>\n",
              "      <th></th>\n",
              "      <th></th>\n",
              "      <th></th>\n",
              "      <th></th>\n",
              "    </tr>\n",
              "  </thead>\n",
              "  <tbody>\n",
              "    <tr>\n",
              "      <th>000648302X</th>\n",
              "      <td>11676</td>\n",
              "      <td>8</td>\n",
              "      <td>End of the world</td>\n",
              "      <td>1999.0</td>\n",
              "    </tr>\n",
              "    <tr>\n",
              "      <th>000648302X</th>\n",
              "      <td>37950</td>\n",
              "      <td>9</td>\n",
              "      <td>End of the world</td>\n",
              "      <td>1999.0</td>\n",
              "    </tr>\n",
              "    <tr>\n",
              "      <th>000648302X</th>\n",
              "      <td>89624</td>\n",
              "      <td>9</td>\n",
              "      <td>End of the world</td>\n",
              "      <td>1999.0</td>\n",
              "    </tr>\n",
              "    <tr>\n",
              "      <th>000648302X</th>\n",
              "      <td>98544</td>\n",
              "      <td>0</td>\n",
              "      <td>End of the world</td>\n",
              "      <td>1999.0</td>\n",
              "    </tr>\n",
              "    <tr>\n",
              "      <th>000648302X</th>\n",
              "      <td>99328</td>\n",
              "      <td>3</td>\n",
              "      <td>End of the world</td>\n",
              "      <td>1999.0</td>\n",
              "    </tr>\n",
              "  </tbody>\n",
              "</table>\n",
              "</div>"
            ],
            "text/plain": [
              "            User-ID  Book-Rating          category  pub_year\n",
              "ISBN                                                        \n",
              "000648302X    11676            8  End of the world    1999.0\n",
              "000648302X    37950            9  End of the world    1999.0\n",
              "000648302X    89624            9  End of the world    1999.0\n",
              "000648302X    98544            0  End of the world    1999.0\n",
              "000648302X    99328            3  End of the world    1999.0"
            ]
          },
          "metadata": {
            "tags": []
          },
          "execution_count": 50
        }
      ]
    },
    {
      "cell_type": "code",
      "metadata": {
        "ExecuteTime": {
          "end_time": "2019-10-30T06:41:07.804328Z",
          "start_time": "2019-10-30T06:41:07.796341Z"
        },
        "id": "gWfp9_3Vrddy"
      },
      "source": [
        "def recommand (userID,rating_threshold):\n",
        "    \"\"\" Return an item to recommend. \n",
        "    According to this naive filtering approach, this function will generate a pool of candidates for a recommendation for a given userID. \n",
        "    First, we will consider only books in the category that the userID read. \n",
        "    Next, we will filter books with pub_year, not between the minimum and the maximum pub_year read by userID and above a given rating_threshold.\n",
        "    Finally, out of all possible candidates, we will generate one random recommendation.\n",
        "    Notably, we are not recommending a book that the user has already read.\n",
        "\n",
        "        Parameters\n",
        "        ----------\n",
        "        userID : integer\n",
        "            The user ID\n",
        "        rating_threshold : integer\n",
        "             A threshold number, ratings above this value are considered as possible candidates.\n",
        "        \n",
        "        \"\"\"\n",
        "\n",
        "    user_categories = df_merge['category'][df_merge['User-ID'] == userID].unique()\n",
        "    user_pub_year = df_merge['pub_year'][df_merge['User-ID'] == userID].unique()\n",
        "    max_year = max(user_pub_year)\n",
        "    min_year = min(user_pub_year)\n",
        "    \n",
        "    user_ISBN = df_merge[df_merge['User-ID'] == userID].index.values\n",
        "    recommend_df = df_merge[df_merge['category'].isin(user_categories)]\n",
        "    recommend_df = recommend_df[recommend_df['Book-Rating'] >= rating_threshold]  # Naive approch - can you think why?\n",
        "    recommend_df = recommend_df[recommend_df['pub_year'].between(min_year,max_year,inclusive=True)]\n",
        "    recommend_df = recommend_df.loc[~recommend_df.index.isin(user_ISBN)]    \n",
        "    random_isbn = random.choice(recommend_df.index.values)\n",
        "    book_data = df_item_info[df_item_info['ISBN']==random_isbn]\n",
        "    book_data.set_index('ISBN', inplace=True)\n",
        "    book_data = book_data.join(recommend_df[['Book-Rating']],lsuffix='_caller', rsuffix='_other')\n",
        "    book_data = book_data.iloc[0]\n",
        "    return book_data\n",
        "    \n",
        "    \n",
        "    "
      ],
      "execution_count": null,
      "outputs": []
    },
    {
      "cell_type": "code",
      "metadata": {
        "id": "yN-VUk5RuPfR",
        "colab": {
          "base_uri": "https://localhost:8080/",
          "height": 198
        },
        "outputId": "248b8b6e-5719-4902-da3d-b651d743a42c"
      },
      "source": [
        "df_item_info.head()"
      ],
      "execution_count": null,
      "outputs": [
        {
          "output_type": "execute_result",
          "data": {
            "text/html": [
              "<div>\n",
              "<style scoped>\n",
              "    .dataframe tbody tr th:only-of-type {\n",
              "        vertical-align: middle;\n",
              "    }\n",
              "\n",
              "    .dataframe tbody tr th {\n",
              "        vertical-align: top;\n",
              "    }\n",
              "\n",
              "    .dataframe thead th {\n",
              "        text-align: right;\n",
              "    }\n",
              "</style>\n",
              "<table border=\"1\" class=\"dataframe\">\n",
              "  <thead>\n",
              "    <tr style=\"text-align: right;\">\n",
              "      <th></th>\n",
              "      <th>ISBN</th>\n",
              "      <th>title</th>\n",
              "      <th>author</th>\n",
              "      <th>pub_year</th>\n",
              "      <th>publisher</th>\n",
              "      <th>category</th>\n",
              "      <th>description</th>\n",
              "    </tr>\n",
              "  </thead>\n",
              "  <tbody>\n",
              "    <tr>\n",
              "      <th>0</th>\n",
              "      <td>2005018</td>\n",
              "      <td>Clara Callan</td>\n",
              "      <td>Richard Bruce Wright</td>\n",
              "      <td>2001.0</td>\n",
              "      <td>HarperFlamingo Canada</td>\n",
              "      <td>Actresses</td>\n",
              "      <td>In a small town in Canada, Clara Callan reluct...</td>\n",
              "    </tr>\n",
              "    <tr>\n",
              "      <th>1</th>\n",
              "      <td>374157065</td>\n",
              "      <td>Flu: The Story of the Great Influenza Pandemic...</td>\n",
              "      <td>Gina Bari Kolata</td>\n",
              "      <td>1999.0</td>\n",
              "      <td>Farrar Straus Giroux</td>\n",
              "      <td>Medical</td>\n",
              "      <td>Describes the great flu epidemic of 1918, an o...</td>\n",
              "    </tr>\n",
              "    <tr>\n",
              "      <th>2</th>\n",
              "      <td>399135782</td>\n",
              "      <td>The Kitchen God's Wife</td>\n",
              "      <td>Amy Tan</td>\n",
              "      <td>1991.0</td>\n",
              "      <td>Putnam Pub Group</td>\n",
              "      <td>Fiction</td>\n",
              "      <td>A Chinese immigrant who is convinced she is dy...</td>\n",
              "    </tr>\n",
              "    <tr>\n",
              "      <th>3</th>\n",
              "      <td>440234743</td>\n",
              "      <td>The Testament</td>\n",
              "      <td>John Grisham</td>\n",
              "      <td>1999.0</td>\n",
              "      <td>Dell</td>\n",
              "      <td>Fiction</td>\n",
              "      <td>A suicidal billionaire, a burnt-out Washington...</td>\n",
              "    </tr>\n",
              "    <tr>\n",
              "      <th>4</th>\n",
              "      <td>452264464</td>\n",
              "      <td>Beloved (Plume Contemporary Fiction)</td>\n",
              "      <td>Toni Morrison</td>\n",
              "      <td>1994.0</td>\n",
              "      <td>Plume</td>\n",
              "      <td>Fiction</td>\n",
              "      <td>Staring unflinchingly into the abyss of slaver...</td>\n",
              "    </tr>\n",
              "  </tbody>\n",
              "</table>\n",
              "</div>"
            ],
            "text/plain": [
              "        ISBN  ...                                        description\n",
              "0    2005018  ...  In a small town in Canada, Clara Callan reluct...\n",
              "1  374157065  ...  Describes the great flu epidemic of 1918, an o...\n",
              "2  399135782  ...  A Chinese immigrant who is convinced she is dy...\n",
              "3  440234743  ...  A suicidal billionaire, a burnt-out Washington...\n",
              "4  452264464  ...  Staring unflinchingly into the abyss of slaver...\n",
              "\n",
              "[5 rows x 7 columns]"
            ]
          },
          "metadata": {
            "tags": []
          },
          "execution_count": 52
        }
      ]
    },
    {
      "cell_type": "code",
      "metadata": {
        "ExecuteTime": {
          "end_time": "2019-10-30T06:41:09.282357Z",
          "start_time": "2019-10-30T06:41:09.242413Z"
        },
        "id": "vTAhDyrWrdd3",
        "colab": {
          "base_uri": "https://localhost:8080/"
        },
        "outputId": "235cb93e-6aa5-45fd-dcd6-a10e23c7154b"
      },
      "source": [
        "recommand(userID = 276746, rating_threshold = 6)"
      ],
      "execution_count": null,
      "outputs": [
        {
          "output_type": "execute_result",
          "data": {
            "text/plain": [
              "title                                    Puerto Vallarta Squeeze\n",
              "author                                       Robert James Waller\n",
              "pub_year                                                    1995\n",
              "publisher                                           Warner Books\n",
              "category                                                 Fiction\n",
              "description    The author of the blockbuster The Bridges of M...\n",
              "Book-Rating                                                    8\n",
              "Name: 044651747X, dtype: object"
            ]
          },
          "metadata": {
            "tags": []
          },
          "execution_count": 57
        }
      ]
    },
    {
      "cell_type": "code",
      "metadata": {
        "ExecuteTime": {
          "end_time": "2019-10-10T12:20:22.834299Z",
          "start_time": "2019-10-10T12:20:22.827302Z"
        },
        "id": "ZIBp3PlTrdeC"
      },
      "source": [
        "def recommand_rating_above_average (userID,rating_threshold_average):\n",
        "    \"\"\" Return an item to recommend. \n",
        "    According to this naive filtering approach, this function will generate a pool of candidates for a recommendation for a given userID. \n",
        "    First, we will consider only books in the category that the userID read. \n",
        "    Next, we will filter books with pub_year, not between the minimum and the maximum pub_year read by userID.    \n",
        "    Finally, out of all possible candidates, we will generate one random recommendation.\n",
        "    Notably, we are not recommending a book that the user has already read.\n",
        "    \n",
        "    Since, using the rating_threshold is not enough, we need to consider for each book the average rating and filter the candidates according to it.\n",
        "\n",
        "        Parameters\n",
        "        ----------\n",
        "        userID : integer\n",
        "            The user ID\n",
        "        rating_threshold_average : integer\n",
        "             A threshold number, ratings above this value are considered as possible candidates.\n",
        "        \n",
        "        \"\"\"\n",
        "    user_categories = df_merge['category'][df_merge['User-ID'] == userID].unique()\n",
        "    user_pub_year = df_merge['pub_year'][df_merge['User-ID'] == userID].unique()\n",
        "    max_year = max(user_pub_year)\n",
        "    min_year = min(user_pub_year)\n",
        "    \n",
        "    user_ISBN = df_merge[df_merge['User-ID'] == userID].index.values\n",
        "    recommend_df = df_merge[df_merge['category'].isin(user_categories)]\n",
        "    recommend_df = recommend_df[recommend_df['pub_year'].between(min_year,max_year,inclusive=True)]\n",
        "    recommend_df = recommend_df.loc[~recommend_df.index.isin(user_ISBN)]\n",
        "    \n",
        "    #recommend_df = recommend_df[recommend_df['Book-Rating'] >= rating_treshold]  # Naive approch - can you think why?    \n",
        "    #replace previous row with this two rows    \n",
        "    \n",
        "    recommend_df = recommend_df[['Book-Rating']].groupby(['ISBN']).mean()\n",
        "    recommend_df = recommend_df[recommend_df['Book-Rating'] >= rating_threshold_average*1.0] \n",
        "    \n",
        "    try:\n",
        "        random_isbn = random.choice(recommend_df.index.values)\n",
        "        book_data = df_item_info[df_item_info['ISBN']==random_isbn]    \n",
        "        book_data.set_index('ISBN', inplace=True)\n",
        "        book_data = book_data.join(recommend_df[['Book-Rating']],lsuffix='_caller', rsuffix='_other')\n",
        "        book_data = book_data.iloc[0]\n",
        "        return book_data\n",
        "    except:\n",
        "        print('we found zero books over the rating treshold. Lower you treshold for generate recommendation')\n",
        "        return\n",
        "    \n",
        "    "
      ],
      "execution_count": null,
      "outputs": []
    },
    {
      "cell_type": "code",
      "metadata": {
        "ExecuteTime": {
          "end_time": "2019-10-10T12:20:25.738489Z",
          "start_time": "2019-10-10T12:20:25.694606Z"
        },
        "id": "B1UMRbtIrdeG",
        "colab": {
          "base_uri": "https://localhost:8080/"
        },
        "outputId": "3aaaeecb-137b-4505-aec3-5ca9d941d142"
      },
      "source": [
        "recommand_rating_above_average(userID = 276746, rating_threshold_average = 6)"
      ],
      "execution_count": null,
      "outputs": [
        {
          "output_type": "execute_result",
          "data": {
            "text/plain": [
              "title                                                      Congo\n",
              "author                                          Michael Crichton\n",
              "pub_year                                                    1995\n",
              "publisher                                       Ballantine Books\n",
              "category                                                 Fiction\n",
              "description    Armed with the latest gifts of advanced techno...\n",
              "Book-Rating                                                  7.5\n",
              "Name: 345378490, dtype: object"
            ]
          },
          "metadata": {
            "tags": []
          },
          "execution_count": 59
        }
      ]
    },
    {
      "cell_type": "markdown",
      "metadata": {
        "id": "6iyw1ZduL6Cp"
      },
      "source": [
        "# Code Task\n",
        "Write different naive approch of recommanding base on content data.\n",
        "For example, build for each user a user profile aggregating it historical data.\n",
        "Then, seek for similar item to each user profile."
      ]
    },
    {
      "cell_type": "code",
      "metadata": {
        "id": "HojJMWHRMqU3"
      },
      "source": [
        ""
      ],
      "execution_count": null,
      "outputs": []
    }
  ]
}