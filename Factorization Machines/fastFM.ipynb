{
  "nbformat": 4,
  "nbformat_minor": 0,
  "metadata": {
    "colab": {
      "name": "Factorization Machines.ipynb",
      "provenance": [],
      "collapsed_sections": [],
      "toc_visible": true
    },
    "kernelspec": {
      "name": "python3",
      "display_name": "Python 3"
    }
  },
  "cells": [
    {
      "cell_type": "markdown",
      "metadata": {
        "id": "VP7Nj_-NtQo1"
      },
      "source": [
        "This is an example of how we can use fastFM for solving regession problems such as rating predictions."
      ]
    },
    {
      "cell_type": "markdown",
      "metadata": {
        "id": "K_JyFWsttL1s"
      },
      "source": [
        "# Imports and installations"
      ]
    },
    {
      "cell_type": "code",
      "metadata": {
        "id": "pU0TTGIYVDXT",
        "colab": {
          "base_uri": "https://localhost:8080/"
        },
        "outputId": "6195b741-43a3-41f7-8e89-133c8efa6745"
      },
      "source": [
        "pip install fastFM==0.2.9"
      ],
      "execution_count": 23,
      "outputs": [
        {
          "output_type": "stream",
          "text": [
            "Requirement already satisfied: fastFM==0.2.9 in /usr/local/lib/python3.7/dist-packages (0.2.9)\n",
            "Requirement already satisfied: scikit-learn in /usr/local/lib/python3.7/dist-packages (from fastFM==0.2.9) (0.22.2.post1)\n",
            "Requirement already satisfied: numpy in /usr/local/lib/python3.7/dist-packages (from fastFM==0.2.9) (1.19.5)\n",
            "Requirement already satisfied: scipy in /usr/local/lib/python3.7/dist-packages (from fastFM==0.2.9) (1.4.1)\n",
            "Requirement already satisfied: joblib>=0.11 in /usr/local/lib/python3.7/dist-packages (from scikit-learn->fastFM==0.2.9) (1.0.1)\n"
          ],
          "name": "stdout"
        }
      ]
    },
    {
      "cell_type": "code",
      "metadata": {
        "id": "Zg2NjbOnTbgB"
      },
      "source": [
        "import pandas as pd\n",
        "import numpy as np\n",
        "import time\n",
        "from sklearn.preprocessing import OneHotEncoder\n",
        "from fastFM.mcmc import FMRegression\n",
        "from fastFM.datasets import make_user_item_regression\n",
        "from sklearn.model_selection import train_test_split\n",
        "from fastFM import als,sgd\n",
        "from sklearn.metrics import mean_squared_error,roc_auc_score\n"
      ],
      "execution_count": 24,
      "outputs": []
    },
    {
      "cell_type": "markdown",
      "metadata": {
        "id": "S0lRQngCDvxS"
      },
      "source": [
        "Regression with ALS"
      ]
    },
    {
      "cell_type": "code",
      "metadata": {
        "id": "SradxqpdU--9"
      },
      "source": [
        "# This sets up a small test dataset.\n",
        "X, y, _ = make_user_item_regression(label_stdev=.4)\n",
        "X_train, X_test, y_train, y_test = train_test_split(X, y)\n",
        "\n",
        "fm = als.FMRegression(n_iter=1000, init_stdev=0.1, rank=2, l2_reg_w=0.1, l2_reg_V=0.5)\n",
        "fm.fit(X_train, y_train)\n",
        "y_pred = fm.predict(X_test)"
      ],
      "execution_count": 25,
      "outputs": []
    },
    {
      "cell_type": "code",
      "metadata": {
        "id": "PgfZRNgzD4Ty",
        "colab": {
          "base_uri": "https://localhost:8080/"
        },
        "outputId": "9a8d348f-b6bb-4b19-cd90-e44538eba247"
      },
      "source": [
        "'RMSE:', mean_squared_error(y_test, y_pred)**0.5"
      ],
      "execution_count": 26,
      "outputs": [
        {
          "output_type": "execute_result",
          "data": {
            "text/plain": [
              "('RMSE:', 0.5259048855045719)"
            ]
          },
          "metadata": {
            "tags": []
          },
          "execution_count": 26
        }
      ]
    },
    {
      "cell_type": "markdown",
      "metadata": {
        "id": "Dd0aGrAnUMyG"
      },
      "source": [
        "# Factorization machines - Movielens"
      ]
    },
    {
      "cell_type": "code",
      "metadata": {
        "id": "Oigop-tOO0Yn",
        "colab": {
          "base_uri": "https://localhost:8080/"
        },
        "outputId": "912cf84f-8c00-42f6-b6d2-05abdc732884"
      },
      "source": [
        "!wget http://files.grouplens.org/datasets/movielens/ml-100k.zip"
      ],
      "execution_count": 27,
      "outputs": [
        {
          "output_type": "stream",
          "text": [
            "--2021-03-21 08:27:46--  http://files.grouplens.org/datasets/movielens/ml-100k.zip\n",
            "Resolving files.grouplens.org (files.grouplens.org)... 128.101.65.152\n",
            "Connecting to files.grouplens.org (files.grouplens.org)|128.101.65.152|:80... connected.\n",
            "HTTP request sent, awaiting response... 200 OK\n",
            "Length: 4924029 (4.7M) [application/zip]\n",
            "Saving to: ‘ml-100k.zip’\n",
            "\n",
            "ml-100k.zip         100%[===================>]   4.70M  16.4MB/s    in 0.3s    \n",
            "\n",
            "2021-03-21 08:27:46 (16.4 MB/s) - ‘ml-100k.zip’ saved [4924029/4924029]\n",
            "\n"
          ],
          "name": "stdout"
        }
      ]
    },
    {
      "cell_type": "code",
      "metadata": {
        "id": "CSU3SVQ2PJlK",
        "colab": {
          "base_uri": "https://localhost:8080/"
        },
        "outputId": "e977cfa6-a733-4a97-810e-38934b30bcd4"
      },
      "source": [
        "!unzip ml-100k.zip"
      ],
      "execution_count": 28,
      "outputs": [
        {
          "output_type": "stream",
          "text": [
            "Archive:  ml-100k.zip\n",
            "   creating: ml-100k/\n",
            "  inflating: ml-100k/allbut.pl       \n",
            "  inflating: ml-100k/mku.sh          \n",
            "  inflating: ml-100k/README          \n",
            "  inflating: ml-100k/u.data          \n",
            "  inflating: ml-100k/u.genre         \n",
            "  inflating: ml-100k/u.info          \n",
            "  inflating: ml-100k/u.item          \n",
            "  inflating: ml-100k/u.occupation    \n",
            "  inflating: ml-100k/u.user          \n",
            "  inflating: ml-100k/u1.base         \n",
            "  inflating: ml-100k/u1.test         \n",
            "  inflating: ml-100k/u2.base         \n",
            "  inflating: ml-100k/u2.test         \n",
            "  inflating: ml-100k/u3.base         \n",
            "  inflating: ml-100k/u3.test         \n",
            "  inflating: ml-100k/u4.base         \n",
            "  inflating: ml-100k/u4.test         \n",
            "  inflating: ml-100k/u5.base         \n",
            "  inflating: ml-100k/u5.test         \n",
            "  inflating: ml-100k/ua.base         \n",
            "  inflating: ml-100k/ua.test         \n",
            "  inflating: ml-100k/ub.base         \n",
            "  inflating: ml-100k/ub.test         \n"
          ],
          "name": "stdout"
        }
      ]
    },
    {
      "cell_type": "code",
      "metadata": {
        "id": "A0ZEDPrOFpqk"
      },
      "source": [
        "def load_movielens_100k(all_features=False):\n",
        "    '''Standard test dataset for recommendation systems\n",
        "    From http://grouplens.org/datasets/movielens/\n",
        "    '''\n",
        "    folder = 'ml-100k'\n",
        "    ratings = pd.read_csv(folder + '/u.data', sep='\\t', \n",
        "                              names=['user', 'movie', 'rating', 'timestamp'], header=None)\n",
        "    ratings = ratings.drop('timestamp', axis=1)\n",
        "    if all_features:\n",
        "        users   = pd.read_csv(folder + '/u.user', sep='|', \n",
        "                                  names=['user', 'age', 'gender', 'occupation', 'zip'], header=None,encoding='latin-1')\n",
        "        movies  = pd.read_csv(folder + '/u.item', sep='|',\n",
        "           names=['movie', 'title','released','video_release', 'IMDb URL','unknown','Action','Adventure','Animation',\n",
        "            'Children','Comedy','Crime','Documentary','Drama','Fantasy','Film-Noir',\n",
        "            'Horror','Musical','Mystery','Romance','Sci-Fi','Thriller','War','Western'], header=None,encoding='latin-1')\n",
        "        \n",
        "        movies = movies.drop(['title', 'IMDb URL', 'video_release'], axis=1)\n",
        "        movies['released'] = pd.to_datetime(movies['released']).map(lambda z: z.year)\n",
        "        ratings = pd.merge(pd.merge(ratings, users, on='user'), movies, on='movie')\n",
        "\n",
        "    answers = ratings['rating'].values\n",
        "    ratings = ratings.drop('rating', axis=1)\n",
        "\n",
        "    for feature in ratings.columns:\n",
        "        _, ratings[feature] = np.unique(ratings[feature], return_inverse=True)\n",
        "        \n",
        "    trainX, testX, trainY, testY = train_test_split(ratings, answers, train_size=0.75, random_state=42)\n",
        "    return trainX, testX, trainY, testY"
      ],
      "execution_count": 29,
      "outputs": []
    },
    {
      "cell_type": "code",
      "metadata": {
        "id": "8Vku-L7xPPdw"
      },
      "source": [
        "trainX, testX, trainY, testY = load_movielens_100k(True)"
      ],
      "execution_count": 30,
      "outputs": []
    },
    {
      "cell_type": "code",
      "metadata": {
        "id": "rYxE8fRdPfYo",
        "colab": {
          "base_uri": "https://localhost:8080/",
          "height": 445
        },
        "outputId": "0e0bb1c7-30af-4a22-8276-08cbd0ffe01d"
      },
      "source": [
        "trainX"
      ],
      "execution_count": 31,
      "outputs": [
        {
          "output_type": "execute_result",
          "data": {
            "text/html": [
              "<div>\n",
              "<style scoped>\n",
              "    .dataframe tbody tr th:only-of-type {\n",
              "        vertical-align: middle;\n",
              "    }\n",
              "\n",
              "    .dataframe tbody tr th {\n",
              "        vertical-align: top;\n",
              "    }\n",
              "\n",
              "    .dataframe thead th {\n",
              "        text-align: right;\n",
              "    }\n",
              "</style>\n",
              "<table border=\"1\" class=\"dataframe\">\n",
              "  <thead>\n",
              "    <tr style=\"text-align: right;\">\n",
              "      <th></th>\n",
              "      <th>user</th>\n",
              "      <th>movie</th>\n",
              "      <th>age</th>\n",
              "      <th>gender</th>\n",
              "      <th>occupation</th>\n",
              "      <th>zip</th>\n",
              "      <th>released</th>\n",
              "      <th>unknown</th>\n",
              "      <th>Action</th>\n",
              "      <th>Adventure</th>\n",
              "      <th>Animation</th>\n",
              "      <th>Children</th>\n",
              "      <th>Comedy</th>\n",
              "      <th>Crime</th>\n",
              "      <th>Documentary</th>\n",
              "      <th>Drama</th>\n",
              "      <th>Fantasy</th>\n",
              "      <th>Film-Noir</th>\n",
              "      <th>Horror</th>\n",
              "      <th>Musical</th>\n",
              "      <th>Mystery</th>\n",
              "      <th>Romance</th>\n",
              "      <th>Sci-Fi</th>\n",
              "      <th>Thriller</th>\n",
              "      <th>War</th>\n",
              "      <th>Western</th>\n",
              "    </tr>\n",
              "  </thead>\n",
              "  <tbody>\n",
              "    <tr>\n",
              "      <th>98980</th>\n",
              "      <td>692</td>\n",
              "      <td>1310</td>\n",
              "      <td>33</td>\n",
              "      <td>0</td>\n",
              "      <td>7</td>\n",
              "      <td>615</td>\n",
              "      <td>68</td>\n",
              "      <td>0</td>\n",
              "      <td>0</td>\n",
              "      <td>0</td>\n",
              "      <td>0</td>\n",
              "      <td>0</td>\n",
              "      <td>1</td>\n",
              "      <td>0</td>\n",
              "      <td>0</td>\n",
              "      <td>1</td>\n",
              "      <td>0</td>\n",
              "      <td>0</td>\n",
              "      <td>0</td>\n",
              "      <td>0</td>\n",
              "      <td>0</td>\n",
              "      <td>0</td>\n",
              "      <td>0</td>\n",
              "      <td>0</td>\n",
              "      <td>0</td>\n",
              "      <td>0</td>\n",
              "    </tr>\n",
              "    <tr>\n",
              "      <th>69824</th>\n",
              "      <td>931</td>\n",
              "      <td>528</td>\n",
              "      <td>48</td>\n",
              "      <td>1</td>\n",
              "      <td>3</td>\n",
              "      <td>59</td>\n",
              "      <td>57</td>\n",
              "      <td>0</td>\n",
              "      <td>0</td>\n",
              "      <td>0</td>\n",
              "      <td>0</td>\n",
              "      <td>0</td>\n",
              "      <td>0</td>\n",
              "      <td>0</td>\n",
              "      <td>0</td>\n",
              "      <td>1</td>\n",
              "      <td>0</td>\n",
              "      <td>0</td>\n",
              "      <td>0</td>\n",
              "      <td>0</td>\n",
              "      <td>0</td>\n",
              "      <td>0</td>\n",
              "      <td>0</td>\n",
              "      <td>0</td>\n",
              "      <td>0</td>\n",
              "      <td>0</td>\n",
              "    </tr>\n",
              "    <tr>\n",
              "      <th>9928</th>\n",
              "      <td>216</td>\n",
              "      <td>553</td>\n",
              "      <td>12</td>\n",
              "      <td>1</td>\n",
              "      <td>13</td>\n",
              "      <td>110</td>\n",
              "      <td>67</td>\n",
              "      <td>0</td>\n",
              "      <td>1</td>\n",
              "      <td>1</td>\n",
              "      <td>0</td>\n",
              "      <td>0</td>\n",
              "      <td>0</td>\n",
              "      <td>0</td>\n",
              "      <td>0</td>\n",
              "      <td>0</td>\n",
              "      <td>0</td>\n",
              "      <td>0</td>\n",
              "      <td>0</td>\n",
              "      <td>0</td>\n",
              "      <td>0</td>\n",
              "      <td>0</td>\n",
              "      <td>0</td>\n",
              "      <td>0</td>\n",
              "      <td>0</td>\n",
              "      <td>0</td>\n",
              "    </tr>\n",
              "    <tr>\n",
              "      <th>75599</th>\n",
              "      <td>798</td>\n",
              "      <td>498</td>\n",
              "      <td>39</td>\n",
              "      <td>0</td>\n",
              "      <td>0</td>\n",
              "      <td>166</td>\n",
              "      <td>30</td>\n",
              "      <td>0</td>\n",
              "      <td>0</td>\n",
              "      <td>0</td>\n",
              "      <td>0</td>\n",
              "      <td>0</td>\n",
              "      <td>0</td>\n",
              "      <td>0</td>\n",
              "      <td>0</td>\n",
              "      <td>1</td>\n",
              "      <td>0</td>\n",
              "      <td>0</td>\n",
              "      <td>0</td>\n",
              "      <td>0</td>\n",
              "      <td>0</td>\n",
              "      <td>0</td>\n",
              "      <td>0</td>\n",
              "      <td>0</td>\n",
              "      <td>0</td>\n",
              "      <td>0</td>\n",
              "    </tr>\n",
              "    <tr>\n",
              "      <th>95621</th>\n",
              "      <td>910</td>\n",
              "      <td>547</td>\n",
              "      <td>27</td>\n",
              "      <td>0</td>\n",
              "      <td>20</td>\n",
              "      <td>397</td>\n",
              "      <td>68</td>\n",
              "      <td>0</td>\n",
              "      <td>0</td>\n",
              "      <td>0</td>\n",
              "      <td>0</td>\n",
              "      <td>1</td>\n",
              "      <td>0</td>\n",
              "      <td>0</td>\n",
              "      <td>0</td>\n",
              "      <td>0</td>\n",
              "      <td>1</td>\n",
              "      <td>0</td>\n",
              "      <td>0</td>\n",
              "      <td>0</td>\n",
              "      <td>0</td>\n",
              "      <td>0</td>\n",
              "      <td>0</td>\n",
              "      <td>0</td>\n",
              "      <td>0</td>\n",
              "      <td>0</td>\n",
              "    </tr>\n",
              "    <tr>\n",
              "      <th>...</th>\n",
              "      <td>...</td>\n",
              "      <td>...</td>\n",
              "      <td>...</td>\n",
              "      <td>...</td>\n",
              "      <td>...</td>\n",
              "      <td>...</td>\n",
              "      <td>...</td>\n",
              "      <td>...</td>\n",
              "      <td>...</td>\n",
              "      <td>...</td>\n",
              "      <td>...</td>\n",
              "      <td>...</td>\n",
              "      <td>...</td>\n",
              "      <td>...</td>\n",
              "      <td>...</td>\n",
              "      <td>...</td>\n",
              "      <td>...</td>\n",
              "      <td>...</td>\n",
              "      <td>...</td>\n",
              "      <td>...</td>\n",
              "      <td>...</td>\n",
              "      <td>...</td>\n",
              "      <td>...</td>\n",
              "      <td>...</td>\n",
              "      <td>...</td>\n",
              "      <td>...</td>\n",
              "    </tr>\n",
              "    <tr>\n",
              "      <th>6265</th>\n",
              "      <td>658</td>\n",
              "      <td>268</td>\n",
              "      <td>21</td>\n",
              "      <td>1</td>\n",
              "      <td>3</td>\n",
              "      <td>406</td>\n",
              "      <td>69</td>\n",
              "      <td>0</td>\n",
              "      <td>0</td>\n",
              "      <td>0</td>\n",
              "      <td>0</td>\n",
              "      <td>0</td>\n",
              "      <td>1</td>\n",
              "      <td>0</td>\n",
              "      <td>0</td>\n",
              "      <td>0</td>\n",
              "      <td>0</td>\n",
              "      <td>0</td>\n",
              "      <td>0</td>\n",
              "      <td>0</td>\n",
              "      <td>0</td>\n",
              "      <td>0</td>\n",
              "      <td>0</td>\n",
              "      <td>0</td>\n",
              "      <td>0</td>\n",
              "      <td>0</td>\n",
              "    </tr>\n",
              "    <tr>\n",
              "      <th>54886</th>\n",
              "      <td>579</td>\n",
              "      <td>342</td>\n",
              "      <td>6</td>\n",
              "      <td>1</td>\n",
              "      <td>18</td>\n",
              "      <td>152</td>\n",
              "      <td>69</td>\n",
              "      <td>0</td>\n",
              "      <td>1</td>\n",
              "      <td>0</td>\n",
              "      <td>0</td>\n",
              "      <td>0</td>\n",
              "      <td>0</td>\n",
              "      <td>0</td>\n",
              "      <td>0</td>\n",
              "      <td>0</td>\n",
              "      <td>0</td>\n",
              "      <td>0</td>\n",
              "      <td>1</td>\n",
              "      <td>0</td>\n",
              "      <td>0</td>\n",
              "      <td>0</td>\n",
              "      <td>1</td>\n",
              "      <td>0</td>\n",
              "      <td>0</td>\n",
              "      <td>0</td>\n",
              "    </tr>\n",
              "    <tr>\n",
              "      <th>76820</th>\n",
              "      <td>681</td>\n",
              "      <td>46</td>\n",
              "      <td>13</td>\n",
              "      <td>1</td>\n",
              "      <td>14</td>\n",
              "      <td>425</td>\n",
              "      <td>66</td>\n",
              "      <td>0</td>\n",
              "      <td>0</td>\n",
              "      <td>0</td>\n",
              "      <td>0</td>\n",
              "      <td>0</td>\n",
              "      <td>1</td>\n",
              "      <td>0</td>\n",
              "      <td>0</td>\n",
              "      <td>1</td>\n",
              "      <td>0</td>\n",
              "      <td>0</td>\n",
              "      <td>0</td>\n",
              "      <td>0</td>\n",
              "      <td>0</td>\n",
              "      <td>0</td>\n",
              "      <td>0</td>\n",
              "      <td>0</td>\n",
              "      <td>0</td>\n",
              "      <td>0</td>\n",
              "    </tr>\n",
              "    <tr>\n",
              "      <th>860</th>\n",
              "      <td>720</td>\n",
              "      <td>305</td>\n",
              "      <td>14</td>\n",
              "      <td>0</td>\n",
              "      <td>5</td>\n",
              "      <td>107</td>\n",
              "      <td>69</td>\n",
              "      <td>0</td>\n",
              "      <td>0</td>\n",
              "      <td>0</td>\n",
              "      <td>0</td>\n",
              "      <td>0</td>\n",
              "      <td>0</td>\n",
              "      <td>0</td>\n",
              "      <td>0</td>\n",
              "      <td>1</td>\n",
              "      <td>0</td>\n",
              "      <td>0</td>\n",
              "      <td>0</td>\n",
              "      <td>0</td>\n",
              "      <td>0</td>\n",
              "      <td>1</td>\n",
              "      <td>0</td>\n",
              "      <td>0</td>\n",
              "      <td>0</td>\n",
              "      <td>0</td>\n",
              "    </tr>\n",
              "    <tr>\n",
              "      <th>15795</th>\n",
              "      <td>143</td>\n",
              "      <td>97</td>\n",
              "      <td>43</td>\n",
              "      <td>1</td>\n",
              "      <td>14</td>\n",
              "      <td>189</td>\n",
              "      <td>63</td>\n",
              "      <td>0</td>\n",
              "      <td>0</td>\n",
              "      <td>0</td>\n",
              "      <td>0</td>\n",
              "      <td>0</td>\n",
              "      <td>0</td>\n",
              "      <td>0</td>\n",
              "      <td>0</td>\n",
              "      <td>1</td>\n",
              "      <td>0</td>\n",
              "      <td>0</td>\n",
              "      <td>0</td>\n",
              "      <td>0</td>\n",
              "      <td>0</td>\n",
              "      <td>0</td>\n",
              "      <td>0</td>\n",
              "      <td>1</td>\n",
              "      <td>0</td>\n",
              "      <td>0</td>\n",
              "    </tr>\n",
              "  </tbody>\n",
              "</table>\n",
              "<p>75000 rows × 26 columns</p>\n",
              "</div>"
            ],
            "text/plain": [
              "       user  movie  age  gender  ...  Sci-Fi  Thriller  War  Western\n",
              "98980   692   1310   33       0  ...       0         0    0        0\n",
              "69824   931    528   48       1  ...       0         0    0        0\n",
              "9928    216    553   12       1  ...       0         0    0        0\n",
              "75599   798    498   39       0  ...       0         0    0        0\n",
              "95621   910    547   27       0  ...       0         0    0        0\n",
              "...     ...    ...  ...     ...  ...     ...       ...  ...      ...\n",
              "6265    658    268   21       1  ...       0         0    0        0\n",
              "54886   579    342    6       1  ...       1         0    0        0\n",
              "76820   681     46   13       1  ...       0         0    0        0\n",
              "860     720    305   14       0  ...       0         0    0        0\n",
              "15795   143     97   43       1  ...       0         1    0        0\n",
              "\n",
              "[75000 rows x 26 columns]"
            ]
          },
          "metadata": {
            "tags": []
          },
          "execution_count": 31
        }
      ]
    },
    {
      "cell_type": "code",
      "metadata": {
        "id": "bnnpEby-QwDa"
      },
      "source": [
        "def fitpredict_fastfm(trainX, trainY, testX, classification=True, rank=8, n_iter=100):\n",
        "    encoder = OneHotEncoder(handle_unknown='ignore').fit(trainX)\n",
        "    trainX = encoder.transform(trainX)\n",
        "    testX = encoder.transform(testX)    \n",
        "    reg = FMRegression(rank=rank, n_iter=n_iter)\n",
        "    return reg.fit_predict(trainX, trainY, testX)"
      ],
      "execution_count": 32,
      "outputs": []
    },
    {
      "cell_type": "code",
      "metadata": {
        "id": "CWPmmOkRPZqX"
      },
      "source": [
        "def test_on_dataset(trainX, testX, trainY, testY):\n",
        "    reg_fastFM   = fitpredict_fastfm   \n",
        "    start = time.time()\n",
        "    predictions = reg_fastFM(trainX, trainY, testX)\n",
        "    spent_time = time.time() - start            \n",
        "    print('time',spent_time)\n",
        "    print('RMSE',np.mean((testY - predictions) ** 2) ** 0.5)                "
      ],
      "execution_count": 33,
      "outputs": []
    },
    {
      "cell_type": "code",
      "metadata": {
        "id": "lR1gY0XKRqLo",
        "colab": {
          "base_uri": "https://localhost:8080/"
        },
        "outputId": "3d60057d-5475-4584-d262-581384bdc46e"
      },
      "source": [
        "test_on_dataset(trainX, testX, trainY, testY)"
      ],
      "execution_count": 34,
      "outputs": [
        {
          "output_type": "stream",
          "text": [
            "time 42.8170166015625\n",
            "RMSE 0.8965433945577149\n"
          ],
          "name": "stdout"
        }
      ]
    }
  ]
}