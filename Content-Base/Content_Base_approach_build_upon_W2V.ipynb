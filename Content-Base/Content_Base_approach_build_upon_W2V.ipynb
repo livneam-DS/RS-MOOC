{
  "nbformat": 4,
  "nbformat_minor": 0,
  "metadata": {
    "kernelspec": {
      "display_name": "Python 3",
      "language": "python",
      "name": "python3"
    },
    "language_info": {
      "codemirror_mode": {
        "name": "ipython",
        "version": 3
      },
      "file_extension": ".py",
      "mimetype": "text/x-python",
      "name": "python",
      "nbconvert_exporter": "python",
      "pygments_lexer": "ipython3",
      "version": "3.6.8"
    },
    "toc": {
      "base_numbering": 1,
      "nav_menu": {},
      "number_sections": true,
      "sideBar": true,
      "skip_h1_title": false,
      "title_cell": "Table of Contents",
      "title_sidebar": "Contents",
      "toc_cell": false,
      "toc_position": {},
      "toc_section_display": true,
      "toc_window_display": false
    },
    "colab": {
      "name": "Content-Base approach build upon W2V.ipynb",
      "provenance": [],
      "collapsed_sections": []
    }
  },
  "cells": [
    {
      "cell_type": "markdown",
      "metadata": {
        "id": "m_EGSEdxtuD1"
      },
      "source": [
        "This is another example of how we can perform some Content-Base filtering approach on meta-data information for generating recommendations.\n",
        "\n",
        "\n",
        "We will load the file: books_n_description.csv. Then, will perform a short EDA followed by TFIDF based recommendation and a W2V approach build upon the description of each book.\n",
        "\n",
        "First, we will generate a recommendation base upon item2item similarity. Second, we will generate recommendations for a given user."
      ]
    },
    {
      "cell_type": "markdown",
      "metadata": {
        "id": "1ZfrH6hItpwk"
      },
      "source": [
        "#Imports"
      ]
    },
    {
      "cell_type": "code",
      "metadata": {
        "ExecuteTime": {
          "end_time": "2019-12-15T13:45:07.504608Z",
          "start_time": "2019-12-15T13:45:05.909871Z"
        },
        "id": "NAEh2e0DgROT"
      },
      "source": [
        "import numpy as np\n",
        "import pandas as pd\n",
        "import random\n",
        "import os\n",
        "from nltk.corpus import stopwords \n",
        "from nltk.tokenize import word_tokenize \n",
        "import gensim\n",
        "import nltk\n"
      ],
      "execution_count": null,
      "outputs": []
    },
    {
      "cell_type": "code",
      "metadata": {
        "colab": {
          "base_uri": "https://localhost:8080/"
        },
        "id": "Z-TVss6TuD00",
        "outputId": "aab4c646-0762-480f-cdba-f39810b8726d"
      },
      "source": [
        "from google.colab import drive\n",
        "drive.mount('/content/drive')"
      ],
      "execution_count": null,
      "outputs": [
        {
          "output_type": "stream",
          "text": [
            "Mounted at /content/drive\n"
          ],
          "name": "stdout"
        }
      ]
    },
    {
      "cell_type": "code",
      "metadata": {
        "colab": {
          "base_uri": "https://localhost:8080/"
        },
        "id": "6uFuPBjwg6o2",
        "outputId": "3aa21c4a-1b7c-4999-bc2e-071425e65958"
      },
      "source": [
        "nltk.download('stopwords')\n",
        "stop_words = set(stopwords.words('english')) "
      ],
      "execution_count": null,
      "outputs": [
        {
          "output_type": "stream",
          "text": [
            "[nltk_data] Downloading package stopwords to /root/nltk_data...\n",
            "[nltk_data]   Package stopwords is already up-to-date!\n"
          ],
          "name": "stdout"
        }
      ]
    },
    {
      "cell_type": "markdown",
      "metadata": {
        "id": "q0gMa7-8t9Z5"
      },
      "source": [
        "# Load Data"
      ]
    },
    {
      "cell_type": "code",
      "metadata": {
        "ExecuteTime": {
          "end_time": "2019-12-15T13:45:07.514565Z",
          "start_time": "2019-12-15T13:45:07.506560Z"
        },
        "id": "Ph2Bg3vTgROX"
      },
      "source": [
        "#Make sure you downloaded the dataset and you create such a path, alternativly - changed this path\n",
        "PATH = '/content/drive/My Drive/Recommender Systems/Content Base/Datasets/Book-Crossing'\n",
        "os.chdir(PATH)"
      ],
      "execution_count": null,
      "outputs": []
    },
    {
      "cell_type": "code",
      "metadata": {
        "ExecuteTime": {
          "end_time": "2019-12-15T13:45:08.740102Z",
          "start_time": "2019-12-15T13:45:08.673249Z"
        },
        "colab": {
          "base_uri": "https://localhost:8080/",
          "height": 198
        },
        "id": "yBCpyeUsgROb",
        "outputId": "729170dc-bc11-4413-c938-b3aa206ddd56"
      },
      "source": [
        "# Load data from csv file\n",
        "# items_desc = pd.read_excel('final_books.xlsx',index_col=0)\n",
        "items_desc = pd.read_csv('books_n_description.csv',encoding='latin-1',index_col=0)\n",
        "items_desc['ISBN'] = items_desc['ISBN'].astype(str)\n",
        "items_desc['description'] = items_desc['description'].fillna(items_desc['title'])\n",
        "items_desc['description'] = items_desc['description'].astype(str) \n",
        "items_desc_isbn = items_desc.set_index('ISBN') \n",
        "# print the first 5 rows of the data\n",
        "items_desc.head()"
      ],
      "execution_count": null,
      "outputs": [
        {
          "output_type": "execute_result",
          "data": {
            "text/html": [
              "<div>\n",
              "<style scoped>\n",
              "    .dataframe tbody tr th:only-of-type {\n",
              "        vertical-align: middle;\n",
              "    }\n",
              "\n",
              "    .dataframe tbody tr th {\n",
              "        vertical-align: top;\n",
              "    }\n",
              "\n",
              "    .dataframe thead th {\n",
              "        text-align: right;\n",
              "    }\n",
              "</style>\n",
              "<table border=\"1\" class=\"dataframe\">\n",
              "  <thead>\n",
              "    <tr style=\"text-align: right;\">\n",
              "      <th></th>\n",
              "      <th>ISBN</th>\n",
              "      <th>title</th>\n",
              "      <th>author</th>\n",
              "      <th>pub_year</th>\n",
              "      <th>publisher</th>\n",
              "      <th>categories</th>\n",
              "      <th>description</th>\n",
              "    </tr>\n",
              "  </thead>\n",
              "  <tbody>\n",
              "    <tr>\n",
              "      <th>0</th>\n",
              "      <td>2005018</td>\n",
              "      <td>Clara Callan</td>\n",
              "      <td>Richard Bruce Wright</td>\n",
              "      <td>2001.0</td>\n",
              "      <td>HarperFlamingo Canada</td>\n",
              "      <td>Actresses</td>\n",
              "      <td>In a small town in Canada, Clara Callan reluct...</td>\n",
              "    </tr>\n",
              "    <tr>\n",
              "      <th>1</th>\n",
              "      <td>374157065</td>\n",
              "      <td>Flu: The Story of the Great Influenza Pandemic...</td>\n",
              "      <td>Gina Bari Kolata</td>\n",
              "      <td>1999.0</td>\n",
              "      <td>Farrar Straus Giroux</td>\n",
              "      <td>Medical</td>\n",
              "      <td>Describes the great flu epidemic of 1918, an o...</td>\n",
              "    </tr>\n",
              "    <tr>\n",
              "      <th>2</th>\n",
              "      <td>399135782</td>\n",
              "      <td>The Kitchen God's Wife</td>\n",
              "      <td>Amy Tan</td>\n",
              "      <td>1991.0</td>\n",
              "      <td>Putnam Pub Group</td>\n",
              "      <td>Fiction</td>\n",
              "      <td>A Chinese immigrant who is convinced she is dy...</td>\n",
              "    </tr>\n",
              "    <tr>\n",
              "      <th>3</th>\n",
              "      <td>440234743</td>\n",
              "      <td>The Testament</td>\n",
              "      <td>John Grisham</td>\n",
              "      <td>1999.0</td>\n",
              "      <td>Dell</td>\n",
              "      <td>Fiction</td>\n",
              "      <td>A suicidal billionaire, a burnt-out Washington...</td>\n",
              "    </tr>\n",
              "    <tr>\n",
              "      <th>4</th>\n",
              "      <td>452264464</td>\n",
              "      <td>Beloved (Plume Contemporary Fiction)</td>\n",
              "      <td>Toni Morrison</td>\n",
              "      <td>1994.0</td>\n",
              "      <td>Plume</td>\n",
              "      <td>Fiction</td>\n",
              "      <td>Staring unflinchingly into the abyss of slaver...</td>\n",
              "    </tr>\n",
              "  </tbody>\n",
              "</table>\n",
              "</div>"
            ],
            "text/plain": [
              "        ISBN  ...                                        description\n",
              "0    2005018  ...  In a small town in Canada, Clara Callan reluct...\n",
              "1  374157065  ...  Describes the great flu epidemic of 1918, an o...\n",
              "2  399135782  ...  A Chinese immigrant who is convinced she is dy...\n",
              "3  440234743  ...  A suicidal billionaire, a burnt-out Washington...\n",
              "4  452264464  ...  Staring unflinchingly into the abyss of slaver...\n",
              "\n",
              "[5 rows x 7 columns]"
            ]
          },
          "metadata": {
            "tags": []
          },
          "execution_count": 8
        }
      ]
    },
    {
      "cell_type": "markdown",
      "metadata": {
        "id": "kedUH3fagROd"
      },
      "source": [
        "We want to extend the information from last notebook with this external information.\n",
        "We have to check that the same isbn codes are in all files.\n",
        "\n",
        "Hence, we will build a function that will filter all the isbn codes that do not appear in the internal and external data."
      ]
    },
    {
      "cell_type": "code",
      "metadata": {
        "ExecuteTime": {
          "end_time": "2019-12-15T13:45:09.005339Z",
          "start_time": "2019-12-15T13:45:09.000352Z"
        },
        "id": "lwlFuA16gROf"
      },
      "source": [
        "def filter_data_to_relevant_isbn(df,lead_df):\n",
        "    \"\"\"\n",
        "    prequesition: df and lead_df must have 'isbn' column.\n",
        "    1) This method will set the index of the df to be the isbn.\n",
        "    2) Filter out all the isbn which do not appear in lead_df (external data)\n",
        "    3) return a filtered dataframe with isbn as the index.    \n",
        "\n",
        "    Parameters\n",
        "        ----------\n",
        "        df : DataFrame            \n",
        "        lead_df : DataFrame           \n",
        "    \"\"\"\n",
        "    df = df.set_index('ISBN')\n",
        "    lead_df = lead_df.set_index('ISBN')\n",
        "    print('shape before filtering: ',df.shape)\n",
        "    df = df.loc[df.index.isin(lead_df.index)]\n",
        "    print('shape after filtering: ',df.shape)\n",
        "    return df\n",
        "    "
      ],
      "execution_count": null,
      "outputs": []
    },
    {
      "cell_type": "code",
      "metadata": {
        "ExecuteTime": {
          "end_time": "2019-12-15T13:45:10.305853Z",
          "start_time": "2019-12-15T13:45:09.767494Z"
        },
        "colab": {
          "base_uri": "https://localhost:8080/",
          "height": 274
        },
        "id": "whyTV9BsgROh",
        "outputId": "9acd34f5-16f9-44e0-d7ca-2ba33aeef6dc"
      },
      "source": [
        "import seaborn as sns\n",
        "import matplotlib.pyplot as plt\n",
        "\n",
        "plt.figure(figsize=(16,2))\n",
        "plt.xticks(rotation=90)\n",
        "\n",
        "sns.countplot(items_desc['pub_year'])\n",
        "\n",
        "\n"
      ],
      "execution_count": null,
      "outputs": [
        {
          "output_type": "stream",
          "text": [
            "/usr/local/lib/python3.7/dist-packages/seaborn/_decorators.py:43: FutureWarning: Pass the following variable as a keyword arg: x. From version 0.12, the only valid positional argument will be `data`, and passing other arguments without an explicit keyword will result in an error or misinterpretation.\n",
            "  FutureWarning\n"
          ],
          "name": "stderr"
        },
        {
          "output_type": "execute_result",
          "data": {
            "text/plain": [
              "<matplotlib.axes._subplots.AxesSubplot at 0x7f256bbb9210>"
            ]
          },
          "metadata": {
            "tags": []
          },
          "execution_count": 10
        },
        {
          "output_type": "display_data",
          "data": {
            "image/png": "[encoded data removed]",
            "text/plain": [
              "<Figure size 1152x144 with 1 Axes>"
            ]
          },
          "metadata": {
            "tags": [],
            "needs_background": "light"
          }
        }
      ]
    },
    {
      "cell_type": "code",
      "metadata": {
        "ExecuteTime": {
          "end_time": "2019-12-15T13:45:10.642940Z",
          "start_time": "2019-12-15T13:45:10.307835Z"
        },
        "colab": {
          "base_uri": "https://localhost:8080/",
          "height": 265
        },
        "id": "u_n7fsexgROj",
        "outputId": "4dd9ab23-cef5-4959-fcb7-d5ef72349956"
      },
      "source": [
        "top_authors = items_desc['author'].value_counts().head(30)\n",
        "top_authors = top_authors.iloc[::-1] \n",
        "\n",
        "plt.figure(figsize=(16,2))\n",
        "plt.xticks(rotation=90)\n",
        "sns.barplot(x = top_authors.index ,y=top_authors)\n",
        "\n"
      ],
      "execution_count": null,
      "outputs": [
        {
          "output_type": "execute_result",
          "data": {
            "text/plain": [
              "<matplotlib.axes._subplots.AxesSubplot at 0x7f256acb4310>"
            ]
          },
          "metadata": {
            "tags": []
          },
          "execution_count": 12
        },
        {
          "output_type": "display_data",
          "data": {
            "image/png": "[encoded data removed]",
            "text/plain": [
              "<Figure size 1152x144 with 1 Axes>"
            ]
          },
          "metadata": {
            "tags": [],
            "needs_background": "light"
          }
        }
      ]
    },
    {
      "cell_type": "markdown",
      "metadata": {
        "id": "tZGrsfcKukG4"
      },
      "source": [
        "# Load Explicit Feedback"
      ]
    },
    {
      "cell_type": "code",
      "metadata": {
        "ExecuteTime": {
          "end_time": "2019-12-15T13:45:10.887260Z",
          "start_time": "2019-12-15T13:45:10.645906Z"
        },
        "colab": {
          "base_uri": "https://localhost:8080/",
          "height": 265
        },
        "id": "08Nu6oB2gROl",
        "outputId": "2d87c459-1946-44d1-8874-e0be8853180f"
      },
      "source": [
        "# Load explicit rating file.\n",
        "ratings_expl = pd.read_csv(os.path.join(PATH,'ratings_expl.csv'),names=['userID','ISBN','rating'],encoding='latin-1',sep=';',skiprows=1)\n",
        "ratings_expl['ISBN'] = ratings_expl['ISBN'].astype(str)\n",
        "ratings_expl_filtered = filter_data_to_relevant_isbn(ratings_expl,items_desc)\n",
        "ratings_expl_filtered['rating'] = ratings_expl_filtered['rating'].astype(int)\n",
        "\n",
        "ratings_expl_filtered.head()"
      ],
      "execution_count": null,
      "outputs": [
        {
          "output_type": "stream",
          "text": [
            "shape before filtering:  (340047, 2)\n",
            "shape after filtering:  (23116, 2)\n"
          ],
          "name": "stdout"
        },
        {
          "output_type": "execute_result",
          "data": {
            "text/html": [
              "<div>\n",
              "<style scoped>\n",
              "    .dataframe tbody tr th:only-of-type {\n",
              "        vertical-align: middle;\n",
              "    }\n",
              "\n",
              "    .dataframe tbody tr th {\n",
              "        vertical-align: top;\n",
              "    }\n",
              "\n",
              "    .dataframe thead th {\n",
              "        text-align: right;\n",
              "    }\n",
              "</style>\n",
              "<table border=\"1\" class=\"dataframe\">\n",
              "  <thead>\n",
              "    <tr style=\"text-align: right;\">\n",
              "      <th></th>\n",
              "      <th>userID</th>\n",
              "      <th>rating</th>\n",
              "    </tr>\n",
              "    <tr>\n",
              "      <th>ISBN</th>\n",
              "      <th></th>\n",
              "      <th></th>\n",
              "    </tr>\n",
              "  </thead>\n",
              "  <tbody>\n",
              "    <tr>\n",
              "      <th>038550120X</th>\n",
              "      <td>276744</td>\n",
              "      <td>7</td>\n",
              "    </tr>\n",
              "    <tr>\n",
              "      <th>3442136644</th>\n",
              "      <td>276774</td>\n",
              "      <td>9</td>\n",
              "    </tr>\n",
              "    <tr>\n",
              "      <th>043935806X</th>\n",
              "      <td>276788</td>\n",
              "      <td>7</td>\n",
              "    </tr>\n",
              "    <tr>\n",
              "      <th>3548603203</th>\n",
              "      <td>276798</td>\n",
              "      <td>6</td>\n",
              "    </tr>\n",
              "    <tr>\n",
              "      <th>2253150711</th>\n",
              "      <td>276828</td>\n",
              "      <td>7</td>\n",
              "    </tr>\n",
              "  </tbody>\n",
              "</table>\n",
              "</div>"
            ],
            "text/plain": [
              "            userID  rating\n",
              "ISBN                      \n",
              "038550120X  276744       7\n",
              "3442136644  276774       9\n",
              "043935806X  276788       7\n",
              "3548603203  276798       6\n",
              "2253150711  276828       7"
            ]
          },
          "metadata": {
            "tags": []
          },
          "execution_count": 13
        }
      ]
    },
    {
      "cell_type": "code",
      "metadata": {
        "ExecuteTime": {
          "end_time": "2019-12-15T13:45:11.081740Z",
          "start_time": "2019-12-15T13:45:10.901222Z"
        },
        "colab": {
          "base_uri": "https://localhost:8080/",
          "height": 355
        },
        "id": "Jw2L0H8SgROp",
        "outputId": "fcd95e22-931b-4a19-db6a-8f0eda639f8a"
      },
      "source": [
        "sns.countplot(ratings_expl_filtered['rating'])"
      ],
      "execution_count": null,
      "outputs": [
        {
          "output_type": "stream",
          "text": [
            "/usr/local/lib/python3.7/dist-packages/seaborn/_decorators.py:43: FutureWarning: Pass the following variable as a keyword arg: x. From version 0.12, the only valid positional argument will be `data`, and passing other arguments without an explicit keyword will result in an error or misinterpretation.\n",
            "  FutureWarning\n"
          ],
          "name": "stderr"
        },
        {
          "output_type": "execute_result",
          "data": {
            "text/plain": [
              "<matplotlib.axes._subplots.AxesSubplot at 0x7f256b18b290>"
            ]
          },
          "metadata": {
            "tags": []
          },
          "execution_count": 14
        },
        {
          "output_type": "display_data",
          "data": {
            "image/png": "[encoded data removed]",
            "text/plain": [
              "<Figure size 432x288 with 1 Axes>"
            ]
          },
          "metadata": {
            "tags": [],
            "needs_background": "light"
          }
        }
      ]
    },
    {
      "cell_type": "code",
      "metadata": {
        "ExecuteTime": {
          "end_time": "2019-12-15T13:45:11.488678Z",
          "start_time": "2019-12-15T13:45:11.082746Z"
        },
        "colab": {
          "base_uri": "https://localhost:8080/",
          "height": 240
        },
        "id": "rf-yH1N8gROp",
        "outputId": "bc58ea03-53bf-43a9-b83f-88942ea13626"
      },
      "source": [
        "top_isbn = ratings_expl['ISBN'].value_counts().head(30)\n",
        "top_isbn = top_isbn.iloc[::-1] \n",
        "\n",
        "plt.figure(figsize=(16,2))\n",
        "plt.xticks(rotation=90)\n",
        "ax = sns.barplot(x = top_isbn.index ,y=top_isbn)\n",
        "ax.set(xlabel='isbn', ylabel='amount of ratings',title='Top 30 books with highest amount of given rating')\n",
        "\n",
        "plt.show()\n",
        "\n",
        "\n",
        "\n"
      ],
      "execution_count": null,
      "outputs": [
        {
          "output_type": "display_data",
          "data": {
            "image/png": "[encoded data removed]",
            "text/plain": [
              "<Figure size 1152x144 with 1 Axes>"
            ]
          },
          "metadata": {
            "tags": [],
            "needs_background": "light"
          }
        }
      ]
    },
    {
      "cell_type": "markdown",
      "metadata": {
        "id": "bGf6NUwdvGbw"
      },
      "source": [
        "# TFIDF - build upon description"
      ]
    },
    {
      "cell_type": "code",
      "metadata": {
        "ExecuteTime": {
          "end_time": "2019-12-15T13:45:11.635261Z",
          "start_time": "2019-12-15T13:45:11.534566Z"
        },
        "colab": {
          "base_uri": "https://localhost:8080/",
          "height": 265
        },
        "id": "ofrJQpd_gROs",
        "outputId": "9390ea97-c476-4fb0-8190-03bc4e3280fc"
      },
      "source": [
        "from sklearn.feature_extraction.text import TfidfVectorizer\n",
        "# Creating a TfidfVectorizer object\n",
        "tf_vector = TfidfVectorizer(stop_words='english',min_df=5,ngram_range=(1,2))\n",
        "# transform each book description\n",
        "x = tf_vector.fit_transform(items_desc['description'])\n",
        "\n",
        "# Convert the TfidfVectorizer fit results into a table and display first 5 rows\n",
        "tf_vector_df = pd.DataFrame(x.toarray(), columns=tf_vector.get_feature_names())\n",
        "tf_vector_df.head()\n"
      ],
      "execution_count": null,
      "outputs": [
        {
          "output_type": "execute_result",
          "data": {
            "text/html": [
              "<div>\n",
              "<style scoped>\n",
              "    .dataframe tbody tr th:only-of-type {\n",
              "        vertical-align: middle;\n",
              "    }\n",
              "\n",
              "    .dataframe tbody tr th {\n",
              "        vertical-align: top;\n",
              "    }\n",
              "\n",
              "    .dataframe thead th {\n",
              "        text-align: right;\n",
              "    }\n",
              "</style>\n",
              "<table border=\"1\" class=\"dataframe\">\n",
              "  <thead>\n",
              "    <tr style=\"text-align: right;\">\n",
              "      <th></th>\n",
              "      <th>000</th>\n",
              "      <th>000 ad</th>\n",
              "      <th>000 printing</th>\n",
              "      <th>10</th>\n",
              "      <th>100</th>\n",
              "      <th>100 000</th>\n",
              "      <th>101</th>\n",
              "      <th>101 stories</th>\n",
              "      <th>11</th>\n",
              "      <th>12</th>\n",
              "      <th>13</th>\n",
              "      <th>14</th>\n",
              "      <th>15</th>\n",
              "      <th>150</th>\n",
              "      <th>150 000</th>\n",
              "      <th>16</th>\n",
              "      <th>17</th>\n",
              "      <th>18</th>\n",
              "      <th>19</th>\n",
              "      <th>1930s</th>\n",
              "      <th>1950s</th>\n",
              "      <th>1960s</th>\n",
              "      <th>1970s</th>\n",
              "      <th>1984</th>\n",
              "      <th>1996</th>\n",
              "      <th>1998</th>\n",
              "      <th>1999</th>\n",
              "      <th>20</th>\n",
              "      <th>20 000</th>\n",
              "      <th>2000</th>\n",
              "      <th>2001</th>\n",
              "      <th>20th</th>\n",
              "      <th>20th century</th>\n",
              "      <th>21</th>\n",
              "      <th>21st</th>\n",
              "      <th>21st century</th>\n",
              "      <th>22</th>\n",
              "      <th>24</th>\n",
              "      <th>25</th>\n",
              "      <th>27</th>\n",
              "      <th>...</th>\n",
              "      <th>wrong</th>\n",
              "      <th>wrote</th>\n",
              "      <th>wuthering</th>\n",
              "      <th>wuthering heights</th>\n",
              "      <th>wyoming</th>\n",
              "      <th>xanth</th>\n",
              "      <th>ya</th>\n",
              "      <th>yankee</th>\n",
              "      <th>year</th>\n",
              "      <th>year old</th>\n",
              "      <th>yearling</th>\n",
              "      <th>yearling newbery</th>\n",
              "      <th>years</th>\n",
              "      <th>years ago</th>\n",
              "      <th>years earlier</th>\n",
              "      <th>years later</th>\n",
              "      <th>years old</th>\n",
              "      <th>yellow</th>\n",
              "      <th>yes</th>\n",
              "      <th>yesterday</th>\n",
              "      <th>york</th>\n",
              "      <th>york city</th>\n",
              "      <th>york times</th>\n",
              "      <th>young</th>\n",
              "      <th>young boy</th>\n",
              "      <th>young daughter</th>\n",
              "      <th>young girl</th>\n",
              "      <th>young man</th>\n",
              "      <th>young woman</th>\n",
              "      <th>young women</th>\n",
              "      <th>younger</th>\n",
              "      <th>youth</th>\n",
              "      <th>zebra</th>\n",
              "      <th>zebra historical</th>\n",
              "      <th>zen</th>\n",
              "      <th>zen art</th>\n",
              "      <th>zero</th>\n",
              "      <th>zone</th>\n",
              "      <th>zu</th>\n",
              "      <th>â¼r</th>\n",
              "    </tr>\n",
              "  </thead>\n",
              "  <tbody>\n",
              "    <tr>\n",
              "      <th>0</th>\n",
              "      <td>0.0</td>\n",
              "      <td>0.0</td>\n",
              "      <td>0.0</td>\n",
              "      <td>0.0</td>\n",
              "      <td>0.0</td>\n",
              "      <td>0.0</td>\n",
              "      <td>0.0</td>\n",
              "      <td>0.0</td>\n",
              "      <td>0.0</td>\n",
              "      <td>0.0</td>\n",
              "      <td>0.0</td>\n",
              "      <td>0.0</td>\n",
              "      <td>0.0</td>\n",
              "      <td>0.0</td>\n",
              "      <td>0.0</td>\n",
              "      <td>0.0</td>\n",
              "      <td>0.0</td>\n",
              "      <td>0.0</td>\n",
              "      <td>0.0</td>\n",
              "      <td>0.123582</td>\n",
              "      <td>0.0</td>\n",
              "      <td>0.0</td>\n",
              "      <td>0.0</td>\n",
              "      <td>0.0</td>\n",
              "      <td>0.0</td>\n",
              "      <td>0.0</td>\n",
              "      <td>0.0</td>\n",
              "      <td>0.0</td>\n",
              "      <td>0.0</td>\n",
              "      <td>0.0</td>\n",
              "      <td>0.0</td>\n",
              "      <td>0.0</td>\n",
              "      <td>0.0</td>\n",
              "      <td>0.0</td>\n",
              "      <td>0.0</td>\n",
              "      <td>0.0</td>\n",
              "      <td>0.0</td>\n",
              "      <td>0.0</td>\n",
              "      <td>0.0</td>\n",
              "      <td>0.0</td>\n",
              "      <td>...</td>\n",
              "      <td>0.0</td>\n",
              "      <td>0.0</td>\n",
              "      <td>0.0</td>\n",
              "      <td>0.0</td>\n",
              "      <td>0.0</td>\n",
              "      <td>0.0</td>\n",
              "      <td>0.0</td>\n",
              "      <td>0.0</td>\n",
              "      <td>0.000000</td>\n",
              "      <td>0.0</td>\n",
              "      <td>0.0</td>\n",
              "      <td>0.0</td>\n",
              "      <td>0.000000</td>\n",
              "      <td>0.0</td>\n",
              "      <td>0.0</td>\n",
              "      <td>0.00000</td>\n",
              "      <td>0.0</td>\n",
              "      <td>0.0</td>\n",
              "      <td>0.0</td>\n",
              "      <td>0.0</td>\n",
              "      <td>0.08796</td>\n",
              "      <td>0.0</td>\n",
              "      <td>0.0</td>\n",
              "      <td>0.075427</td>\n",
              "      <td>0.0</td>\n",
              "      <td>0.0</td>\n",
              "      <td>0.0</td>\n",
              "      <td>0.0</td>\n",
              "      <td>0.0</td>\n",
              "      <td>0.123582</td>\n",
              "      <td>0.0</td>\n",
              "      <td>0.0</td>\n",
              "      <td>0.0</td>\n",
              "      <td>0.0</td>\n",
              "      <td>0.0</td>\n",
              "      <td>0.0</td>\n",
              "      <td>0.0</td>\n",
              "      <td>0.0</td>\n",
              "      <td>0.0</td>\n",
              "      <td>0.0</td>\n",
              "    </tr>\n",
              "    <tr>\n",
              "      <th>1</th>\n",
              "      <td>0.0</td>\n",
              "      <td>0.0</td>\n",
              "      <td>0.0</td>\n",
              "      <td>0.0</td>\n",
              "      <td>0.0</td>\n",
              "      <td>0.0</td>\n",
              "      <td>0.0</td>\n",
              "      <td>0.0</td>\n",
              "      <td>0.0</td>\n",
              "      <td>0.0</td>\n",
              "      <td>0.0</td>\n",
              "      <td>0.0</td>\n",
              "      <td>0.0</td>\n",
              "      <td>0.0</td>\n",
              "      <td>0.0</td>\n",
              "      <td>0.0</td>\n",
              "      <td>0.0</td>\n",
              "      <td>0.0</td>\n",
              "      <td>0.0</td>\n",
              "      <td>0.000000</td>\n",
              "      <td>0.0</td>\n",
              "      <td>0.0</td>\n",
              "      <td>0.0</td>\n",
              "      <td>0.0</td>\n",
              "      <td>0.0</td>\n",
              "      <td>0.0</td>\n",
              "      <td>0.0</td>\n",
              "      <td>0.0</td>\n",
              "      <td>0.0</td>\n",
              "      <td>0.0</td>\n",
              "      <td>0.0</td>\n",
              "      <td>0.0</td>\n",
              "      <td>0.0</td>\n",
              "      <td>0.0</td>\n",
              "      <td>0.0</td>\n",
              "      <td>0.0</td>\n",
              "      <td>0.0</td>\n",
              "      <td>0.0</td>\n",
              "      <td>0.0</td>\n",
              "      <td>0.0</td>\n",
              "      <td>...</td>\n",
              "      <td>0.0</td>\n",
              "      <td>0.0</td>\n",
              "      <td>0.0</td>\n",
              "      <td>0.0</td>\n",
              "      <td>0.0</td>\n",
              "      <td>0.0</td>\n",
              "      <td>0.0</td>\n",
              "      <td>0.0</td>\n",
              "      <td>0.000000</td>\n",
              "      <td>0.0</td>\n",
              "      <td>0.0</td>\n",
              "      <td>0.0</td>\n",
              "      <td>0.000000</td>\n",
              "      <td>0.0</td>\n",
              "      <td>0.0</td>\n",
              "      <td>0.00000</td>\n",
              "      <td>0.0</td>\n",
              "      <td>0.0</td>\n",
              "      <td>0.0</td>\n",
              "      <td>0.0</td>\n",
              "      <td>0.00000</td>\n",
              "      <td>0.0</td>\n",
              "      <td>0.0</td>\n",
              "      <td>0.000000</td>\n",
              "      <td>0.0</td>\n",
              "      <td>0.0</td>\n",
              "      <td>0.0</td>\n",
              "      <td>0.0</td>\n",
              "      <td>0.0</td>\n",
              "      <td>0.000000</td>\n",
              "      <td>0.0</td>\n",
              "      <td>0.0</td>\n",
              "      <td>0.0</td>\n",
              "      <td>0.0</td>\n",
              "      <td>0.0</td>\n",
              "      <td>0.0</td>\n",
              "      <td>0.0</td>\n",
              "      <td>0.0</td>\n",
              "      <td>0.0</td>\n",
              "      <td>0.0</td>\n",
              "    </tr>\n",
              "    <tr>\n",
              "      <th>2</th>\n",
              "      <td>0.0</td>\n",
              "      <td>0.0</td>\n",
              "      <td>0.0</td>\n",
              "      <td>0.0</td>\n",
              "      <td>0.0</td>\n",
              "      <td>0.0</td>\n",
              "      <td>0.0</td>\n",
              "      <td>0.0</td>\n",
              "      <td>0.0</td>\n",
              "      <td>0.0</td>\n",
              "      <td>0.0</td>\n",
              "      <td>0.0</td>\n",
              "      <td>0.0</td>\n",
              "      <td>0.0</td>\n",
              "      <td>0.0</td>\n",
              "      <td>0.0</td>\n",
              "      <td>0.0</td>\n",
              "      <td>0.0</td>\n",
              "      <td>0.0</td>\n",
              "      <td>0.000000</td>\n",
              "      <td>0.0</td>\n",
              "      <td>0.0</td>\n",
              "      <td>0.0</td>\n",
              "      <td>0.0</td>\n",
              "      <td>0.0</td>\n",
              "      <td>0.0</td>\n",
              "      <td>0.0</td>\n",
              "      <td>0.0</td>\n",
              "      <td>0.0</td>\n",
              "      <td>0.0</td>\n",
              "      <td>0.0</td>\n",
              "      <td>0.0</td>\n",
              "      <td>0.0</td>\n",
              "      <td>0.0</td>\n",
              "      <td>0.0</td>\n",
              "      <td>0.0</td>\n",
              "      <td>0.0</td>\n",
              "      <td>0.0</td>\n",
              "      <td>0.0</td>\n",
              "      <td>0.0</td>\n",
              "      <td>...</td>\n",
              "      <td>0.0</td>\n",
              "      <td>0.0</td>\n",
              "      <td>0.0</td>\n",
              "      <td>0.0</td>\n",
              "      <td>0.0</td>\n",
              "      <td>0.0</td>\n",
              "      <td>0.0</td>\n",
              "      <td>0.0</td>\n",
              "      <td>0.192661</td>\n",
              "      <td>0.0</td>\n",
              "      <td>0.0</td>\n",
              "      <td>0.0</td>\n",
              "      <td>0.000000</td>\n",
              "      <td>0.0</td>\n",
              "      <td>0.0</td>\n",
              "      <td>0.00000</td>\n",
              "      <td>0.0</td>\n",
              "      <td>0.0</td>\n",
              "      <td>0.0</td>\n",
              "      <td>0.0</td>\n",
              "      <td>0.00000</td>\n",
              "      <td>0.0</td>\n",
              "      <td>0.0</td>\n",
              "      <td>0.000000</td>\n",
              "      <td>0.0</td>\n",
              "      <td>0.0</td>\n",
              "      <td>0.0</td>\n",
              "      <td>0.0</td>\n",
              "      <td>0.0</td>\n",
              "      <td>0.000000</td>\n",
              "      <td>0.0</td>\n",
              "      <td>0.0</td>\n",
              "      <td>0.0</td>\n",
              "      <td>0.0</td>\n",
              "      <td>0.0</td>\n",
              "      <td>0.0</td>\n",
              "      <td>0.0</td>\n",
              "      <td>0.0</td>\n",
              "      <td>0.0</td>\n",
              "      <td>0.0</td>\n",
              "    </tr>\n",
              "    <tr>\n",
              "      <th>3</th>\n",
              "      <td>0.0</td>\n",
              "      <td>0.0</td>\n",
              "      <td>0.0</td>\n",
              "      <td>0.0</td>\n",
              "      <td>0.0</td>\n",
              "      <td>0.0</td>\n",
              "      <td>0.0</td>\n",
              "      <td>0.0</td>\n",
              "      <td>0.0</td>\n",
              "      <td>0.0</td>\n",
              "      <td>0.0</td>\n",
              "      <td>0.0</td>\n",
              "      <td>0.0</td>\n",
              "      <td>0.0</td>\n",
              "      <td>0.0</td>\n",
              "      <td>0.0</td>\n",
              "      <td>0.0</td>\n",
              "      <td>0.0</td>\n",
              "      <td>0.0</td>\n",
              "      <td>0.000000</td>\n",
              "      <td>0.0</td>\n",
              "      <td>0.0</td>\n",
              "      <td>0.0</td>\n",
              "      <td>0.0</td>\n",
              "      <td>0.0</td>\n",
              "      <td>0.0</td>\n",
              "      <td>0.0</td>\n",
              "      <td>0.0</td>\n",
              "      <td>0.0</td>\n",
              "      <td>0.0</td>\n",
              "      <td>0.0</td>\n",
              "      <td>0.0</td>\n",
              "      <td>0.0</td>\n",
              "      <td>0.0</td>\n",
              "      <td>0.0</td>\n",
              "      <td>0.0</td>\n",
              "      <td>0.0</td>\n",
              "      <td>0.0</td>\n",
              "      <td>0.0</td>\n",
              "      <td>0.0</td>\n",
              "      <td>...</td>\n",
              "      <td>0.0</td>\n",
              "      <td>0.0</td>\n",
              "      <td>0.0</td>\n",
              "      <td>0.0</td>\n",
              "      <td>0.0</td>\n",
              "      <td>0.0</td>\n",
              "      <td>0.0</td>\n",
              "      <td>0.0</td>\n",
              "      <td>0.000000</td>\n",
              "      <td>0.0</td>\n",
              "      <td>0.0</td>\n",
              "      <td>0.0</td>\n",
              "      <td>0.000000</td>\n",
              "      <td>0.0</td>\n",
              "      <td>0.0</td>\n",
              "      <td>0.00000</td>\n",
              "      <td>0.0</td>\n",
              "      <td>0.0</td>\n",
              "      <td>0.0</td>\n",
              "      <td>0.0</td>\n",
              "      <td>0.00000</td>\n",
              "      <td>0.0</td>\n",
              "      <td>0.0</td>\n",
              "      <td>0.000000</td>\n",
              "      <td>0.0</td>\n",
              "      <td>0.0</td>\n",
              "      <td>0.0</td>\n",
              "      <td>0.0</td>\n",
              "      <td>0.0</td>\n",
              "      <td>0.000000</td>\n",
              "      <td>0.0</td>\n",
              "      <td>0.0</td>\n",
              "      <td>0.0</td>\n",
              "      <td>0.0</td>\n",
              "      <td>0.0</td>\n",
              "      <td>0.0</td>\n",
              "      <td>0.0</td>\n",
              "      <td>0.0</td>\n",
              "      <td>0.0</td>\n",
              "      <td>0.0</td>\n",
              "    </tr>\n",
              "    <tr>\n",
              "      <th>4</th>\n",
              "      <td>0.0</td>\n",
              "      <td>0.0</td>\n",
              "      <td>0.0</td>\n",
              "      <td>0.0</td>\n",
              "      <td>0.0</td>\n",
              "      <td>0.0</td>\n",
              "      <td>0.0</td>\n",
              "      <td>0.0</td>\n",
              "      <td>0.0</td>\n",
              "      <td>0.0</td>\n",
              "      <td>0.0</td>\n",
              "      <td>0.0</td>\n",
              "      <td>0.0</td>\n",
              "      <td>0.0</td>\n",
              "      <td>0.0</td>\n",
              "      <td>0.0</td>\n",
              "      <td>0.0</td>\n",
              "      <td>0.0</td>\n",
              "      <td>0.0</td>\n",
              "      <td>0.000000</td>\n",
              "      <td>0.0</td>\n",
              "      <td>0.0</td>\n",
              "      <td>0.0</td>\n",
              "      <td>0.0</td>\n",
              "      <td>0.0</td>\n",
              "      <td>0.0</td>\n",
              "      <td>0.0</td>\n",
              "      <td>0.0</td>\n",
              "      <td>0.0</td>\n",
              "      <td>0.0</td>\n",
              "      <td>0.0</td>\n",
              "      <td>0.0</td>\n",
              "      <td>0.0</td>\n",
              "      <td>0.0</td>\n",
              "      <td>0.0</td>\n",
              "      <td>0.0</td>\n",
              "      <td>0.0</td>\n",
              "      <td>0.0</td>\n",
              "      <td>0.0</td>\n",
              "      <td>0.0</td>\n",
              "      <td>...</td>\n",
              "      <td>0.0</td>\n",
              "      <td>0.0</td>\n",
              "      <td>0.0</td>\n",
              "      <td>0.0</td>\n",
              "      <td>0.0</td>\n",
              "      <td>0.0</td>\n",
              "      <td>0.0</td>\n",
              "      <td>0.0</td>\n",
              "      <td>0.000000</td>\n",
              "      <td>0.0</td>\n",
              "      <td>0.0</td>\n",
              "      <td>0.0</td>\n",
              "      <td>0.127454</td>\n",
              "      <td>0.0</td>\n",
              "      <td>0.0</td>\n",
              "      <td>0.18212</td>\n",
              "      <td>0.0</td>\n",
              "      <td>0.0</td>\n",
              "      <td>0.0</td>\n",
              "      <td>0.0</td>\n",
              "      <td>0.00000</td>\n",
              "      <td>0.0</td>\n",
              "      <td>0.0</td>\n",
              "      <td>0.000000</td>\n",
              "      <td>0.0</td>\n",
              "      <td>0.0</td>\n",
              "      <td>0.0</td>\n",
              "      <td>0.0</td>\n",
              "      <td>0.0</td>\n",
              "      <td>0.000000</td>\n",
              "      <td>0.0</td>\n",
              "      <td>0.0</td>\n",
              "      <td>0.0</td>\n",
              "      <td>0.0</td>\n",
              "      <td>0.0</td>\n",
              "      <td>0.0</td>\n",
              "      <td>0.0</td>\n",
              "      <td>0.0</td>\n",
              "      <td>0.0</td>\n",
              "      <td>0.0</td>\n",
              "    </tr>\n",
              "  </tbody>\n",
              "</table>\n",
              "<p>5 rows × 4260 columns</p>\n",
              "</div>"
            ],
            "text/plain": [
              "   000  000 ad  000 printing   10  100  ...  zen art  zero  zone   zu  â¼r\n",
              "0  0.0     0.0           0.0  0.0  0.0  ...      0.0   0.0   0.0  0.0  0.0\n",
              "1  0.0     0.0           0.0  0.0  0.0  ...      0.0   0.0   0.0  0.0  0.0\n",
              "2  0.0     0.0           0.0  0.0  0.0  ...      0.0   0.0   0.0  0.0  0.0\n",
              "3  0.0     0.0           0.0  0.0  0.0  ...      0.0   0.0   0.0  0.0  0.0\n",
              "4  0.0     0.0           0.0  0.0  0.0  ...      0.0   0.0   0.0  0.0  0.0\n",
              "\n",
              "[5 rows x 4260 columns]"
            ]
          },
          "metadata": {
            "tags": []
          },
          "execution_count": 17
        }
      ]
    },
    {
      "cell_type": "code",
      "metadata": {
        "ExecuteTime": {
          "end_time": "2019-12-15T13:45:11.653239Z",
          "start_time": "2019-12-15T13:45:11.638280Z"
        },
        "id": "xJAgy8-0gROs"
      },
      "source": [
        "# Next, we will create a cosine similarity matrix between all items\n",
        "\n",
        "from sklearn.metrics.pairwise import linear_kernel\n",
        "cosine_similarities = linear_kernel(x, x)"
      ],
      "execution_count": null,
      "outputs": []
    },
    {
      "cell_type": "code",
      "metadata": {
        "ExecuteTime": {
          "end_time": "2019-12-15T13:45:12.646051Z",
          "start_time": "2019-12-15T13:45:12.226110Z"
        },
        "id": "oG2SJcgygROt"
      },
      "source": [
        "# We will create a dictionary indicating the most similar results for each item.\n",
        "\n",
        "results = {} # dictionary created to store the result in a dictionary format (ID : (Score,item_id))#\n",
        "df_merge2 = items_desc.reset_index().rename(columns={items_desc.index.name:'ISBN'})\n",
        "for idx, row in df_merge2.iterrows(): #iterates through all the rows   \n",
        "    \n",
        "# the below code 'similar_indice' stores similar ids based on cosine similarity. sorts them in ascending order. [:-5:-1] is then used so that the indices with most similarity are got. 0 means no similarity and 1 means perfect similarity#\n",
        "    similar_indices = cosine_similarities[idx].argsort()[:-5:-1] \n",
        "\n",
        "    #stores 5(including itself) most similar books, you can change it as per your needs\n",
        "    similar_items = [( df_merge2['ISBN'][i],cosine_similarities[idx][i]) for i in similar_indices]\n",
        "    results[row['ISBN']] = similar_items[1:]"
      ],
      "execution_count": null,
      "outputs": []
    },
    {
      "cell_type": "code",
      "metadata": {
        "ExecuteTime": {
          "end_time": "2019-12-15T13:45:13.222665Z",
          "start_time": "2019-12-15T13:45:13.217646Z"
        },
        "id": "JJa8ZQA5gROu"
      },
      "source": [
        "def recommend_item2item(ISBN, num, similarity_dict):\n",
        "    \"\"\"\n",
        "    This function will generate item2item recommendation build TFIDF similarity.\n",
        "   \n",
        "    Parameters\n",
        "        ----------\n",
        "        ISBN : str, a book serial number\n",
        "        num : int, number of recommendations\n",
        "        similarity_dict: dictionary with TFIDF similarty scores for each item.\n",
        "    \"\"\"\n",
        "\n",
        "    if (num == 0):\n",
        "        print(\"Unable to recommend any book as you have not chosen the number of book to be recommended\")           \n",
        "    else :        \n",
        "        print(\"Recommending \" + str(num) + \" books similar to \" + \"ISBN: \" + ISBN)\n",
        "        \n",
        "        \n",
        "    print(\"----------------------------------------------------------\")    \n",
        "    recs = similarity_dict[ISBN][:num]    \n",
        "    for rec in recs:        \n",
        "        print(\"You may also like to read: \" + 'ISBN: ' + str(rec[0]) +'\\t score:' + str(rec[1]) + '\\n')\n",
        "        print (items_desc_isbn.loc[(str(rec[0]))])\n",
        "        print('\\n')"
      ],
      "execution_count": null,
      "outputs": []
    },
    {
      "cell_type": "code",
      "metadata": {
        "ExecuteTime": {
          "end_time": "2019-12-15T13:45:13.849952Z",
          "start_time": "2019-12-15T13:45:13.841972Z"
        },
        "colab": {
          "base_uri": "https://localhost:8080/"
        },
        "id": "tDxnTFufgROu",
        "outputId": "6ec527a1-2ee5-4d44-c474-29565faef77d"
      },
      "source": [
        "recommend_item2item('304345350',2,results)"
      ],
      "execution_count": null,
      "outputs": [
        {
          "output_type": "stream",
          "text": [
            "Recommending 2 books similar to ISBN: 304345350\n",
            "----------------------------------------------------------\n",
            "You may also like to read: ISBN: 446342963\t score:0.6861919730782218\n",
            "\n",
            "title          Dreamer's Dictionary\n",
            "author                  Tom Corbett\n",
            "pub_year                       1986\n",
            "publisher              Warner Books\n",
            "categories                      NaN\n",
            "description    Dreamer's Dictionary\n",
            "Name: 446342963, dtype: object\n",
            "\n",
            "\n",
            "You may also like to read: ISBN: 067174559X\t score:0.633209619186057\n",
            "\n",
            "title          The Klingon Dictionary (Star Trek: All)\n",
            "author                                     Marc Okrand\n",
            "pub_year                                          1992\n",
            "publisher                                    Star Trek\n",
            "categories                                         NaN\n",
            "description    The Klingon Dictionary (Star Trek: All)\n",
            "Name: 067174559X, dtype: object\n",
            "\n",
            "\n"
          ],
          "name": "stdout"
        }
      ]
    },
    {
      "cell_type": "code",
      "metadata": {
        "id": "r4oUuo6OvoCF"
      },
      "source": [
        "def recommand_item2user (userID,similarity_dict):\n",
        "    \"\"\" \n",
        "    This function will utilize all previous interactions of given user metadata. \n",
        "    First, we will get all previous books read by the userID.\n",
        "    Next, we will filter all available books according to:\n",
        "    1) minimum and maximum pub_year read by the user\n",
        "    2) authors appeared in previous read books\n",
        "    3) available books must not include books already read by the user.\n",
        "    Next, for each remaining candidate, we will generate recommendations and extend these recommendation according to the dictionary. \n",
        "    The value of the dictionary is a tuple (similarity_score, original_item_to_recommend).\n",
        "\n",
        "    Last, we will print all recommendations.\n",
        "\n",
        "\n",
        "        Parameters\n",
        "        ----------\n",
        "        userID : integer\n",
        "            The user ID\n",
        "        similarity_dict : dictionary of similarity base one TFIDF.             \n",
        "        \n",
        "        \"\"\"\n",
        "    \n",
        "    # Get previous metadata relevant to given userID\n",
        "    past_isbn = ratings_expl_filtered[ratings_expl_filtered['userID'] == userID].index    \n",
        "    max_year = max(items_desc_isbn.loc[past_isbn]['pub_year'])\n",
        "    min_year = min(items_desc_isbn.loc[past_isbn]['pub_year'])    \n",
        "    past_authors = items_desc_isbn.loc[past_isbn]['author'].unique()\n",
        "    candidate_df = items_desc_isbn[~items_desc_isbn.index.isin(past_isbn)]   \n",
        "    \n",
        "    candidate_df = candidate_df[candidate_df['pub_year'].between(min_year,max_year,inclusive=True)]\n",
        "    candidate_df = candidate_df[candidate_df['author'].isin(past_authors)]\n",
        "    \n",
        "    # Generate recommendations for each item read by the user\n",
        "    recs = {}\n",
        "    for item_id in past_isbn:\n",
        "        item_recommend = results[item_id]\n",
        "        recs.update(dict(item_recommend)) \n",
        "    \n",
        "    # Use only recommendations which are considered as candidates\n",
        "    sorted_recs = sorted(recs.items(), key=lambda kv: kv[1],reverse=True)    \n",
        "    candidate_df = candidate_df.loc[candidate_df.index.isin(recs.keys())]            \n",
        "    recommend_items_remain = np.unique(candidate_df.index.values)    \n",
        "    \n",
        "    # Extend the recommendation build upon the similarity_dict \n",
        "    recommendation_scores = {}\n",
        "    for rec in recommend_items_remain:                        \n",
        "        for similar_item in similarity_dict[rec]:\n",
        "            rec_isbn = similar_item[0]\n",
        "            rec_score = similar_item[1]\n",
        "            if rec_isbn not in recommendation_scores:\n",
        "                recommendation_scores[rec_isbn] = (rec_score,rec)\n",
        "\n",
        "            elif (recommendation_scores[rec_isbn][0] >rec_score):\n",
        "                     recommendation_scores[rec_isbn] = (recommendation_scores[rec_isbn][0],rec)            \n",
        "     \n",
        "    print(\"Build upon previous interactions you may also like to read:\")\n",
        "    for rec in recommend_items_remain:\n",
        "        print('isbn: ' + rec)\n",
        "        print(items_desc_isbn.loc[rec])\n",
        "        print('\\n')\n",
        "    \n",
        "    print('**********************************************************')\n",
        "    print(\"We extend our recommendation by utilizing TFIDF\")\n",
        "    print(\"Therefore, you may also like to read: \")\n",
        "    print('**********************************************************')\n",
        "    \n",
        "    for key in recommendation_scores:        \n",
        "        if ((key not in past_isbn.values) and (key not in recommend_items_remain )):            \n",
        "            print('isbn: ' + key +'\\t score:' + str(recommendation_scores[key]))\n",
        "            print(items_desc_isbn.loc[key])\n",
        "            print('\\n')"
      ],
      "execution_count": null,
      "outputs": []
    },
    {
      "cell_type": "code",
      "metadata": {
        "ExecuteTime": {
          "end_time": "2019-12-15T13:45:16.737526Z",
          "start_time": "2019-12-15T13:45:16.728551Z"
        },
        "colab": {
          "base_uri": "https://localhost:8080/"
        },
        "id": "nXZzpu7SgROw",
        "outputId": "b901ac0a-eec5-4303-d762-2b6f0963ea4b"
      },
      "source": [
        "recommand_item2user(userID = 709,similarity_dict=results)\n"
      ],
      "execution_count": null,
      "outputs": [
        {
          "output_type": "stream",
          "text": [
            "Build upon previous interactions you may also like to read:\n",
            "isbn: 152162577\n",
            "title          Deep Wizardry: The Second Book in the Young Wi...\n",
            "author                                               Diane Duane\n",
            "pub_year                                                    2001\n",
            "publisher                                     Magic Carpet Books\n",
            "categories                                      Juvenile Fiction\n",
            "description    During a summer vacation at the beach, thirtee...\n",
            "Name: 152162577, dtype: object\n",
            "\n",
            "\n",
            "**********************************************************\n",
            "We extend our recommendation by utilizing TFIDF\n",
            "Therefore, you may also like to read: \n",
            "**********************************************************\n",
            "isbn: 345274563\t score:(0.468462103068382, '152162577')\n",
            "title          Her Majesty's Wizard\n",
            "author         Christopher Stasheff\n",
            "pub_year                       1996\n",
            "publisher             Del Rey Books\n",
            "categories                      NaN\n",
            "description    Her Majesty's Wizard\n",
            "Name: 345274563, dtype: object\n",
            "\n",
            "\n",
            "isbn: 425146421\t score:(0.3651418792594274, '152162577')\n",
            "title             The Wizard's Daughter\n",
            "author                 Barbara Michaels\n",
            "pub_year                           1995\n",
            "publisher      Berkley Publishing Group\n",
            "categories                          NaN\n",
            "description       The Wizard's Daughter\n",
            "Name: 425146421, dtype: object\n",
            "\n",
            "\n"
          ],
          "name": "stdout"
        }
      ]
    },
    {
      "cell_type": "code",
      "metadata": {
        "ExecuteTime": {
          "end_time": "2019-12-15T13:45:28.289290Z",
          "start_time": "2019-12-15T13:45:28.263359Z"
        },
        "colab": {
          "base_uri": "https://localhost:8080/",
          "height": 285
        },
        "id": "emzXnrCHgRO2",
        "outputId": "312b4fe1-afb0-48aa-acb7-fecb3cbb9fc0"
      },
      "source": [
        "items_desc['description_wo_stopword'] = items_desc['description'].apply(lambda description: [word for word in description.lower().split() if not word in stop_words])\n",
        "items_desc.head()"
      ],
      "execution_count": null,
      "outputs": [
        {
          "output_type": "execute_result",
          "data": {
            "text/html": [
              "<div>\n",
              "<style scoped>\n",
              "    .dataframe tbody tr th:only-of-type {\n",
              "        vertical-align: middle;\n",
              "    }\n",
              "\n",
              "    .dataframe tbody tr th {\n",
              "        vertical-align: top;\n",
              "    }\n",
              "\n",
              "    .dataframe thead th {\n",
              "        text-align: right;\n",
              "    }\n",
              "</style>\n",
              "<table border=\"1\" class=\"dataframe\">\n",
              "  <thead>\n",
              "    <tr style=\"text-align: right;\">\n",
              "      <th></th>\n",
              "      <th>ISBN</th>\n",
              "      <th>title</th>\n",
              "      <th>author</th>\n",
              "      <th>pub_year</th>\n",
              "      <th>publisher</th>\n",
              "      <th>categories</th>\n",
              "      <th>description</th>\n",
              "      <th>description_wo_stopword</th>\n",
              "    </tr>\n",
              "  </thead>\n",
              "  <tbody>\n",
              "    <tr>\n",
              "      <th>0</th>\n",
              "      <td>2005018</td>\n",
              "      <td>Clara Callan</td>\n",
              "      <td>Richard Bruce Wright</td>\n",
              "      <td>2001.0</td>\n",
              "      <td>HarperFlamingo Canada</td>\n",
              "      <td>Actresses</td>\n",
              "      <td>In a small town in Canada, Clara Callan reluct...</td>\n",
              "      <td>[small, town, canada,, clara, callan, reluctan...</td>\n",
              "    </tr>\n",
              "    <tr>\n",
              "      <th>1</th>\n",
              "      <td>374157065</td>\n",
              "      <td>Flu: The Story of the Great Influenza Pandemic...</td>\n",
              "      <td>Gina Bari Kolata</td>\n",
              "      <td>1999.0</td>\n",
              "      <td>Farrar Straus Giroux</td>\n",
              "      <td>Medical</td>\n",
              "      <td>Describes the great flu epidemic of 1918, an o...</td>\n",
              "      <td>[describes, great, flu, epidemic, 1918,, outbr...</td>\n",
              "    </tr>\n",
              "    <tr>\n",
              "      <th>2</th>\n",
              "      <td>399135782</td>\n",
              "      <td>The Kitchen God's Wife</td>\n",
              "      <td>Amy Tan</td>\n",
              "      <td>1991.0</td>\n",
              "      <td>Putnam Pub Group</td>\n",
              "      <td>Fiction</td>\n",
              "      <td>A Chinese immigrant who is convinced she is dy...</td>\n",
              "      <td>[chinese, immigrant, convinced, dying, threate...</td>\n",
              "    </tr>\n",
              "    <tr>\n",
              "      <th>3</th>\n",
              "      <td>440234743</td>\n",
              "      <td>The Testament</td>\n",
              "      <td>John Grisham</td>\n",
              "      <td>1999.0</td>\n",
              "      <td>Dell</td>\n",
              "      <td>Fiction</td>\n",
              "      <td>A suicidal billionaire, a burnt-out Washington...</td>\n",
              "      <td>[suicidal, billionaire,, burnt-out, washington...</td>\n",
              "    </tr>\n",
              "    <tr>\n",
              "      <th>4</th>\n",
              "      <td>452264464</td>\n",
              "      <td>Beloved (Plume Contemporary Fiction)</td>\n",
              "      <td>Toni Morrison</td>\n",
              "      <td>1994.0</td>\n",
              "      <td>Plume</td>\n",
              "      <td>Fiction</td>\n",
              "      <td>Staring unflinchingly into the abyss of slaver...</td>\n",
              "      <td>[staring, unflinchingly, abyss, slavery,, nove...</td>\n",
              "    </tr>\n",
              "  </tbody>\n",
              "</table>\n",
              "</div>"
            ],
            "text/plain": [
              "        ISBN  ...                            description_wo_stopword\n",
              "0    2005018  ...  [small, town, canada,, clara, callan, reluctan...\n",
              "1  374157065  ...  [describes, great, flu, epidemic, 1918,, outbr...\n",
              "2  399135782  ...  [chinese, immigrant, convinced, dying, threate...\n",
              "3  440234743  ...  [suicidal, billionaire,, burnt-out, washington...\n",
              "4  452264464  ...  [staring, unflinchingly, abyss, slavery,, nove...\n",
              "\n",
              "[5 rows x 8 columns]"
            ]
          },
          "metadata": {
            "tags": []
          },
          "execution_count": 32
        }
      ]
    },
    {
      "cell_type": "code",
      "metadata": {
        "ExecuteTime": {
          "end_time": "2019-12-15T13:57:46.572838Z",
          "start_time": "2019-12-15T13:57:46.568848Z"
        },
        "id": "IuhtuHVygRO3"
      },
      "source": [
        "text_list = items_desc['description_wo_stopword'].values.tolist()"
      ],
      "execution_count": null,
      "outputs": []
    },
    {
      "cell_type": "code",
      "metadata": {
        "ExecuteTime": {
          "end_time": "2019-12-15T14:02:34.428812Z",
          "start_time": "2019-12-15T14:02:34.262129Z"
        },
        "id": "hHNsbOqOgRO3"
      },
      "source": [
        "n = 20\n",
        "model = gensim.models.Word2Vec(text_list, size= n, window=4, min_count=1, workers=5)\n",
        "word_vectors = model.wv"
      ],
      "execution_count": null,
      "outputs": []
    },
    {
      "cell_type": "code",
      "metadata": {
        "ExecuteTime": {
          "end_time": "2019-12-15T14:02:35.123409Z",
          "start_time": "2019-12-15T14:02:35.119420Z"
        },
        "id": "fenqkuQNgRO3"
      },
      "source": [
        "def get_avg_embedding(title):\n",
        "    avg_vector = np.zeros(n)    \n",
        "    for word in title:\n",
        "        avg_vector += model.wv[word]\n",
        "    if len(title) == 0:\n",
        "        return avg_vector\n",
        "                \n",
        "    return avg_vector/len(title)"
      ],
      "execution_count": null,
      "outputs": []
    },
    {
      "cell_type": "code",
      "metadata": {
        "ExecuteTime": {
          "end_time": "2019-12-15T14:02:41.634417Z",
          "start_time": "2019-12-15T14:02:41.283293Z"
        },
        "id": "C9Jp4yo8gRO3"
      },
      "source": [
        "items_desc['avg_w2v_vector'] = items_desc['description_wo_stopword'].apply(lambda x: get_avg_embedding(x))"
      ],
      "execution_count": null,
      "outputs": []
    },
    {
      "cell_type": "code",
      "metadata": {
        "ExecuteTime": {
          "end_time": "2019-12-15T14:02:41.765588Z",
          "start_time": "2019-12-15T14:02:41.695686Z"
        },
        "id": "4pHQJmsNgRO4"
      },
      "source": [
        "embedding_df = pd.DataFrame(columns=[x for x in range(n)],index=items_desc.index)\n",
        "#embedding_df['avg_w2v_vector'] = df_merge['avg_w2v_vector']\n",
        "#embedding_df = df_merge['avg_w2v_vector']\n",
        "for i in range(n):\n",
        "    embedding_df[i] = items_desc['avg_w2v_vector'].apply(lambda vector: float(vector[i]))\n",
        "embedding_df = embedding_df.reset_index(drop=True)\n",
        "#len(embedding_df.index)"
      ],
      "execution_count": null,
      "outputs": []
    },
    {
      "cell_type": "code",
      "metadata": {
        "ExecuteTime": {
          "end_time": "2019-12-15T14:02:43.685546Z",
          "start_time": "2019-12-15T14:02:43.651637Z"
        },
        "id": "la8FBI31gRO4"
      },
      "source": [
        "cosine_w2v = linear_kernel(embedding_df,embedding_df)"
      ],
      "execution_count": null,
      "outputs": []
    },
    {
      "cell_type": "code",
      "metadata": {
        "colab": {
          "base_uri": "https://localhost:8080/",
          "height": 649
        },
        "id": "IISZ620VxkKy",
        "outputId": "247a4409-713b-4278-ec13-97a9864141fd"
      },
      "source": [
        "items_desc.reset_index().rename(columns={items_desc.index.name:'ISBN'})"
      ],
      "execution_count": null,
      "outputs": [
        {
          "output_type": "execute_result",
          "data": {
            "text/html": [
              "<div>\n",
              "<style scoped>\n",
              "    .dataframe tbody tr th:only-of-type {\n",
              "        vertical-align: middle;\n",
              "    }\n",
              "\n",
              "    .dataframe tbody tr th {\n",
              "        vertical-align: top;\n",
              "    }\n",
              "\n",
              "    .dataframe thead th {\n",
              "        text-align: right;\n",
              "    }\n",
              "</style>\n",
              "<table border=\"1\" class=\"dataframe\">\n",
              "  <thead>\n",
              "    <tr style=\"text-align: right;\">\n",
              "      <th></th>\n",
              "      <th>index</th>\n",
              "      <th>ISBN</th>\n",
              "      <th>title</th>\n",
              "      <th>author</th>\n",
              "      <th>pub_year</th>\n",
              "      <th>publisher</th>\n",
              "      <th>categories</th>\n",
              "      <th>description</th>\n",
              "      <th>description_wo_stopword</th>\n",
              "      <th>avg_w2v_vector</th>\n",
              "    </tr>\n",
              "  </thead>\n",
              "  <tbody>\n",
              "    <tr>\n",
              "      <th>0</th>\n",
              "      <td>0</td>\n",
              "      <td>2005018</td>\n",
              "      <td>Clara Callan</td>\n",
              "      <td>Richard Bruce Wright</td>\n",
              "      <td>2001.0</td>\n",
              "      <td>HarperFlamingo Canada</td>\n",
              "      <td>Actresses</td>\n",
              "      <td>In a small town in Canada, Clara Callan reluct...</td>\n",
              "      <td>[small, town, canada,, clara, callan, reluctan...</td>\n",
              "      <td>[0.014899194588480996, -0.0242781878001518, -0...</td>\n",
              "    </tr>\n",
              "    <tr>\n",
              "      <th>1</th>\n",
              "      <td>1</td>\n",
              "      <td>374157065</td>\n",
              "      <td>Flu: The Story of the Great Influenza Pandemic...</td>\n",
              "      <td>Gina Bari Kolata</td>\n",
              "      <td>1999.0</td>\n",
              "      <td>Farrar Straus Giroux</td>\n",
              "      <td>Medical</td>\n",
              "      <td>Describes the great flu epidemic of 1918, an o...</td>\n",
              "      <td>[describes, great, flu, epidemic, 1918,, outbr...</td>\n",
              "      <td>[0.006306570922871205, -0.01449040344662287, -...</td>\n",
              "    </tr>\n",
              "    <tr>\n",
              "      <th>2</th>\n",
              "      <td>2</td>\n",
              "      <td>399135782</td>\n",
              "      <td>The Kitchen God's Wife</td>\n",
              "      <td>Amy Tan</td>\n",
              "      <td>1991.0</td>\n",
              "      <td>Putnam Pub Group</td>\n",
              "      <td>Fiction</td>\n",
              "      <td>A Chinese immigrant who is convinced she is dy...</td>\n",
              "      <td>[chinese, immigrant, convinced, dying, threate...</td>\n",
              "      <td>[0.015643321693965442, -0.027666493034404185, ...</td>\n",
              "    </tr>\n",
              "    <tr>\n",
              "      <th>3</th>\n",
              "      <td>3</td>\n",
              "      <td>440234743</td>\n",
              "      <td>The Testament</td>\n",
              "      <td>John Grisham</td>\n",
              "      <td>1999.0</td>\n",
              "      <td>Dell</td>\n",
              "      <td>Fiction</td>\n",
              "      <td>A suicidal billionaire, a burnt-out Washington...</td>\n",
              "      <td>[suicidal, billionaire,, burnt-out, washington...</td>\n",
              "      <td>[0.01545987746794708, -0.023412744980305433, -...</td>\n",
              "    </tr>\n",
              "    <tr>\n",
              "      <th>4</th>\n",
              "      <td>4</td>\n",
              "      <td>452264464</td>\n",
              "      <td>Beloved (Plume Contemporary Fiction)</td>\n",
              "      <td>Toni Morrison</td>\n",
              "      <td>1994.0</td>\n",
              "      <td>Plume</td>\n",
              "      <td>Fiction</td>\n",
              "      <td>Staring unflinchingly into the abyss of slaver...</td>\n",
              "      <td>[staring, unflinchingly, abyss, slavery,, nove...</td>\n",
              "      <td>[0.018314931763365787, -0.025278012501695094, ...</td>\n",
              "    </tr>\n",
              "    <tr>\n",
              "      <th>...</th>\n",
              "      <td>...</td>\n",
              "      <td>...</td>\n",
              "      <td>...</td>\n",
              "      <td>...</td>\n",
              "      <td>...</td>\n",
              "      <td>...</td>\n",
              "      <td>...</td>\n",
              "      <td>...</td>\n",
              "      <td>...</td>\n",
              "      <td>...</td>\n",
              "    </tr>\n",
              "    <tr>\n",
              "      <th>15447</th>\n",
              "      <td>15447</td>\n",
              "      <td>3518376055</td>\n",
              "      <td>Der Spaziergang. ProsastÃ?ÃÂ¼cke und kleine ...</td>\n",
              "      <td>Robert Walser</td>\n",
              "      <td>2000.0</td>\n",
              "      <td>Suhrkamp</td>\n",
              "      <td>NaN</td>\n",
              "      <td>Der Spaziergang. ProsastÃ?ÃÂ¼cke und kleine ...</td>\n",
              "      <td>[der, spaziergang., prosastã?ãâ¼cke, und, kl...</td>\n",
              "      <td>[-0.0009729145870854458, -0.02031515204968552,...</td>\n",
              "    </tr>\n",
              "    <tr>\n",
              "      <th>15448</th>\n",
              "      <td>15448</td>\n",
              "      <td>3803112133</td>\n",
              "      <td>Cosi fan tutte. Eine Geschichte.</td>\n",
              "      <td>Alan Bennett</td>\n",
              "      <td>2003.0</td>\n",
              "      <td>Wagenbach</td>\n",
              "      <td>NaN</td>\n",
              "      <td>Cosi fan tutte. Eine Geschichte.</td>\n",
              "      <td>[cosi, fan, tutte., eine, geschichte.]</td>\n",
              "      <td>[-0.00460992818698287, -0.0072000323794782165,...</td>\n",
              "    </tr>\n",
              "    <tr>\n",
              "      <th>15449</th>\n",
              "      <td>15449</td>\n",
              "      <td>006019250X</td>\n",
              "      <td>The Illustrated Alchemist: A Fable About Follo...</td>\n",
              "      <td>Paulo Coelho</td>\n",
              "      <td>1998.0</td>\n",
              "      <td>HarperCollins Publishers</td>\n",
              "      <td>NaN</td>\n",
              "      <td>The Illustrated Alchemist: A Fable About Follo...</td>\n",
              "      <td>[illustrated, alchemist:, fable, following, dr...</td>\n",
              "      <td>[0.004929950833320618, -0.01172896116040647, 0...</td>\n",
              "    </tr>\n",
              "    <tr>\n",
              "      <th>15450</th>\n",
              "      <td>15450</td>\n",
              "      <td>786890088</td>\n",
              "      <td>The Angel Maker</td>\n",
              "      <td>Ridley Pearson</td>\n",
              "      <td>2001.0</td>\n",
              "      <td>Hyperion Press</td>\n",
              "      <td>NaN</td>\n",
              "      <td>The Angel Maker</td>\n",
              "      <td>[angel, maker]</td>\n",
              "      <td>[-0.002925564767792821, -0.006307770498096943,...</td>\n",
              "    </tr>\n",
              "    <tr>\n",
              "      <th>15451</th>\n",
              "      <td>15451</td>\n",
              "      <td>330353349</td>\n",
              "      <td>The Ice House (TV Tie-In Edition)</td>\n",
              "      <td>Minette Walters</td>\n",
              "      <td>1997.0</td>\n",
              "      <td>McClelland &amp;amp; Stewart</td>\n",
              "      <td>NaN</td>\n",
              "      <td>The Ice House (TV Tie-In Edition)</td>\n",
              "      <td>[ice, house, (tv, tie-in, edition)]</td>\n",
              "      <td>[0.009738253522664308, -0.021490984968841075, ...</td>\n",
              "    </tr>\n",
              "  </tbody>\n",
              "</table>\n",
              "<p>15452 rows × 10 columns</p>\n",
              "</div>"
            ],
            "text/plain": [
              "       index  ...                                     avg_w2v_vector\n",
              "0          0  ...  [0.014899194588480996, -0.0242781878001518, -0...\n",
              "1          1  ...  [0.006306570922871205, -0.01449040344662287, -...\n",
              "2          2  ...  [0.015643321693965442, -0.027666493034404185, ...\n",
              "3          3  ...  [0.01545987746794708, -0.023412744980305433, -...\n",
              "4          4  ...  [0.018314931763365787, -0.025278012501695094, ...\n",
              "...      ...  ...                                                ...\n",
              "15447  15447  ...  [-0.0009729145870854458, -0.02031515204968552,...\n",
              "15448  15448  ...  [-0.00460992818698287, -0.0072000323794782165,...\n",
              "15449  15449  ...  [0.004929950833320618, -0.01172896116040647, 0...\n",
              "15450  15450  ...  [-0.002925564767792821, -0.006307770498096943,...\n",
              "15451  15451  ...  [0.009738253522664308, -0.021490984968841075, ...\n",
              "\n",
              "[15452 rows x 10 columns]"
            ]
          },
          "metadata": {
            "tags": []
          },
          "execution_count": 49
        }
      ]
    },
    {
      "cell_type": "code",
      "metadata": {
        "ExecuteTime": {
          "end_time": "2019-12-15T14:12:21.887578Z",
          "start_time": "2019-12-15T14:12:21.229342Z"
        },
        "id": "FjmMIFq7gRO4"
      },
      "source": [
        "# We will create a dictionary indicating the most similar results for each item.\n",
        "\n",
        "results_w2v = {} # dictionary created to store the result in a dictionary format (ID : (Score,item_id))#\n",
        "df_w2v = items_desc.reset_index().rename(columns={items_desc.index.name:'ISBN'})\n",
        "\n",
        "for idx, row in df_w2v.iterrows(): #iterates through all the rows   \n",
        "    \n",
        "# the below code 'similar_indice' stores similar ids based on cosine similarity. sorts them in ascending order. [:-5:-1] is then used so that the indices with most similarity are got. 0 means no similarity and 1 means perfect similarity#\n",
        "    similar_indices = cosine_w2v[idx].argsort()[:-5:-1] \n",
        "    \n",
        "    #stores 5(including itself) most similar books, you can change it as per your needs\n",
        "    results_w2v[row['ISBN']] = [( df_w2v['ISBN'][i],cosine_w2v[idx][i]) for i in similar_indices if (df_w2v['ISBN'][i] != row['ISBN'])]\n",
        "    \n",
        "\n"
      ],
      "execution_count": null,
      "outputs": []
    },
    {
      "cell_type": "markdown",
      "metadata": {
        "id": "ujKOPok8yiLZ"
      },
      "source": [
        "## Item2Item Recommendations"
      ]
    },
    {
      "cell_type": "code",
      "metadata": {
        "colab": {
          "base_uri": "https://localhost:8080/"
        },
        "id": "9pNEkq5to-Hw",
        "outputId": "8b2832ff-e719-4d32-f3bd-8d6410f9444a"
      },
      "source": [
        "#Let's observe the recommendation generated by the TFIDF dictionary\n",
        "recommend_item2item('446342963',2,results)"
      ],
      "execution_count": null,
      "outputs": [
        {
          "output_type": "stream",
          "text": [
            "Recommending 2 books similar to ISBN: 446342963\n",
            "----------------------------------------------------------\n",
            "You may also like to read: ISBN: 966941411\t score:0.7274204946817329\n",
            "\n",
            "title                    Dreamer\n",
            "author         Richard L. Miller\n",
            "pub_year                    2000\n",
            "publisher        Two-Sixty Press\n",
            "categories                   NaN\n",
            "description              Dreamer\n",
            "Name: 966941411, dtype: object\n",
            "\n",
            "\n",
            "You may also like to read: ISBN: 304345350\t score:0.6861919730782218\n",
            "\n",
            "title          Dictionary of Superstitions\n",
            "author                     David Pickering\n",
            "pub_year                              1996\n",
            "publisher              Sterling Pub Co Inc\n",
            "categories                             NaN\n",
            "description    Dictionary of Superstitions\n",
            "Name: 304345350, dtype: object\n",
            "\n",
            "\n"
          ],
          "name": "stdout"
        }
      ]
    },
    {
      "cell_type": "code",
      "metadata": {
        "colab": {
          "base_uri": "https://localhost:8080/"
        },
        "id": "bjg9PJZxx98e",
        "outputId": "505cabfb-5202-4cfc-b9b4-4da4340bb1de"
      },
      "source": [
        "# Now, let's observe the recommendation generated by the W2V dictionary\n",
        "recommend_item2item('446342963',2,results_w2v)"
      ],
      "execution_count": null,
      "outputs": [
        {
          "output_type": "stream",
          "text": [
            "Recommending 2 books similar to ISBN: 446342963\n",
            "----------------------------------------------------------\n",
            "You may also like to read: ISBN: 449221431\t score:0.0020737408490067084\n",
            "\n",
            "title                  The Novel\n",
            "author         James A. Michener\n",
            "pub_year                    1992\n",
            "publisher          Fawcett Books\n",
            "categories                   NaN\n",
            "description            The Novel\n",
            "Name: 449221431, dtype: object\n",
            "\n",
            "\n",
            "You may also like to read: ISBN: 743406184\t score:0.002072874395349821\n",
            "\n",
            "title          If Only It Were True\n",
            "author                    Marc Levy\n",
            "pub_year                       2001\n",
            "publisher                    Pocket\n",
            "categories                      NaN\n",
            "description    If Only It Were True\n",
            "Name: 743406184, dtype: object\n",
            "\n",
            "\n"
          ],
          "name": "stdout"
        }
      ]
    },
    {
      "cell_type": "markdown",
      "metadata": {
        "id": "ILxzXHwSy_oD"
      },
      "source": [
        "Notably, the similarity scores are lower in the W2V results compare to the TFIDF? \n",
        "\n",
        "Is it necessarily indicate worse recommendations? \n",
        "\n",
        "Not at all. We need to decide on performance metrics and compare the results according to them.\n"
      ]
    },
    {
      "cell_type": "markdown",
      "metadata": {
        "id": "nTNfmaJtQhOQ"
      },
      "source": [
        "#Code Task\n",
        "Some of the data is not necessarily as clean as possible. As we know: garbage in = garbage out.\n",
        "Write at least three additional rules that will assist in cleaning the data.\n",
        "\n",
        "For example, fix this issue:  \"Der Spaziergang. ProsastÃ?ÃÂ¼cke und kleine ...\""
      ]
    },
    {
      "cell_type": "code",
      "metadata": {
        "id": "x6kvqicyz5vH"
      },
      "source": [
        ""
      ],
      "execution_count": null,
      "outputs": []
    }
  ]
}