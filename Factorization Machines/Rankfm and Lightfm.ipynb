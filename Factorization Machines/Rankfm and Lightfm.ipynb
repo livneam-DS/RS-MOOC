{
  "nbformat": 4,
  "nbformat_minor": 0,
  "metadata": {
    "colab": {
      "name": "Factorization Machines2.ipynb",
      "provenance": [],
      "collapsed_sections": [
        "NBwCFiZcfoLE",
        "i1nUOmV0e2D0",
        "byvQ5TkFhRGX",
        "llFXJgS0A3d0",
        "hVhIQAeqIhNR"
      ],
      "toc_visible": true
    },
    "kernelspec": {
      "name": "python3",
      "display_name": "Python 3"
    },
    "accelerator": "GPU"
  },
  "cells": [
    {
      "cell_type": "markdown",
      "metadata": {
        "id": "kMF8ARVc7hcp"
      },
      "source": [
        "In this notebook we will use rankfm. \n",
        "First, we will install rankfm.\n",
        "Second, we will download the instacart online grocery shopping dataset from kaggle.\n",
        "Third, we will create a factorization machine model build upon rankfm and compare its results to a baseline."
      ]
    },
    {
      "cell_type": "markdown",
      "metadata": {
        "id": "-UnLSSWTcgNO"
      },
      "source": [
        "# Installation and imports"
      ]
    },
    {
      "cell_type": "markdown",
      "metadata": {
        "id": "xLr4zu4KcFDD"
      },
      "source": [
        "Install RankFM"
      ]
    },
    {
      "cell_type": "code",
      "metadata": {
        "id": "4cQqrQoD79Vw",
        "colab": {
          "base_uri": "https://localhost:8080/"
        },
        "outputId": "80187974-e1d2-4d35-fcb6-7f502cf1e9f7"
      },
      "source": [
        "!pip install rankfm==0.2.5"
      ],
      "execution_count": 54,
      "outputs": [
        {
          "output_type": "stream",
          "text": [
            "Requirement already satisfied: rankfm==0.2.5 in /usr/local/lib/python3.7/dist-packages (0.2.5)\n",
            "Requirement already satisfied: pandas>=0.24 in /usr/local/lib/python3.7/dist-packages (from rankfm==0.2.5) (1.1.5)\n",
            "Requirement already satisfied: numpy>=1.15 in /usr/local/lib/python3.7/dist-packages (from rankfm==0.2.5) (1.19.5)\n",
            "Requirement already satisfied: python-dateutil>=2.7.3 in /usr/local/lib/python3.7/dist-packages (from pandas>=0.24->rankfm==0.2.5) (2.8.1)\n",
            "Requirement already satisfied: pytz>=2017.2 in /usr/local/lib/python3.7/dist-packages (from pandas>=0.24->rankfm==0.2.5) (2018.9)\n",
            "Requirement already satisfied: six>=1.5 in /usr/local/lib/python3.7/dist-packages (from python-dateutil>=2.7.3->pandas>=0.24->rankfm==0.2.5) (1.15.0)\n"
          ],
          "name": "stdout"
        }
      ]
    },
    {
      "cell_type": "code",
      "metadata": {
        "id": "ORdBCFCLcjmj"
      },
      "source": [
        "import os\n",
        "import numpy as np\n",
        "import pandas as pd\n",
        "from rankfm.rankfm import RankFM"
      ],
      "execution_count": 55,
      "outputs": []
    },
    {
      "cell_type": "markdown",
      "metadata": {
        "id": "LxrR9XZ8cXsq"
      },
      "source": [
        "# Get Dataset"
      ]
    },
    {
      "cell_type": "code",
      "metadata": {
        "id": "An1kRWOC0atx"
      },
      "source": [
        "! pip install -q kaggle"
      ],
      "execution_count": 3,
      "outputs": []
    },
    {
      "cell_type": "code",
      "metadata": {
        "id": "7DZRdAXM1RPl"
      },
      "source": [
        "from google.colab import files\n",
        "\n",
        "files.upload()"
      ],
      "execution_count": null,
      "outputs": []
    },
    {
      "cell_type": "code",
      "metadata": {
        "id": "YwsgDR8g1SmX"
      },
      "source": [
        "! mkdir ~/kaggle\n",
        "\n",
        "! cp kaggle.json ~/.kaggle/"
      ],
      "execution_count": 12,
      "outputs": []
    },
    {
      "cell_type": "code",
      "metadata": {
        "id": "Wkv8klt91TxY"
      },
      "source": [
        " ! chmod 600 ~/.kaggle/kaggle.json"
      ],
      "execution_count": 13,
      "outputs": []
    },
    {
      "cell_type": "code",
      "metadata": {
        "colab": {
          "base_uri": "https://localhost:8080/"
        },
        "id": "HDzzsrCt17n5",
        "outputId": "75766545-8944-4319-fc38-5cf04cbaccc8"
      },
      "source": [
        "!kaggle datasets download -d psparks/instacart-market-basket-analysis"
      ],
      "execution_count": 16,
      "outputs": [
        {
          "output_type": "stream",
          "text": [
            "Downloading instacart-market-basket-analysis.zip to /content\n",
            " 99% 196M/197M [00:02<00:00, 116MB/s] \n",
            "100% 197M/197M [00:02<00:00, 95.4MB/s]\n"
          ],
          "name": "stdout"
        }
      ]
    },
    {
      "cell_type": "code",
      "metadata": {
        "colab": {
          "base_uri": "https://localhost:8080/"
        },
        "id": "M74wyCDM2B0L",
        "outputId": "1eef5132-f9cb-48e1-8618-287ab369fddd"
      },
      "source": [
        "!unzip /content/instacart-market-basket-analysis.zip -d ./instacart_online_grocery_shopping\n"
      ],
      "execution_count": 20,
      "outputs": [
        {
          "output_type": "stream",
          "text": [
            "Archive:  /content/instacart-market-basket-analysis.zip\n",
            "  inflating: ./instacart_online_grocery_shopping/aisles.csv  \n",
            "  inflating: ./instacart_online_grocery_shopping/departments.csv  \n",
            "  inflating: ./instacart_online_grocery_shopping/order_products__prior.csv  \n",
            "  inflating: ./instacart_online_grocery_shopping/order_products__train.csv  \n",
            "  inflating: ./instacart_online_grocery_shopping/orders.csv  \n",
            "  inflating: ./instacart_online_grocery_shopping/products.csv  \n"
          ],
          "name": "stdout"
        }
      ]
    },
    {
      "cell_type": "code",
      "metadata": {
        "id": "RNangbFKgCvN"
      },
      "source": [
        "data_path = '/content/instacart_online_grocery_shopping'"
      ],
      "execution_count": 21,
      "outputs": []
    },
    {
      "cell_type": "markdown",
      "metadata": {
        "id": "NBwCFiZcfoLE"
      },
      "source": [
        "# Create Merged Interaction dataset"
      ]
    },
    {
      "cell_type": "code",
      "metadata": {
        "id": "glM01CAufr9j"
      },
      "source": [
        "orders_cols = ['order_id', 'user_id']\n",
        "order_products_cols = ['order_id', 'product_id']\n",
        "interaction_cols = ['user_id', 'product_id', 'order_id']\n",
        "\n",
        "#Load Products data\n",
        "products_dtypes = {\n",
        "    'product_id': np.int32, \n",
        "    'product_name': str, \n",
        "    'aisle_id': np.uint8, \n",
        "    'department_id': np.uint8\n",
        "}\n",
        "\n",
        "products_df = pd.read_csv(os.path.join(data_path, 'products.csv'), dtype=products_dtypes)\n",
        "\n",
        "#Load orders data\n",
        "orders_dtypes = {\n",
        "    'order_id': np.int32, \n",
        "    'user_id': np.int32, \n",
        "    'eval_set': str, \n",
        "    'order_number': np.uint8, \n",
        "    'order_dow': np.uint8, \n",
        "    'order_hour_of_day': np.uint8, \n",
        "    'days_since_prior': np.float32\n",
        "}\n",
        "\n",
        "orders_df = pd.read_csv(os.path.join(data_path, 'orders.csv'), dtype=orders_dtypes)\n",
        "\n",
        "#load orders products data\n",
        "order_product_dtypes = {\n",
        "    'order_id': np.int32, \n",
        "    'product_id': np.int32, \n",
        "    'add_to_cart_order': np.uint8,\n",
        "    'reordered': np.uint8\n",
        "}\n",
        "\n",
        "order_products_df = pd.read_csv(os.path.join(data_path, 'order_products__prior.csv'), dtype=order_product_dtypes)\n",
        "\n",
        "\n",
        "interactions = pd.merge(orders_df[orders_cols], order_products_df[order_products_cols], on='order_id', how='inner')\n",
        "interactions = interactions[interaction_cols]\n",
        "\n"
      ],
      "execution_count": 22,
      "outputs": []
    },
    {
      "cell_type": "code",
      "metadata": {
        "id": "G4tTl7T9gybF",
        "colab": {
          "base_uri": "https://localhost:8080/",
          "height": 380
        },
        "outputId": "9eb8e537-50f4-413a-b594-9f55adbfee12"
      },
      "source": [
        "interactions.info()\n",
        "interactions.head()"
      ],
      "execution_count": 23,
      "outputs": [
        {
          "output_type": "stream",
          "text": [
            "<class 'pandas.core.frame.DataFrame'>\n",
            "Int64Index: 32434489 entries, 0 to 32434488\n",
            "Data columns (total 3 columns):\n",
            " #   Column      Dtype\n",
            "---  ------      -----\n",
            " 0   user_id     int32\n",
            " 1   product_id  int32\n",
            " 2   order_id    int32\n",
            "dtypes: int32(3)\n",
            "memory usage: 618.6 MB\n"
          ],
          "name": "stdout"
        },
        {
          "output_type": "execute_result",
          "data": {
            "text/html": [
              "<div>\n",
              "<style scoped>\n",
              "    .dataframe tbody tr th:only-of-type {\n",
              "        vertical-align: middle;\n",
              "    }\n",
              "\n",
              "    .dataframe tbody tr th {\n",
              "        vertical-align: top;\n",
              "    }\n",
              "\n",
              "    .dataframe thead th {\n",
              "        text-align: right;\n",
              "    }\n",
              "</style>\n",
              "<table border=\"1\" class=\"dataframe\">\n",
              "  <thead>\n",
              "    <tr style=\"text-align: right;\">\n",
              "      <th></th>\n",
              "      <th>user_id</th>\n",
              "      <th>product_id</th>\n",
              "      <th>order_id</th>\n",
              "    </tr>\n",
              "  </thead>\n",
              "  <tbody>\n",
              "    <tr>\n",
              "      <th>0</th>\n",
              "      <td>1</td>\n",
              "      <td>196</td>\n",
              "      <td>2539329</td>\n",
              "    </tr>\n",
              "    <tr>\n",
              "      <th>1</th>\n",
              "      <td>1</td>\n",
              "      <td>14084</td>\n",
              "      <td>2539329</td>\n",
              "    </tr>\n",
              "    <tr>\n",
              "      <th>2</th>\n",
              "      <td>1</td>\n",
              "      <td>12427</td>\n",
              "      <td>2539329</td>\n",
              "    </tr>\n",
              "    <tr>\n",
              "      <th>3</th>\n",
              "      <td>1</td>\n",
              "      <td>26088</td>\n",
              "      <td>2539329</td>\n",
              "    </tr>\n",
              "    <tr>\n",
              "      <th>4</th>\n",
              "      <td>1</td>\n",
              "      <td>26405</td>\n",
              "      <td>2539329</td>\n",
              "    </tr>\n",
              "  </tbody>\n",
              "</table>\n",
              "</div>"
            ],
            "text/plain": [
              "   user_id  product_id  order_id\n",
              "0        1         196   2539329\n",
              "1        1       14084   2539329\n",
              "2        1       12427   2539329\n",
              "3        1       26088   2539329\n",
              "4        1       26405   2539329"
            ]
          },
          "metadata": {
            "tags": []
          },
          "execution_count": 23
        }
      ]
    },
    {
      "cell_type": "code",
      "metadata": {
        "id": "39fTaDxigiG-"
      },
      "source": [
        "item_features = pd.get_dummies(products_df[['product_id', 'aisle_id']], columns=['aisle_id'])\n"
      ],
      "execution_count": 24,
      "outputs": []
    },
    {
      "cell_type": "markdown",
      "metadata": {
        "id": "ytTAOFJNjqll"
      },
      "source": [
        "## Sample data - inorder to demonstrate the use of rankfm we will sample 20K unique users from the dataset (approximately half of the users)"
      ]
    },
    {
      "cell_type": "code",
      "metadata": {
        "id": "mOSL8EuYjscd",
        "colab": {
          "base_uri": "https://localhost:8080/"
        },
        "outputId": "efadae42-8692-4b75-d5b2-ebe02256ee45"
      },
      "source": [
        "all_users = interactions.user_id.unique()\n",
        "all_items = interactions.product_id.unique()\n",
        "\n",
        "np.random.seed(42)\n",
        "s_users = np.random.choice(all_users, size=20000, replace=False)\n",
        "s_interactions = interactions[interactions.user_id.isin(s_users)].copy()\n",
        "print(s_interactions.shape)"
      ],
      "execution_count": 69,
      "outputs": [
        {
          "output_type": "stream",
          "text": [
            "(3191742, 3)\n"
          ],
          "name": "stdout"
        }
      ]
    },
    {
      "cell_type": "code",
      "metadata": {
        "id": "rVQ9OorKj23X",
        "colab": {
          "base_uri": "https://localhost:8080/"
        },
        "outputId": "961e9bb9-d6c2-459f-fca6-acfc57b00293"
      },
      "source": [
        "s_items = s_interactions.product_id.unique()\n",
        "print(len(s_items))"
      ],
      "execution_count": 70,
      "outputs": [
        {
          "output_type": "stream",
          "text": [
            "41223\n"
          ],
          "name": "stdout"
        }
      ]
    },
    {
      "cell_type": "markdown",
      "metadata": {
        "id": "BcJuAUTx8py4"
      },
      "source": [
        "In total, we are considering ~ 3.2M records, with around 31K unique items.\n",
        "Let's look at the properties of this sample by looking at the number of unique users, items, and the sparsity level."
      ]
    },
    {
      "cell_type": "code",
      "metadata": {
        "id": "MXswzjhQj8Nt",
        "colab": {
          "base_uri": "https://localhost:8080/"
        },
        "outputId": "68d7a647-b84e-4d21-980c-2e698ce2160b"
      },
      "source": [
        "n_s_users = len(s_users)\n",
        "n_s_items = len(s_items)\n",
        "\n",
        "print(\"sample users:\", n_s_users)\n",
        "print(\"sample items:\", n_s_items)\n",
        "print(\"sample interactions:\", s_interactions.shape)\n",
        "\n",
        "\n",
        "s_sparsity = 1 - (s_interactions[['user_id', 'product_id']].drop_duplicates().shape[0] / (n_s_users * n_s_items))\n",
        "print(\"sample interaction data sparsity: {}\".format(round(100 * s_sparsity, 2)))"
      ],
      "execution_count": 71,
      "outputs": [
        {
          "output_type": "stream",
          "text": [
            "sample users: 20000\n",
            "sample items: 41223\n",
            "sample interactions: (3191742, 3)\n",
            "sample interaction data sparsity: 99.84\n"
          ],
          "name": "stdout"
        }
      ]
    },
    {
      "cell_type": "code",
      "metadata": {
        "id": "-wYODA--kEWv",
        "colab": {
          "base_uri": "https://localhost:8080/",
          "height": 198
        },
        "outputId": "ede42600-16fc-44a4-9ff0-3ffecc0eb525"
      },
      "source": [
        "# random shuffle\n",
        "shuffle_index = np.arange(len(s_interactions))\n",
        "np.random.shuffle(shuffle_index)\n",
        "\n",
        "s_interactions = s_interactions.iloc[shuffle_index]\n",
        "s_interactions['random'] = np.random.random(size=len(s_interactions))\n",
        "s_interactions.head()"
      ],
      "execution_count": 72,
      "outputs": [
        {
          "output_type": "execute_result",
          "data": {
            "text/html": [
              "<div>\n",
              "<style scoped>\n",
              "    .dataframe tbody tr th:only-of-type {\n",
              "        vertical-align: middle;\n",
              "    }\n",
              "\n",
              "    .dataframe tbody tr th {\n",
              "        vertical-align: top;\n",
              "    }\n",
              "\n",
              "    .dataframe thead th {\n",
              "        text-align: right;\n",
              "    }\n",
              "</style>\n",
              "<table border=\"1\" class=\"dataframe\">\n",
              "  <thead>\n",
              "    <tr style=\"text-align: right;\">\n",
              "      <th></th>\n",
              "      <th>user_id</th>\n",
              "      <th>product_id</th>\n",
              "      <th>order_id</th>\n",
              "      <th>random</th>\n",
              "    </tr>\n",
              "  </thead>\n",
              "  <tbody>\n",
              "    <tr>\n",
              "      <th>32014209</th>\n",
              "      <td>203449</td>\n",
              "      <td>39947</td>\n",
              "      <td>2566299</td>\n",
              "      <td>0.248523</td>\n",
              "    </tr>\n",
              "    <tr>\n",
              "      <th>6113441</th>\n",
              "      <td>38914</td>\n",
              "      <td>30805</td>\n",
              "      <td>2907435</td>\n",
              "      <td>0.853104</td>\n",
              "    </tr>\n",
              "    <tr>\n",
              "      <th>22867106</th>\n",
              "      <td>145227</td>\n",
              "      <td>29101</td>\n",
              "      <td>1425935</td>\n",
              "      <td>0.953094</td>\n",
              "    </tr>\n",
              "    <tr>\n",
              "      <th>29185370</th>\n",
              "      <td>185383</td>\n",
              "      <td>30756</td>\n",
              "      <td>3222520</td>\n",
              "      <td>0.366231</td>\n",
              "    </tr>\n",
              "    <tr>\n",
              "      <th>5552326</th>\n",
              "      <td>35294</td>\n",
              "      <td>12381</td>\n",
              "      <td>2810344</td>\n",
              "      <td>0.706596</td>\n",
              "    </tr>\n",
              "  </tbody>\n",
              "</table>\n",
              "</div>"
            ],
            "text/plain": [
              "          user_id  product_id  order_id    random\n",
              "32014209   203449       39947   2566299  0.248523\n",
              "6113441     38914       30805   2907435  0.853104\n",
              "22867106   145227       29101   1425935  0.953094\n",
              "29185370   185383       30756   3222520  0.366231\n",
              "5552326     35294       12381   2810344  0.706596"
            ]
          },
          "metadata": {
            "tags": []
          },
          "execution_count": 72
        }
      ]
    },
    {
      "cell_type": "markdown",
      "metadata": {
        "id": "mBbU6qIBgYvk"
      },
      "source": [
        "Create train/test files"
      ]
    },
    {
      "cell_type": "code",
      "metadata": {
        "id": "SsZuZZmF9kyj"
      },
      "source": [
        "# Split the data into train and test (without using sklearn)\n",
        "test_pct = 0.25\n",
        "train_mask = s_interactions['random'] <  (1 - test_pct)\n",
        "test_mask = s_interactions['random'] >= (1 - test_pct)\n",
        "          \n",
        "interactions_total = s_interactions[['user_id', 'product_id']]\n",
        "interactions_total = interactions_total.iloc[shuffle_index]\n",
        "\n",
        "interactions_train = s_interactions[train_mask].groupby(['user_id', 'product_id']).size().to_frame('orders').reset_index()\n",
        "interactions_test = s_interactions[test_mask].groupby(['user_id', 'product_id']).size().to_frame('orders').reset_index()"
      ],
      "execution_count": 73,
      "outputs": []
    },
    {
      "cell_type": "code",
      "metadata": {
        "colab": {
          "base_uri": "https://localhost:8080/",
          "height": 407
        },
        "id": "GkYojBFa9nvw",
        "outputId": "7e0dad02-7902-4fa8-c1bf-042f5d76979c"
      },
      "source": [
        "interactions_test"
      ],
      "execution_count": 74,
      "outputs": [
        {
          "output_type": "execute_result",
          "data": {
            "text/html": [
              "<div>\n",
              "<style scoped>\n",
              "    .dataframe tbody tr th:only-of-type {\n",
              "        vertical-align: middle;\n",
              "    }\n",
              "\n",
              "    .dataframe tbody tr th {\n",
              "        vertical-align: top;\n",
              "    }\n",
              "\n",
              "    .dataframe thead th {\n",
              "        text-align: right;\n",
              "    }\n",
              "</style>\n",
              "<table border=\"1\" class=\"dataframe\">\n",
              "  <thead>\n",
              "    <tr style=\"text-align: right;\">\n",
              "      <th></th>\n",
              "      <th>user_id</th>\n",
              "      <th>product_id</th>\n",
              "      <th>orders</th>\n",
              "    </tr>\n",
              "  </thead>\n",
              "  <tbody>\n",
              "    <tr>\n",
              "      <th>0</th>\n",
              "      <td>5</td>\n",
              "      <td>6808</td>\n",
              "      <td>1</td>\n",
              "    </tr>\n",
              "    <tr>\n",
              "      <th>1</th>\n",
              "      <td>5</td>\n",
              "      <td>15349</td>\n",
              "      <td>1</td>\n",
              "    </tr>\n",
              "    <tr>\n",
              "      <th>2</th>\n",
              "      <td>5</td>\n",
              "      <td>21413</td>\n",
              "      <td>1</td>\n",
              "    </tr>\n",
              "    <tr>\n",
              "      <th>3</th>\n",
              "      <td>5</td>\n",
              "      <td>24231</td>\n",
              "      <td>1</td>\n",
              "    </tr>\n",
              "    <tr>\n",
              "      <th>4</th>\n",
              "      <td>5</td>\n",
              "      <td>24535</td>\n",
              "      <td>1</td>\n",
              "    </tr>\n",
              "    <tr>\n",
              "      <th>...</th>\n",
              "      <td>...</td>\n",
              "      <td>...</td>\n",
              "      <td>...</td>\n",
              "    </tr>\n",
              "    <tr>\n",
              "      <th>517913</th>\n",
              "      <td>206198</td>\n",
              "      <td>31647</td>\n",
              "      <td>1</td>\n",
              "    </tr>\n",
              "    <tr>\n",
              "      <th>517914</th>\n",
              "      <td>206198</td>\n",
              "      <td>32238</td>\n",
              "      <td>1</td>\n",
              "    </tr>\n",
              "    <tr>\n",
              "      <th>517915</th>\n",
              "      <td>206198</td>\n",
              "      <td>34358</td>\n",
              "      <td>1</td>\n",
              "    </tr>\n",
              "    <tr>\n",
              "      <th>517916</th>\n",
              "      <td>206198</td>\n",
              "      <td>46667</td>\n",
              "      <td>1</td>\n",
              "    </tr>\n",
              "    <tr>\n",
              "      <th>517917</th>\n",
              "      <td>206198</td>\n",
              "      <td>48634</td>\n",
              "      <td>2</td>\n",
              "    </tr>\n",
              "  </tbody>\n",
              "</table>\n",
              "<p>517918 rows × 3 columns</p>\n",
              "</div>"
            ],
            "text/plain": [
              "        user_id  product_id  orders\n",
              "0             5        6808       1\n",
              "1             5       15349       1\n",
              "2             5       21413       1\n",
              "3             5       24231       1\n",
              "4             5       24535       1\n",
              "...         ...         ...     ...\n",
              "517913   206198       31647       1\n",
              "517914   206198       32238       1\n",
              "517915   206198       34358       1\n",
              "517916   206198       46667       1\n",
              "517917   206198       48634       2\n",
              "\n",
              "[517918 rows x 3 columns]"
            ]
          },
          "metadata": {
            "tags": []
          },
          "execution_count": 74
        }
      ]
    },
    {
      "cell_type": "code",
      "metadata": {
        "id": "DGJBqoIagYW7",
        "colab": {
          "base_uri": "https://localhost:8080/"
        },
        "outputId": "a67a85e7-885f-4380-ddbd-792a79a1f3f5"
      },
      "source": [
        "# sample_weight_train = interactions_train['orders']\n",
        "# sample_weight_test = interactions_test['orders']\n",
        "sample_weight_train = np.log2(interactions_train['orders'] + 1)\n",
        "sample_weight_test = np.log2(interactions_test['orders'] + 1)\n",
        "\n",
        "interactions_train = interactions_train[['user_id', 'product_id']]\n",
        "interactions_test = interactions_test[['user_id', 'product_id']]\n",
        "\n",
        "train_users = np.sort(interactions_train.user_id.unique())\n",
        "test_users = np.sort(interactions_test.user_id.unique())\n",
        "cold_start_users = set(test_users) - set(train_users)\n",
        "\n",
        "train_items = np.sort(interactions_train.product_id.unique())\n",
        "test_items = np.sort(interactions_test.product_id.unique())\n",
        "cold_start_items = set(test_items) - set(train_items)\n",
        "\n",
        "item_features_train = item_features[item_features.product_id.isin(train_items)]\n",
        "item_features_test = item_features[item_features.product_id.isin(test_items)]\n",
        "\n",
        "print(\"total shape: {}\".format(interactions_total.shape))\n",
        "print(\"train shape: {}\".format(interactions_train.shape))\n",
        "print(\"test shape: {}\".format(interactions_test.shape))\n",
        "\n",
        "print(\"\\ntrain weights shape: {}\".format(sample_weight_train.shape))\n",
        "print(\"test weights shape: {}\".format(sample_weight_test.shape))\n",
        "\n",
        "print(\"\\ntrain users: {}\".format(len(train_users)))\n",
        "print(\"test users: {}\".format(len(test_users)))\n",
        "print(\"cold-start users: {}\".format(cold_start_users))\n",
        "\n",
        "print(\"\\ntrain items: {}\".format(len(train_items)))\n",
        "print(\"test items: {}\".format(len(test_items)))\n",
        "print(\"number of cold-start items: {}\".format(len(cold_start_items)))\n",
        "\n",
        "print(\"\\ntrain item features: {}\".format(item_features_train.shape))\n",
        "print(\"test item features: {}\".format(item_features_test.shape))"
      ],
      "execution_count": 75,
      "outputs": [
        {
          "output_type": "stream",
          "text": [
            "total shape: (3191742, 2)\n",
            "train shape: (1093314, 2)\n",
            "test shape: (517918, 2)\n",
            "\n",
            "train weights shape: (1093314,)\n",
            "test weights shape: (517918,)\n",
            "\n",
            "train users: 20000\n",
            "test users: 19888\n",
            "cold-start users: set()\n",
            "\n",
            "train items: 39474\n",
            "test items: 31594\n",
            "number of cold-start items: 1749\n",
            "\n",
            "train item features: (39474, 135)\n",
            "test item features: (31594, 135)\n"
          ],
          "name": "stdout"
        }
      ]
    },
    {
      "cell_type": "markdown",
      "metadata": {
        "id": "i1nUOmV0e2D0"
      },
      "source": [
        "# Train the RankFM model"
      ]
    },
    {
      "cell_type": "code",
      "metadata": {
        "id": "pe67RHsGe3Qd"
      },
      "source": [
        "model = RankFM(factors=64, loss='warp', max_samples=50, alpha=0.01, learning_rate=0.01, learning_schedule='invscaling')"
      ],
      "execution_count": 76,
      "outputs": []
    },
    {
      "cell_type": "code",
      "metadata": {
        "id": "jW_zURwDkVH9",
        "colab": {
          "base_uri": "https://localhost:8080/"
        },
        "outputId": "4951ba80-a447-4b69-f486-4048c6c18495"
      },
      "source": [
        "%%time\n",
        "model.fit(interactions_train, sample_weight=sample_weight_train, epochs=30, verbose=True)"
      ],
      "execution_count": 77,
      "outputs": [
        {
          "output_type": "stream",
          "text": [
            "\n",
            "training epoch: 0\n",
            "log likelihood: -572073.9375\n",
            "\n",
            "training epoch: 1\n",
            "log likelihood: -524473.0\n",
            "\n",
            "training epoch: 2\n",
            "log likelihood: -523613.78125\n",
            "\n",
            "training epoch: 3\n",
            "log likelihood: -526168.25\n",
            "\n",
            "training epoch: 4\n",
            "log likelihood: -528736.875\n",
            "\n",
            "training epoch: 5\n",
            "log likelihood: -530344.5625\n",
            "\n",
            "training epoch: 6\n",
            "log likelihood: -531521.5\n",
            "\n",
            "training epoch: 7\n",
            "log likelihood: -531846.125\n",
            "\n",
            "training epoch: 8\n",
            "log likelihood: -532626.5\n",
            "\n",
            "training epoch: 9\n",
            "log likelihood: -533012.75\n",
            "\n",
            "training epoch: 10\n",
            "log likelihood: -533220.3125\n",
            "\n",
            "training epoch: 11\n",
            "log likelihood: -532427.5625\n",
            "\n",
            "training epoch: 12\n",
            "log likelihood: -531902.6875\n",
            "\n",
            "training epoch: 13\n",
            "log likelihood: -531325.125\n",
            "\n",
            "training epoch: 14\n",
            "log likelihood: -530571.375\n",
            "\n",
            "training epoch: 15\n",
            "log likelihood: -529767.5\n",
            "\n",
            "training epoch: 16\n",
            "log likelihood: -528649.875\n",
            "\n",
            "training epoch: 17\n",
            "log likelihood: -526964.25\n",
            "\n",
            "training epoch: 18\n",
            "log likelihood: -525803.625\n",
            "\n",
            "training epoch: 19\n",
            "log likelihood: -523906.65625\n",
            "\n",
            "training epoch: 20\n",
            "log likelihood: -521815.46875\n",
            "\n",
            "training epoch: 21\n",
            "log likelihood: -520372.53125\n",
            "\n",
            "training epoch: 22\n",
            "log likelihood: -518691.46875\n",
            "\n",
            "training epoch: 23\n",
            "log likelihood: -516849.84375\n",
            "\n",
            "training epoch: 24\n",
            "log likelihood: -514866.5625\n",
            "\n",
            "training epoch: 25\n",
            "log likelihood: -513689.8125\n",
            "\n",
            "training epoch: 26\n",
            "log likelihood: -512554.03125\n",
            "\n",
            "training epoch: 27\n",
            "log likelihood: -511167.25\n",
            "\n",
            "training epoch: 28\n",
            "log likelihood: -510350.375\n",
            "\n",
            "training epoch: 29\n",
            "log likelihood: -508845.34375\n",
            "CPU times: user 2min 20s, sys: 320 ms, total: 2min 21s\n",
            "Wall time: 2min 20s\n"
          ],
          "name": "stdout"
        }
      ]
    },
    {
      "cell_type": "markdown",
      "metadata": {
        "id": "byvQ5TkFhRGX"
      },
      "source": [
        "# Evaluate"
      ]
    },
    {
      "cell_type": "markdown",
      "metadata": {
        "id": "-1MEmeRQA4XL"
      },
      "source": [
        "## Baseline - popularity"
      ]
    },
    {
      "cell_type": "code",
      "metadata": {
        "id": "EooDZbfMA79I"
      },
      "source": [
        "k=10\n",
        "most_popular = interactions_train.groupby('product_id')['user_id'].count().sort_values(ascending=False)[:k]\n",
        "test_user_items = interactions_test.groupby('user_id')['product_id'].apply(set).to_dict()\n",
        "test_user_items = {key: val for key, val in test_user_items.items() if key in set(train_users)}"
      ],
      "execution_count": 78,
      "outputs": []
    },
    {
      "cell_type": "code",
      "metadata": {
        "id": "KxSdHjGFBIOA",
        "colab": {
          "base_uri": "https://localhost:8080/"
        },
        "outputId": "ab6ab6a7-ffbd-4611-d490-a606440c1c1c"
      },
      "source": [
        "base_hit = np.mean([int(len(set(most_popular.index) & set(val)) > 0) for key, val in test_user_items.items()])\n",
        "base_precision = np.mean([len(set(most_popular.index) & set(val)) / len(set(most_popular.index)) for key, val in test_user_items.items()])\n",
        "\n",
        "print(\"baseline hit rate: {:.3f}\".format(base_hit))\n",
        "print(\"baseline precision: {:.3f}\".format(base_precision))"
      ],
      "execution_count": 79,
      "outputs": [
        {
          "output_type": "stream",
          "text": [
            "baseline hit rate: 0.600\n",
            "baseline precision: 0.132\n"
          ],
          "name": "stdout"
        }
      ]
    },
    {
      "cell_type": "markdown",
      "metadata": {
        "id": "4uvOtUZbFaGa"
      },
      "source": [
        "## RankFM"
      ]
    },
    {
      "cell_type": "code",
      "metadata": {
        "id": "KctX-n_Je4q1",
        "colab": {
          "base_uri": "https://localhost:8080/"
        },
        "outputId": "7b5dc075-5ce9-491a-9a64-55c446b74024"
      },
      "source": [
        "from rankfm.evaluation import hit_rate, precision\n",
        "\n",
        "model_hit = hit_rate(model, interactions_test, k=k)\n",
        "model_precision = precision(model, interactions_test, k=k)\n",
        "\n",
        "\n",
        "print('hit@10: ', model_hit)\n",
        "print('precision@10: ', model_precision)\n"
      ],
      "execution_count": 80,
      "outputs": [
        {
          "output_type": "stream",
          "text": [
            "hit@10:  0.6209271922767498\n",
            "precision@10:  0.1475160901045857\n"
          ],
          "name": "stdout"
        }
      ]
    },
    {
      "cell_type": "markdown",
      "metadata": {
        "id": "izG6HnzYAxUP"
      },
      "source": [
        "There is another popular factorization machine pacakge named: LightFM. \n",
        "Give it a try and comapre precision@10 or hit@10 of the two."
      ]
    },
    {
      "cell_type": "markdown",
      "metadata": {
        "id": "llFXJgS0A3d0"
      },
      "source": [
        "# LightFM"
      ]
    },
    {
      "cell_type": "code",
      "metadata": {
        "id": "2xzO4dflH4ej",
        "colab": {
          "base_uri": "https://localhost:8080/"
        },
        "outputId": "e14d7b5a-6171-4ea2-a31a-427be78b345b"
      },
      "source": [
        "!pip install lightfm==1.16"
      ],
      "execution_count": 37,
      "outputs": [
        {
          "output_type": "stream",
          "text": [
            "Requirement already satisfied: lightfm==1.16 in /usr/local/lib/python3.7/dist-packages (1.16)\n",
            "Requirement already satisfied: scipy>=0.17.0 in /usr/local/lib/python3.7/dist-packages (from lightfm==1.16) (1.4.1)\n",
            "Requirement already satisfied: requests in /usr/local/lib/python3.7/dist-packages (from lightfm==1.16) (2.23.0)\n",
            "Requirement already satisfied: scikit-learn in /usr/local/lib/python3.7/dist-packages (from lightfm==1.16) (0.22.2.post1)\n",
            "Requirement already satisfied: numpy in /usr/local/lib/python3.7/dist-packages (from lightfm==1.16) (1.19.5)\n",
            "Requirement already satisfied: certifi>=2017.4.17 in /usr/local/lib/python3.7/dist-packages (from requests->lightfm==1.16) (2020.12.5)\n",
            "Requirement already satisfied: chardet<4,>=3.0.2 in /usr/local/lib/python3.7/dist-packages (from requests->lightfm==1.16) (3.0.4)\n",
            "Requirement already satisfied: idna<3,>=2.5 in /usr/local/lib/python3.7/dist-packages (from requests->lightfm==1.16) (2.10)\n",
            "Requirement already satisfied: urllib3!=1.25.0,!=1.25.1,<1.26,>=1.21.1 in /usr/local/lib/python3.7/dist-packages (from requests->lightfm==1.16) (1.24.3)\n",
            "Requirement already satisfied: joblib>=0.11 in /usr/local/lib/python3.7/dist-packages (from scikit-learn->lightfm==1.16) (1.0.1)\n"
          ],
          "name": "stdout"
        }
      ]
    },
    {
      "cell_type": "code",
      "metadata": {
        "id": "BhFWnIVDH2Ec"
      },
      "source": [
        "from lightfm.data import Dataset\n",
        "from lightfm import LightFM, evaluation"
      ],
      "execution_count": 38,
      "outputs": []
    },
    {
      "cell_type": "code",
      "metadata": {
        "id": "t0OKyr5tBGB-"
      },
      "source": [
        "# YOUR CODE HERE #"
      ],
      "execution_count": 81,
      "outputs": []
    },
    {
      "cell_type": "markdown",
      "metadata": {
        "id": "XT7Dg8iMBDhA"
      },
      "source": [
        "# Answer"
      ]
    },
    {
      "cell_type": "code",
      "metadata": {
        "id": "cKAfv8pXk1m8",
        "colab": {
          "base_uri": "https://localhost:8080/"
        },
        "outputId": "aac1e940-0d5f-41c3-fbf1-da3ad4f617b7"
      },
      "source": [
        "# all_users = interactions_total.user_id.unique()\n",
        "# all_items = interactions_total.product_id.unique()\n",
        "# print(len(all_users), len(all_items))\n",
        "\n",
        "lfm_dataset = Dataset()\n",
        "lfm_dataset.fit(users=s_users, items=s_items)\n",
        "\n",
        "lfm_interactions, lfm_weights = lfm_dataset.build_interactions(zip(interactions_train['user_id'], interactions_train['product_id'], sample_weight_train))\n",
        "lfm_interactions, lfm_weights"
      ],
      "execution_count": 86,
      "outputs": [
        {
          "output_type": "execute_result",
          "data": {
            "text/plain": [
              "(<20000x41223 sparse matrix of type '<class 'numpy.int32'>'\n",
              " \twith 1093314 stored elements in COOrdinate format>,\n",
              " <20000x41223 sparse matrix of type '<class 'numpy.float32'>'\n",
              " \twith 1093314 stored elements in COOrdinate format>)"
            ]
          },
          "metadata": {
            "tags": []
          },
          "execution_count": 86
        }
      ]
    },
    {
      "cell_type": "code",
      "metadata": {
        "id": "PBzM2qCXHz6M"
      },
      "source": [
        "lfm_model = LightFM(no_components=64, loss='warp', max_sampled=50)"
      ],
      "execution_count": 87,
      "outputs": []
    },
    {
      "cell_type": "code",
      "metadata": {
        "id": "mMZD6YcvIGPh",
        "colab": {
          "base_uri": "https://localhost:8080/"
        },
        "outputId": "da7caa1c-fedb-4bdf-c035-0184eb3e20fe"
      },
      "source": [
        "%%time\n",
        "lfm_model.fit(lfm_interactions, epochs=30, verbose=True)"
      ],
      "execution_count": 88,
      "outputs": [
        {
          "output_type": "stream",
          "text": [
            "\n",
            "Epoch:   0%|          | 0/30 [00:00<?, ?it/s]\u001b[A\n",
            "Epoch:   3%|▎         | 1/30 [00:06<03:04,  6.35s/it]\u001b[A\n",
            "Epoch:   7%|▋         | 2/30 [00:13<03:05,  6.62s/it]\u001b[A\n",
            "Epoch:  10%|█         | 3/30 [00:20<03:04,  6.84s/it]\u001b[A\n",
            "Epoch:  13%|█▎        | 4/30 [00:28<03:02,  7.02s/it]\u001b[A\n",
            "Epoch:  17%|█▋        | 5/30 [00:36<03:00,  7.20s/it]\u001b[A\n",
            "Epoch:  20%|██        | 6/30 [00:43<02:56,  7.34s/it]\u001b[A\n",
            "Epoch:  23%|██▎       | 7/30 [00:51<02:51,  7.46s/it]\u001b[A\n",
            "Epoch:  27%|██▋       | 8/30 [00:59<02:46,  7.59s/it]\u001b[A\n",
            "Epoch:  30%|███       | 9/30 [01:07<02:41,  7.71s/it]\u001b[A\n",
            "Epoch:  33%|███▎      | 10/30 [01:16<02:40,  8.02s/it]\u001b[A\n",
            "Epoch:  37%|███▋      | 11/30 [01:24<02:35,  8.17s/it]\u001b[A\n",
            "Epoch:  40%|████      | 12/30 [01:33<02:28,  8.26s/it]\u001b[A\n",
            "Epoch:  43%|████▎     | 13/30 [01:41<02:21,  8.35s/it]\u001b[A\n",
            "Epoch:  47%|████▋     | 14/30 [01:50<02:14,  8.38s/it]\u001b[A\n",
            "Epoch:  50%|█████     | 15/30 [01:58<02:06,  8.44s/it]\u001b[A\n",
            "Epoch:  53%|█████▎    | 16/30 [02:07<01:58,  8.48s/it]\u001b[A\n",
            "Epoch:  57%|█████▋    | 17/30 [02:16<01:51,  8.60s/it]\u001b[A\n",
            "Epoch:  60%|██████    | 18/30 [02:24<01:43,  8.66s/it]\u001b[A\n",
            "Epoch:  63%|██████▎   | 19/30 [02:33<01:35,  8.70s/it]\u001b[A\n",
            "Epoch:  67%|██████▋   | 20/30 [02:42<01:27,  8.74s/it]\u001b[A\n",
            "Epoch:  70%|███████   | 21/30 [02:51<01:19,  8.81s/it]\u001b[A\n",
            "Epoch:  73%|███████▎  | 22/30 [03:00<01:11,  8.89s/it]\u001b[A\n",
            "Epoch:  77%|███████▋  | 23/30 [03:09<01:02,  8.95s/it]\u001b[A\n",
            "Epoch:  80%|████████  | 24/30 [03:18<00:53,  8.97s/it]\u001b[A\n",
            "Epoch:  83%|████████▎ | 25/30 [03:27<00:45,  9.03s/it]\u001b[A\n",
            "Epoch:  87%|████████▋ | 26/30 [03:36<00:36,  9.07s/it]\u001b[A\n",
            "Epoch:  90%|█████████ | 27/30 [03:46<00:27,  9.10s/it]\u001b[A\n",
            "Epoch:  93%|█████████▎| 28/30 [03:55<00:18,  9.26s/it]\u001b[A\n",
            "Epoch:  97%|█████████▋| 29/30 [04:05<00:09,  9.35s/it]\u001b[A\n",
            "Epoch: 100%|██████████| 30/30 [04:14<00:00,  8.49s/it]"
          ],
          "name": "stderr"
        },
        {
          "output_type": "stream",
          "text": [
            "CPU times: user 4min 14s, sys: 104 ms, total: 4min 14s\n",
            "Wall time: 4min 14s\n"
          ],
          "name": "stdout"
        },
        {
          "output_type": "stream",
          "text": [
            "\n"
          ],
          "name": "stderr"
        },
        {
          "output_type": "execute_result",
          "data": {
            "text/plain": [
              "<lightfm.lightfm.LightFM at 0x7fbaa0cc9d50>"
            ]
          },
          "metadata": {
            "tags": []
          },
          "execution_count": 88
        }
      ]
    },
    {
      "cell_type": "code",
      "metadata": {
        "id": "ybEFNssCIASA"
      },
      "source": [
        "lfm_test_interactions, lfm_test_weights = lfm_dataset.build_interactions(zip(interactions_test['user_id'], interactions_test['product_id']))"
      ],
      "execution_count": 89,
      "outputs": []
    },
    {
      "cell_type": "code",
      "metadata": {
        "id": "Ol_xD-9pIKfA",
        "colab": {
          "base_uri": "https://localhost:8080/"
        },
        "outputId": "decb1391-42cb-4103-ff1a-888de0470f1c"
      },
      "source": [
        "lfm_precision = evaluation.precision_at_k(lfm_model, lfm_test_interactions, k=k).mean()\n",
        "print(\"precision: {:.3f}\".format(lfm_precision))\n"
      ],
      "execution_count": 90,
      "outputs": [
        {
          "output_type": "stream",
          "text": [
            "precision: 0.178\n"
          ],
          "name": "stdout"
        }
      ]
    }
  ]
}